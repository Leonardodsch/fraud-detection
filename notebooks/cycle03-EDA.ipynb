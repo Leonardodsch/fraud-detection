{
 "cells": [
  {
   "cell_type": "markdown",
   "id": "8edb1bdc",
   "metadata": {},
   "source": [
    "# Planejamento da solução"
   ]
  },
  {
   "cell_type": "markdown",
   "id": "1d14a35c",
   "metadata": {},
   "source": [
    "1. Explorar os Dados usando ferramentas e testes Estatísticos com o objetivo de encontrar inconsistências dos dados e tratar possíveis dados faltantes.\n",
    "2. Levantar Hipóteses sobre as características de transações legítimas e fraudulentas, validando ou refutando essas hipóteses através dos dados.\n",
    "3. Preparar os Dados para que os Algoritmos de Machine Learning sejam capazes de aprender a tarefa.\n",
    "4. Treinar e avaliar vários algoritmos Classificadores.\n",
    "5. Contabilizar a Performance do Modelo de Machine Learning e transformar em Performance de Negócio.\n",
    "6. Desenvolver uma API que retorne “Fraude” ou “Legítima” quando receber como entrada uma transação."
   ]
  },
  {
   "cell_type": "markdown",
   "id": "99cef98c",
   "metadata": {},
   "source": [
    "# 0.0 Imports"
   ]
  },
  {
   "cell_type": "code",
   "execution_count": 1,
   "id": "8ac23f9e",
   "metadata": {
    "ExecuteTime": {
     "end_time": "2021-08-19T14:38:38.919411Z",
     "start_time": "2021-08-19T14:38:36.035900Z"
    }
   },
   "outputs": [],
   "source": [
    "import pandas as pd\n",
    "import numpy as np\n",
    "import warnings\n",
    "import seaborn as sns\n",
    "import matplotlib.pyplot as plt\n",
    "from IPython.core.display    import display, HTML\n",
    "from sklearn import metrics as m\n",
    "from sklearn.model_selection import StratifiedKFold"
   ]
  },
  {
   "cell_type": "markdown",
   "id": "060f7262",
   "metadata": {
    "heading_collapsed": true
   },
   "source": [
    "## 0.1 Helper Functions"
   ]
  },
  {
   "cell_type": "code",
   "execution_count": 58,
   "id": "8fbeb248",
   "metadata": {
    "ExecuteTime": {
     "end_time": "2021-08-19T19:36:23.557325Z",
     "start_time": "2021-08-19T19:36:23.353998Z"
    },
    "hidden": true
   },
   "outputs": [
    {
     "name": "stdout",
     "output_type": "stream",
     "text": [
      "Populating the interactive namespace from numpy and matplotlib\n"
     ]
    },
    {
     "data": {
      "text/html": [
       "<style>.container { width:100% !important; }</style>"
      ],
      "text/plain": [
       "<IPython.core.display.HTML object>"
      ]
     },
     "metadata": {},
     "output_type": "display_data"
    }
   ],
   "source": [
    "def jupyter_settings():\n",
    "    %matplotlib inline\n",
    "    %pylab inline\n",
    "    \n",
    "    plt.style.use( 'bmh' )\n",
    "    plt.rcParams['figure.figsize'] = [18, 9]\n",
    "    plt.rcParams['font.size'] = 24\n",
    "    plt.rcParams[\"patch.force_edgecolor\"] = True\n",
    "    plt.rcParams['patch.edgecolor'] = 'black'\n",
    "    display( HTML( '<style>.container { width:100% !important; }</style>') )\n",
    "    pd.options.display.max_columns = None\n",
    "    pd.options.display.max_rows = None\n",
    "    pd.set_option( 'display.expand_frame_repr', False )\n",
    "    pd.set_option('display.float_format', lambda x: '%.3f' % x)\n",
    "    warnings.filterwarnings('ignore')\n",
    "    sns.set()\n",
    "    \n",
    "jupyter_settings()\n",
    "\n",
    "def cross_validation(model_name, model, x, y):\n",
    "    \n",
    "    x = x.to_numpy()\n",
    "    y = y.to_numpy()\n",
    "    \n",
    "    \n",
    "    balanced_accuracy = []\n",
    "    precision = []\n",
    "    recall = []\n",
    "    f1 = []\n",
    "    \n",
    "    skf = StratifiedKFold(n_splits=5, shuffle=True, random_state=42)\n",
    "    \n",
    "    for train_index, test_index in skf.split(x, y):\n",
    "        x_train_cv, x_test_cv = x[train_index], x[test_index]\n",
    "        y_train_cv, y_test_cv = y[train_index], y[test_index]\n",
    "        \n",
    "        \n",
    "        model.fit(x_train_cv, y_train_cv)\n",
    "        pred = model.predict(x_test_cv)\n",
    "\n",
    "        balanced_accuracy.append(m.balanced_accuracy_score(y_test_cv, pred))\n",
    "        precision.append(m.precision_score(y_test_cv, pred))\n",
    "        recall.append(m.recall_score(y_test_cv, pred))\n",
    "        f1.append(m.f1_score(y_test_cv, pred))\n",
    "\n",
    "    \n",
    "    acurracy_mean, acurracy_std = np.round(np.mean(balanced_accuracy), 2), np.round(np.std(balanced_accuracy),2)\n",
    "    precision_mean, precision_std = np.round(np.mean(precision),2), np.round(np.std(precision),2)\n",
    "    recall_mean, recall_std = np.round(np.mean(recall),2), np.round(np.std(recall),2)\n",
    "    f1_mean, f1_std = np.round(np.mean(f1),2), np.round(np.std(f1),2)\n",
    "    \n",
    "    \n",
    "    return pd.DataFrame({\"Balanced Accuracy\": \"{} +/- {}\".format(acurracy_mean, acurracy_std),\n",
    "                        \"Precision\": \"{} +/- {}\".format(precision_mean, precision_std),\n",
    "                        \"Recall\": \"{} +/- {}\".format(recall_mean, recall_std),\n",
    "                        \"F1\": \"{} +/- {}\".format(f1_mean, f1_std)}, index=[model_name])\n",
    "\n",
    "def ml_metrics(model_name, y_true, pred):\n",
    "    \n",
    "    accuracy = m.balanced_accuracy_score(y_true, pred)\n",
    "    precision = m.precision_score(y_true, pred)\n",
    "    recall = m.recall_score(y_true, pred)\n",
    "    f1 = m.f1_score(y_true, pred)\n",
    "    \n",
    "    return pd.DataFrame({'Balanced Accuracy': np.round(accuracy, 2), \n",
    "                         'Precision': np.round(precision, 2), \n",
    "                         'Recall': np.round(recall, 2),\n",
    "                         'F1': np.round(f1, 2)}, index=[model_name])\n",
    "\n",
    "\n",
    "def frequency_encoding(df, column):\n",
    "    encoder = df.groupby(column).size()/len(df)\n",
    "    return encoder"
   ]
  },
  {
   "cell_type": "markdown",
   "id": "44468811",
   "metadata": {
    "heading_collapsed": true
   },
   "source": [
    "## 0.2 Loading Data"
   ]
  },
  {
   "cell_type": "code",
   "execution_count": 3,
   "id": "ff3f1507",
   "metadata": {
    "ExecuteTime": {
     "end_time": "2021-08-19T14:38:40.495153Z",
     "start_time": "2021-08-19T14:38:38.984176Z"
    },
    "hidden": true
   },
   "outputs": [],
   "source": [
    "df_raw = pd.read_csv('../data/fraud_detection-dataset.csv', low_memory=False)"
   ]
  },
  {
   "cell_type": "code",
   "execution_count": 4,
   "id": "4c5f793e",
   "metadata": {
    "ExecuteTime": {
     "end_time": "2021-08-19T14:38:40.572920Z",
     "start_time": "2021-08-19T14:38:40.495153Z"
    },
    "hidden": true
   },
   "outputs": [],
   "source": [
    "df_raw.drop(columns='Unnamed: 0', inplace=True)"
   ]
  },
  {
   "cell_type": "code",
   "execution_count": 5,
   "id": "e99bb022",
   "metadata": {
    "ExecuteTime": {
     "end_time": "2021-08-19T14:38:40.620492Z",
     "start_time": "2021-08-19T14:38:40.573920Z"
    },
    "hidden": true
   },
   "outputs": [
    {
     "data": {
      "text/html": [
       "<div>\n",
       "<style scoped>\n",
       "    .dataframe tbody tr th:only-of-type {\n",
       "        vertical-align: middle;\n",
       "    }\n",
       "\n",
       "    .dataframe tbody tr th {\n",
       "        vertical-align: top;\n",
       "    }\n",
       "\n",
       "    .dataframe thead th {\n",
       "        text-align: right;\n",
       "    }\n",
       "</style>\n",
       "<table border=\"1\" class=\"dataframe\">\n",
       "  <thead>\n",
       "    <tr style=\"text-align: right;\">\n",
       "      <th></th>\n",
       "      <th>step</th>\n",
       "      <th>type</th>\n",
       "      <th>amount</th>\n",
       "      <th>nameOrig</th>\n",
       "      <th>oldbalanceOrg</th>\n",
       "      <th>newbalanceOrig</th>\n",
       "      <th>nameDest</th>\n",
       "      <th>oldbalanceDest</th>\n",
       "      <th>newbalanceDest</th>\n",
       "      <th>isFlaggedFraud</th>\n",
       "      <th>isFraud</th>\n",
       "    </tr>\n",
       "  </thead>\n",
       "  <tbody>\n",
       "    <tr>\n",
       "      <th>0</th>\n",
       "      <td>353</td>\n",
       "      <td>CASH_OUT</td>\n",
       "      <td>150540.160</td>\n",
       "      <td>C1389413404</td>\n",
       "      <td>9912.000</td>\n",
       "      <td>0.000</td>\n",
       "      <td>C819390946</td>\n",
       "      <td>29817.590</td>\n",
       "      <td>180357.750</td>\n",
       "      <td>0</td>\n",
       "      <td>0</td>\n",
       "    </tr>\n",
       "    <tr>\n",
       "      <th>1</th>\n",
       "      <td>282</td>\n",
       "      <td>CASH_OUT</td>\n",
       "      <td>66723.640</td>\n",
       "      <td>C958468196</td>\n",
       "      <td>0.000</td>\n",
       "      <td>0.000</td>\n",
       "      <td>C257205272</td>\n",
       "      <td>1136277.810</td>\n",
       "      <td>1203001.450</td>\n",
       "      <td>0</td>\n",
       "      <td>0</td>\n",
       "    </tr>\n",
       "    <tr>\n",
       "      <th>2</th>\n",
       "      <td>228</td>\n",
       "      <td>TRANSFER</td>\n",
       "      <td>1039375.010</td>\n",
       "      <td>C857481806</td>\n",
       "      <td>2328.000</td>\n",
       "      <td>0.000</td>\n",
       "      <td>C134214261</td>\n",
       "      <td>437583.330</td>\n",
       "      <td>1476958.340</td>\n",
       "      <td>0</td>\n",
       "      <td>0</td>\n",
       "    </tr>\n",
       "    <tr>\n",
       "      <th>3</th>\n",
       "      <td>36</td>\n",
       "      <td>PAYMENT</td>\n",
       "      <td>9178.610</td>\n",
       "      <td>C558963849</td>\n",
       "      <td>96237.620</td>\n",
       "      <td>87059.010</td>\n",
       "      <td>M635090135</td>\n",
       "      <td>0.000</td>\n",
       "      <td>0.000</td>\n",
       "      <td>0</td>\n",
       "      <td>0</td>\n",
       "    </tr>\n",
       "    <tr>\n",
       "      <th>4</th>\n",
       "      <td>48</td>\n",
       "      <td>PAYMENT</td>\n",
       "      <td>4527.240</td>\n",
       "      <td>C1644082954</td>\n",
       "      <td>51925.000</td>\n",
       "      <td>47397.760</td>\n",
       "      <td>M332145827</td>\n",
       "      <td>0.000</td>\n",
       "      <td>0.000</td>\n",
       "      <td>0</td>\n",
       "      <td>0</td>\n",
       "    </tr>\n",
       "  </tbody>\n",
       "</table>\n",
       "</div>"
      ],
      "text/plain": [
       "   step      type      amount     nameOrig  oldbalanceOrg  newbalanceOrig    nameDest  oldbalanceDest  newbalanceDest  isFlaggedFraud  isFraud\n",
       "0   353  CASH_OUT  150540.160  C1389413404       9912.000           0.000  C819390946       29817.590      180357.750               0        0\n",
       "1   282  CASH_OUT   66723.640   C958468196          0.000           0.000  C257205272     1136277.810     1203001.450               0        0\n",
       "2   228  TRANSFER 1039375.010   C857481806       2328.000           0.000  C134214261      437583.330     1476958.340               0        0\n",
       "3    36   PAYMENT    9178.610   C558963849      96237.620       87059.010  M635090135           0.000           0.000               0        0\n",
       "4    48   PAYMENT    4527.240  C1644082954      51925.000       47397.760  M332145827           0.000           0.000               0        0"
      ]
     },
     "execution_count": 5,
     "metadata": {},
     "output_type": "execute_result"
    }
   ],
   "source": [
    "df_raw.head()"
   ]
  },
  {
   "cell_type": "markdown",
   "id": "dddb3df9",
   "metadata": {
    "heading_collapsed": true
   },
   "source": [
    "# 1.0 Data Description"
   ]
  },
  {
   "cell_type": "code",
   "execution_count": 6,
   "id": "d8c39437",
   "metadata": {
    "ExecuteTime": {
     "end_time": "2021-08-19T14:38:40.666319Z",
     "start_time": "2021-08-19T14:38:40.622334Z"
    },
    "hidden": true
   },
   "outputs": [],
   "source": [
    "df1 = df_raw.copy()"
   ]
  },
  {
   "cell_type": "markdown",
   "id": "fad2a150",
   "metadata": {
    "hidden": true
   },
   "source": [
    "- **step** - mapeia uma unidade de tempo no mundo real. Neste caso, 1 etapa corresponde a 1 hora de tempo. Total de etapas 744 (simulação de 30 dias).\n",
    "\n",
    "- **type** - CASH-IN, CASH-OUT, DEBIT, PAYMENT and TRANSFER.\n",
    "\n",
    "- **amount** - valor da transação em moeda local.\n",
    "\n",
    "- **nameOrig** - cliente que iniciou a transação\n",
    "\n",
    "- **oldbalanceOrg** - saldo inicial antes da transação\n",
    "\n",
    "- **newbalanceOrig** - saldo após a transação\n",
    "\n",
    "- **nameDest** - cliente que é o destinatário da transação\n",
    "\n",
    "- **oldbalanceDest** - destinatário do saldo inicial antes da transação. Observe que não há informações para clientes que começam com M (Merchants).\n",
    "\n",
    "- **newbalanceDest** - novo destinatário do saldo após a transação. Observe que não há informações para clientes que começam com  M (Merchants).\n",
    "\n",
    "- **isFraud** - São as transações feitas pelos agentes fraudulentos dentro da simulação. Neste conjunto de dados específico, o comportamento fraudulento dos agentes visa lucrar ao assumir o controle das contas dos clientes e tentar esvaziar os fundos transferindo para outra conta e retirando do sistema.\n",
    "\n",
    "- **isFlaggedFraud** - O modelo de negócios visa controlar as transferências em massa de uma conta para outra e sinaliza tentativas ilegais. Uma tentativa ilegal neste conjunto de dados é uma tentativa de transferir mais de 200.000 em uma única transação."
   ]
  },
  {
   "cell_type": "markdown",
   "id": "9558cbf5",
   "metadata": {
    "hidden": true
   },
   "source": [
    "## 1.1 Data Dimensions"
   ]
  },
  {
   "cell_type": "code",
   "execution_count": 7,
   "id": "c6a5b355",
   "metadata": {
    "ExecuteTime": {
     "end_time": "2021-08-19T14:38:40.682129Z",
     "start_time": "2021-08-19T14:38:40.667314Z"
    },
    "hidden": true
   },
   "outputs": [
    {
     "data": {
      "text/plain": [
       "(636262, 11)"
      ]
     },
     "execution_count": 7,
     "metadata": {},
     "output_type": "execute_result"
    }
   ],
   "source": [
    "df1.shape"
   ]
  },
  {
   "cell_type": "markdown",
   "id": "1949e029",
   "metadata": {
    "hidden": true
   },
   "source": [
    "## 1.2 Rename Columns"
   ]
  },
  {
   "cell_type": "code",
   "execution_count": 8,
   "id": "6857174a",
   "metadata": {
    "ExecuteTime": {
     "end_time": "2021-08-19T14:38:40.697839Z",
     "start_time": "2021-08-19T14:38:40.687128Z"
    },
    "hidden": true
   },
   "outputs": [],
   "source": [
    "cols_new = ['step', 'type', 'amount', 'name_orig', 'old_balance_org', 'new_balance_orig',\n",
    "       'name_dest', 'old_balance_dest', 'new_balance_dest', 'is_flagged_fraud',\n",
    "       'is_fraud']\n",
    "\n",
    "df1.columns = cols_new"
   ]
  },
  {
   "cell_type": "markdown",
   "id": "75471644",
   "metadata": {
    "hidden": true
   },
   "source": [
    "## 1.3 Data Types"
   ]
  },
  {
   "cell_type": "code",
   "execution_count": 9,
   "id": "a1c535e8",
   "metadata": {
    "ExecuteTime": {
     "end_time": "2021-08-19T14:38:40.714323Z",
     "start_time": "2021-08-19T14:38:40.699839Z"
    },
    "hidden": true
   },
   "outputs": [
    {
     "data": {
      "text/plain": [
       "step                  int64\n",
       "type                 object\n",
       "amount              float64\n",
       "name_orig            object\n",
       "old_balance_org     float64\n",
       "new_balance_orig    float64\n",
       "name_dest            object\n",
       "old_balance_dest    float64\n",
       "new_balance_dest    float64\n",
       "is_flagged_fraud      int64\n",
       "is_fraud              int64\n",
       "dtype: object"
      ]
     },
     "execution_count": 9,
     "metadata": {},
     "output_type": "execute_result"
    }
   ],
   "source": [
    "df1.dtypes"
   ]
  },
  {
   "cell_type": "markdown",
   "id": "0bfc9738",
   "metadata": {
    "hidden": true
   },
   "source": [
    "## 1.4 Check Na"
   ]
  },
  {
   "cell_type": "code",
   "execution_count": 10,
   "id": "396827a4",
   "metadata": {
    "ExecuteTime": {
     "end_time": "2021-08-19T14:38:40.855557Z",
     "start_time": "2021-08-19T14:38:40.716488Z"
    },
    "hidden": true
   },
   "outputs": [
    {
     "data": {
      "text/plain": [
       "step                0\n",
       "type                0\n",
       "amount              0\n",
       "name_orig           0\n",
       "old_balance_org     0\n",
       "new_balance_orig    0\n",
       "name_dest           0\n",
       "old_balance_dest    0\n",
       "new_balance_dest    0\n",
       "is_flagged_fraud    0\n",
       "is_fraud            0\n",
       "dtype: int64"
      ]
     },
     "execution_count": 10,
     "metadata": {},
     "output_type": "execute_result"
    }
   ],
   "source": [
    "df1.isna().sum()"
   ]
  },
  {
   "cell_type": "markdown",
   "id": "01df2d14",
   "metadata": {
    "hidden": true
   },
   "source": [
    "## 1.5 Fillout Na"
   ]
  },
  {
   "cell_type": "markdown",
   "id": "abed22ab",
   "metadata": {
    "hidden": true
   },
   "source": [
    "There are not Nan values in the dataset"
   ]
  },
  {
   "cell_type": "markdown",
   "id": "5c6e0f8a",
   "metadata": {
    "hidden": true
   },
   "source": [
    "## 1.6 Change Types"
   ]
  },
  {
   "cell_type": "code",
   "execution_count": 11,
   "id": "459fb47c",
   "metadata": {
    "ExecuteTime": {
     "end_time": "2021-08-19T14:38:40.885928Z",
     "start_time": "2021-08-19T14:38:40.857557Z"
    },
    "hidden": true
   },
   "outputs": [],
   "source": [
    "df1['is_flagged_fraud'] = df1['is_flagged_fraud'].astype('int8')\n",
    "df1['is_fraud'] = df1['is_fraud'].astype('int8')\n",
    "df1['step'] = df1['step'].astype('int16')"
   ]
  },
  {
   "cell_type": "markdown",
   "id": "341b9579",
   "metadata": {
    "hidden": true
   },
   "source": [
    "## 1.7 Descriptive Statistical"
   ]
  },
  {
   "cell_type": "markdown",
   "id": "2722f0cb",
   "metadata": {
    "hidden": true
   },
   "source": [
    "### 1.7.1 Numerical Atributes"
   ]
  },
  {
   "cell_type": "code",
   "execution_count": 12,
   "id": "58644fab",
   "metadata": {
    "ExecuteTime": {
     "end_time": "2021-08-19T14:38:41.250928Z",
     "start_time": "2021-08-19T14:38:40.886928Z"
    },
    "hidden": true
   },
   "outputs": [],
   "source": [
    "# Central tendecy - mean, median\n",
    "# Dispersion - std, min, max, skew, kurtosis\n",
    "skew = df1.skew()\n",
    "kurtosis = df1.kurtosis()"
   ]
  },
  {
   "cell_type": "code",
   "execution_count": 13,
   "id": "a3f31af1",
   "metadata": {
    "ExecuteTime": {
     "end_time": "2021-08-19T14:38:41.441204Z",
     "start_time": "2021-08-19T14:38:41.252000Z"
    },
    "hidden": true
   },
   "outputs": [
    {
     "data": {
      "text/html": [
       "<div>\n",
       "<style scoped>\n",
       "    .dataframe tbody tr th:only-of-type {\n",
       "        vertical-align: middle;\n",
       "    }\n",
       "\n",
       "    .dataframe tbody tr th {\n",
       "        vertical-align: top;\n",
       "    }\n",
       "\n",
       "    .dataframe thead th {\n",
       "        text-align: right;\n",
       "    }\n",
       "</style>\n",
       "<table border=\"1\" class=\"dataframe\">\n",
       "  <thead>\n",
       "    <tr style=\"text-align: right;\">\n",
       "      <th></th>\n",
       "      <th>Mean</th>\n",
       "      <th>STD</th>\n",
       "      <th>Min</th>\n",
       "      <th>Median</th>\n",
       "      <th>Max</th>\n",
       "      <th>Skew</th>\n",
       "      <th>Kurtosis</th>\n",
       "    </tr>\n",
       "  </thead>\n",
       "  <tbody>\n",
       "    <tr>\n",
       "      <th>step</th>\n",
       "      <td>243.602</td>\n",
       "      <td>142.398</td>\n",
       "      <td>1.000</td>\n",
       "      <td>241.000</td>\n",
       "      <td>743.000</td>\n",
       "      <td>0.369</td>\n",
       "      <td>0.316</td>\n",
       "    </tr>\n",
       "    <tr>\n",
       "      <th>amount</th>\n",
       "      <td>180035.707</td>\n",
       "      <td>600588.416</td>\n",
       "      <td>0.000</td>\n",
       "      <td>74896.380</td>\n",
       "      <td>69886731.300</td>\n",
       "      <td>30.744</td>\n",
       "      <td>1757.616</td>\n",
       "    </tr>\n",
       "    <tr>\n",
       "      <th>old_balance_org</th>\n",
       "      <td>838195.682</td>\n",
       "      <td>2900800.457</td>\n",
       "      <td>0.000</td>\n",
       "      <td>14057.340</td>\n",
       "      <td>59585040.370</td>\n",
       "      <td>5.248</td>\n",
       "      <td>33.096</td>\n",
       "    </tr>\n",
       "    <tr>\n",
       "      <th>new_balance_orig</th>\n",
       "      <td>859357.665</td>\n",
       "      <td>2935834.207</td>\n",
       "      <td>0.000</td>\n",
       "      <td>0.000</td>\n",
       "      <td>49585040.370</td>\n",
       "      <td>5.172</td>\n",
       "      <td>32.038</td>\n",
       "    </tr>\n",
       "    <tr>\n",
       "      <th>old_balance_dest</th>\n",
       "      <td>1106841.080</td>\n",
       "      <td>3486732.494</td>\n",
       "      <td>0.000</td>\n",
       "      <td>132774.340</td>\n",
       "      <td>355381433.610</td>\n",
       "      <td>21.979</td>\n",
       "      <td>1164.214</td>\n",
       "    </tr>\n",
       "    <tr>\n",
       "      <th>new_balance_dest</th>\n",
       "      <td>1230661.224</td>\n",
       "      <td>3754355.690</td>\n",
       "      <td>0.000</td>\n",
       "      <td>215337.580</td>\n",
       "      <td>355380483.530</td>\n",
       "      <td>21.226</td>\n",
       "      <td>1048.217</td>\n",
       "    </tr>\n",
       "    <tr>\n",
       "      <th>is_flagged_fraud</th>\n",
       "      <td>0.000</td>\n",
       "      <td>0.003</td>\n",
       "      <td>0.000</td>\n",
       "      <td>0.000</td>\n",
       "      <td>1.000</td>\n",
       "      <td>398.827</td>\n",
       "      <td>159061.750</td>\n",
       "    </tr>\n",
       "    <tr>\n",
       "      <th>is_fraud</th>\n",
       "      <td>0.001</td>\n",
       "      <td>0.036</td>\n",
       "      <td>0.000</td>\n",
       "      <td>0.000</td>\n",
       "      <td>1.000</td>\n",
       "      <td>27.785</td>\n",
       "      <td>769.992</td>\n",
       "    </tr>\n",
       "  </tbody>\n",
       "</table>\n",
       "</div>"
      ],
      "text/plain": [
       "                        Mean         STD   Min     Median           Max    Skew   Kurtosis\n",
       "step                 243.602     142.398 1.000    241.000       743.000   0.369      0.316\n",
       "amount            180035.707  600588.416 0.000  74896.380  69886731.300  30.744   1757.616\n",
       "old_balance_org   838195.682 2900800.457 0.000  14057.340  59585040.370   5.248     33.096\n",
       "new_balance_orig  859357.665 2935834.207 0.000      0.000  49585040.370   5.172     32.038\n",
       "old_balance_dest 1106841.080 3486732.494 0.000 132774.340 355381433.610  21.979   1164.214\n",
       "new_balance_dest 1230661.224 3754355.690 0.000 215337.580 355380483.530  21.226   1048.217\n",
       "is_flagged_fraud       0.000       0.003 0.000      0.000         1.000 398.827 159061.750\n",
       "is_fraud               0.001       0.036 0.000      0.000         1.000  27.785    769.992"
      ]
     },
     "execution_count": 13,
     "metadata": {},
     "output_type": "execute_result"
    }
   ],
   "source": [
    "metrics = pd.DataFrame(df1.describe().drop(['count','25%','75%']).T)\n",
    "metrics = pd.concat([metrics, skew, kurtosis], axis=1)\n",
    "metrics.columns = ['Mean','STD','Min','Median','Max',' Skew','Kurtosis']\n",
    "metrics"
   ]
  },
  {
   "cell_type": "markdown",
   "id": "ddfd7340",
   "metadata": {
    "hidden": true
   },
   "source": [
    "### 1.7.2 Categorical Atributes"
   ]
  },
  {
   "cell_type": "code",
   "execution_count": 14,
   "id": "8041a368",
   "metadata": {
    "ExecuteTime": {
     "end_time": "2021-08-19T14:38:41.847802Z",
     "start_time": "2021-08-19T14:38:41.442192Z"
    },
    "hidden": true
   },
   "outputs": [
    {
     "data": {
      "text/plain": [
       "type              5\n",
       "name_orig    636170\n",
       "name_dest    457297\n",
       "dtype: int64"
      ]
     },
     "execution_count": 14,
     "metadata": {},
     "output_type": "execute_result"
    }
   ],
   "source": [
    "cat_attributes = df1.select_dtypes(include=['object'])\n",
    "cat_attributes.apply(lambda x: x.unique().shape[0])"
   ]
  },
  {
   "cell_type": "code",
   "execution_count": 15,
   "id": "3e91a9cf",
   "metadata": {
    "ExecuteTime": {
     "end_time": "2021-08-19T14:38:42.920233Z",
     "start_time": "2021-08-19T14:38:41.848735Z"
    },
    "hidden": true
   },
   "outputs": [
    {
     "data": {
      "text/html": [
       "<div>\n",
       "<style scoped>\n",
       "    .dataframe tbody tr th:only-of-type {\n",
       "        vertical-align: middle;\n",
       "    }\n",
       "\n",
       "    .dataframe tbody tr th {\n",
       "        vertical-align: top;\n",
       "    }\n",
       "\n",
       "    .dataframe thead th {\n",
       "        text-align: right;\n",
       "    }\n",
       "</style>\n",
       "<table border=\"1\" class=\"dataframe\">\n",
       "  <thead>\n",
       "    <tr style=\"text-align: right;\">\n",
       "      <th></th>\n",
       "      <th>type</th>\n",
       "      <th>name_orig</th>\n",
       "      <th>name_dest</th>\n",
       "    </tr>\n",
       "  </thead>\n",
       "  <tbody>\n",
       "    <tr>\n",
       "      <th>count</th>\n",
       "      <td>636262</td>\n",
       "      <td>636262</td>\n",
       "      <td>636262</td>\n",
       "    </tr>\n",
       "    <tr>\n",
       "      <th>unique</th>\n",
       "      <td>5</td>\n",
       "      <td>636170</td>\n",
       "      <td>457297</td>\n",
       "    </tr>\n",
       "    <tr>\n",
       "      <th>top</th>\n",
       "      <td>CASH_OUT</td>\n",
       "      <td>C614361611</td>\n",
       "      <td>C248609774</td>\n",
       "    </tr>\n",
       "    <tr>\n",
       "      <th>freq</th>\n",
       "      <td>223667</td>\n",
       "      <td>2</td>\n",
       "      <td>16</td>\n",
       "    </tr>\n",
       "  </tbody>\n",
       "</table>\n",
       "</div>"
      ],
      "text/plain": [
       "            type   name_orig   name_dest\n",
       "count     636262      636262      636262\n",
       "unique         5      636170      457297\n",
       "top     CASH_OUT  C614361611  C248609774\n",
       "freq      223667           2          16"
      ]
     },
     "execution_count": 15,
     "metadata": {},
     "output_type": "execute_result"
    }
   ],
   "source": [
    "cat_attributes.describe()"
   ]
  },
  {
   "cell_type": "markdown",
   "id": "b2666071",
   "metadata": {},
   "source": [
    "# 2.0 feature Engineering"
   ]
  },
  {
   "cell_type": "code",
   "execution_count": 16,
   "id": "fffc4aea",
   "metadata": {
    "ExecuteTime": {
     "end_time": "2021-08-19T14:38:42.951479Z",
     "start_time": "2021-08-19T14:38:42.921958Z"
    }
   },
   "outputs": [],
   "source": [
    "df2 = df1.copy()"
   ]
  },
  {
   "cell_type": "markdown",
   "id": "a09f7317",
   "metadata": {
    "heading_collapsed": true
   },
   "source": [
    "## 2.1 Feature creation"
   ]
  },
  {
   "cell_type": "code",
   "execution_count": 17,
   "id": "98da861a",
   "metadata": {
    "ExecuteTime": {
     "end_time": "2021-08-19T14:38:43.200965Z",
     "start_time": "2021-08-19T14:38:42.954436Z"
    },
    "hidden": true
   },
   "outputs": [],
   "source": [
    "# create column turning step into days\n",
    "df2['days'] = df2['step'].apply(lambda x:  x/24 if x > 24 else 1)\n",
    "\n",
    "# calculate difference between new balance and old balance ( orig and destination)\n",
    "df2['dif_balance_orig'] =   df2['new_balance_orig'] - df2['old_balance_org']\n",
    "df2['dif_balance_dest'] = df2['new_balance_dest'] -  df2['old_balance_dest'] "
   ]
  },
  {
   "cell_type": "markdown",
   "id": "40a1d3cb",
   "metadata": {},
   "source": [
    "## 2.2 Hypotheses List"
   ]
  },
  {
   "cell_type": "markdown",
   "id": "1394f412",
   "metadata": {},
   "source": [
    "H1. Valores de transação maiores de 10 milhões possuem uma média maior de fruades.\n",
    "\n",
    "H2. Operações do tipo CASH OUT tem em média 20% mais fraudes.\n",
    "\n",
    "H3. Operações realizadas nos 15 primeiros dias tem em media mais fraudes.\n",
    "\n",
    "H4. Clientes que realizam alguma opção de retirada de dinheiro da conta (CASH OUT, TRANSFER) e possuem saldo menor do que o valor retirado possuem em média um maior número de fraudes.\n",
    "\n",
    "H5. Clientes de destino que tinham saldo 0 e após uma transferência continuaram com saldo 0 tem em média 30% a mais de fraudes"
   ]
  },
  {
   "cell_type": "markdown",
   "id": "eb147a39",
   "metadata": {},
   "source": [
    "# 3.0 Variable Filtering"
   ]
  },
  {
   "cell_type": "code",
   "execution_count": 18,
   "id": "ec96dd03",
   "metadata": {
    "ExecuteTime": {
     "end_time": "2021-08-19T14:38:43.247240Z",
     "start_time": "2021-08-19T14:38:43.202969Z"
    }
   },
   "outputs": [],
   "source": [
    "df3 = df2.copy()"
   ]
  },
  {
   "cell_type": "code",
   "execution_count": 19,
   "id": "c71d5985",
   "metadata": {
    "ExecuteTime": {
     "end_time": "2021-08-19T14:38:43.262560Z",
     "start_time": "2021-08-19T14:38:43.249151Z"
    }
   },
   "outputs": [],
   "source": [
    "#df3.drop(columns=['name_orig', 'name_dest'], axis=1, inplace=True)"
   ]
  },
  {
   "cell_type": "markdown",
   "id": "0a81f1f0",
   "metadata": {},
   "source": [
    "# 4.0 EDA"
   ]
  },
  {
   "cell_type": "code",
   "execution_count": 20,
   "id": "5c8f70b6",
   "metadata": {
    "ExecuteTime": {
     "end_time": "2021-08-19T14:38:43.293911Z",
     "start_time": "2021-08-19T14:38:43.263483Z"
    }
   },
   "outputs": [],
   "source": [
    "df4 = df3.copy()"
   ]
  },
  {
   "cell_type": "markdown",
   "id": "4aa2c888",
   "metadata": {},
   "source": [
    "### Pandas Profiling"
   ]
  },
  {
   "cell_type": "code",
   "execution_count": 21,
   "id": "37330c0f",
   "metadata": {
    "ExecuteTime": {
     "end_time": "2021-08-19T14:38:44.194614Z",
     "start_time": "2021-08-19T14:38:43.295655Z"
    }
   },
   "outputs": [],
   "source": [
    "from pandas_profiling import ProfileReport"
   ]
  },
  {
   "cell_type": "code",
   "execution_count": 22,
   "id": "b952f2d3",
   "metadata": {
    "ExecuteTime": {
     "end_time": "2021-08-19T14:38:44.210210Z",
     "start_time": "2021-08-19T14:38:44.196185Z"
    }
   },
   "outputs": [],
   "source": [
    "#report = ProfileReport(df4, title='Pandas Profiling Report')"
   ]
  },
  {
   "cell_type": "code",
   "execution_count": 23,
   "id": "37a8404b",
   "metadata": {
    "ExecuteTime": {
     "end_time": "2021-08-19T14:38:44.241889Z",
     "start_time": "2021-08-19T14:38:44.213166Z"
    }
   },
   "outputs": [],
   "source": [
    "#report.to_file('report.html')"
   ]
  },
  {
   "cell_type": "markdown",
   "id": "794b42ed",
   "metadata": {},
   "source": [
    "## 4.1 Univariate Analysis"
   ]
  },
  {
   "cell_type": "markdown",
   "id": "1313b5cb",
   "metadata": {
    "heading_collapsed": true
   },
   "source": [
    "### 4.1.1 Response Variable"
   ]
  },
  {
   "cell_type": "code",
   "execution_count": 24,
   "id": "116fc35a",
   "metadata": {
    "ExecuteTime": {
     "end_time": "2021-08-19T14:38:44.583328Z",
     "start_time": "2021-08-19T14:38:44.242851Z"
    },
    "hidden": true
   },
   "outputs": [
    {
     "data": {
      "image/png": "[encoded data removed]",
      "text/plain": [
       "<Figure size 1296x648 with 1 Axes>"
      ]
     },
     "metadata": {},
     "output_type": "display_data"
    }
   ],
   "source": [
    "sns.countplot(df4['is_fraud']);"
   ]
  },
  {
   "cell_type": "markdown",
   "id": "c1808778",
   "metadata": {
    "hidden": true
   },
   "source": [
    "Como é perceptível a classe target é extremamente desbalanceada, os devidos tratamentos, se necessários, serão feitos em etapas futuras\n"
   ]
  },
  {
   "cell_type": "markdown",
   "id": "5f4edc0a",
   "metadata": {
    "heading_collapsed": true
   },
   "source": [
    "### 4.1.2 Numerical variables"
   ]
  },
  {
   "cell_type": "code",
   "execution_count": 25,
   "id": "77381c6a",
   "metadata": {
    "ExecuteTime": {
     "end_time": "2021-08-19T14:38:46.920325Z",
     "start_time": "2021-08-19T14:38:44.585387Z"
    },
    "hidden": true
   },
   "outputs": [
    {
     "data": {
      "image/png": "[encoded data removed]",
      "text/plain": [
       "<Figure size 1440x720 with 12 Axes>"
      ]
     },
     "metadata": {},
     "output_type": "display_data"
    }
   ],
   "source": [
    "num_atributes = df4.select_dtypes(exclude='object')\n",
    "num_atributes.hist(figsize=(20,10), bins=25);\n",
    "plt.tight_layout()"
   ]
  },
  {
   "cell_type": "code",
   "execution_count": 26,
   "id": "ea59b486",
   "metadata": {
    "ExecuteTime": {
     "end_time": "2021-08-19T14:38:47.200842Z",
     "start_time": "2021-08-19T14:38:46.922021Z"
    },
    "hidden": true,
    "scrolled": false
   },
   "outputs": [
    {
     "data": {
      "text/plain": [
       "<AxesSubplot:xlabel='amount'>"
      ]
     },
     "execution_count": 26,
     "metadata": {},
     "output_type": "execute_result"
    },
    {
     "data": {
      "image/png": "[encoded data removed]",
      "text/plain": [
       "<Figure size 1296x648 with 1 Axes>"
      ]
     },
     "metadata": {},
     "output_type": "display_data"
    }
   ],
   "source": [
    "# amount - verificar valores acima de 52 milhoes\n",
    "sns.boxplot(df4['amount'])"
   ]
  },
  {
   "cell_type": "code",
   "execution_count": 27,
   "id": "05a6885c",
   "metadata": {
    "ExecuteTime": {
     "end_time": "2021-08-19T14:38:47.643286Z",
     "start_time": "2021-08-19T14:38:47.202077Z"
    },
    "hidden": true
   },
   "outputs": [
    {
     "data": {
      "image/png": "[encoded data removed]",
      "text/plain": [
       "<Figure size 1296x648 with 1 Axes>"
      ]
     },
     "metadata": {},
     "output_type": "display_data"
    }
   ],
   "source": [
    "# old balance org \n",
    "sns.boxplot(df4['old_balance_org']);"
   ]
  },
  {
   "cell_type": "markdown",
   "id": "e4343082",
   "metadata": {
    "hidden": true
   },
   "source": [
    "Os dois valores acima de 38 milhões foram detectados como fraude"
   ]
  },
  {
   "cell_type": "code",
   "execution_count": 28,
   "id": "3af3d2a8",
   "metadata": {
    "ExecuteTime": {
     "end_time": "2021-08-19T14:38:48.120398Z",
     "start_time": "2021-08-19T14:38:47.644098Z"
    },
    "hidden": true
   },
   "outputs": [
    {
     "data": {
      "image/png": "[encoded data removed]",
      "text/plain": [
       "<Figure size 1296x648 with 1 Axes>"
      ]
     },
     "metadata": {},
     "output_type": "display_data"
    }
   ],
   "source": [
    "# new balance org \n",
    "sns.boxplot(df4['new_balance_orig']);"
   ]
  },
  {
   "cell_type": "markdown",
   "id": "e45193fc",
   "metadata": {
    "hidden": true
   },
   "source": [
    "Os dois valores acima de 38 milhoes foram detectados como fraude"
   ]
  },
  {
   "cell_type": "code",
   "execution_count": 29,
   "id": "79afef97",
   "metadata": {
    "ExecuteTime": {
     "end_time": "2021-08-19T14:38:48.514207Z",
     "start_time": "2021-08-19T14:38:48.121495Z"
    },
    "hidden": true
   },
   "outputs": [
    {
     "data": {
      "image/png": "[encoded data removed]",
      "text/plain": [
       "<Figure size 1296x648 with 1 Axes>"
      ]
     },
     "metadata": {},
     "output_type": "display_data"
    }
   ],
   "source": [
    "# old balance dest\n",
    "sns.boxplot(df4['old_balance_dest']);"
   ]
  },
  {
   "cell_type": "code",
   "execution_count": 30,
   "id": "f73c24ac",
   "metadata": {
    "ExecuteTime": {
     "end_time": "2021-08-19T14:38:48.876957Z",
     "start_time": "2021-08-19T14:38:48.515175Z"
    },
    "hidden": true
   },
   "outputs": [
    {
     "data": {
      "image/png": "[encoded data removed]",
      "text/plain": [
       "<Figure size 1296x648 with 1 Axes>"
      ]
     },
     "metadata": {},
     "output_type": "display_data"
    }
   ],
   "source": [
    "# new balance dest\n",
    "sns.boxplot(df4['new_balance_dest']);"
   ]
  },
  {
   "cell_type": "markdown",
   "id": "e520c2dd",
   "metadata": {
    "hidden": true
   },
   "source": [
    "- Após uma melhor exploração dos dados, verifocu-se que os atrbutos old balance dest, new balance dest e old balance org possuem valores zeros na maioria dos casos de fraude, o que pode indicar alguma tendência de comportamento nesses casos."
   ]
  },
  {
   "cell_type": "markdown",
   "id": "a7da88aa",
   "metadata": {},
   "source": [
    "### 4.1.3 Categorical Variables"
   ]
  },
  {
   "cell_type": "code",
   "execution_count": 89,
   "id": "b70ed895",
   "metadata": {
    "ExecuteTime": {
     "end_time": "2021-08-19T20:33:10.276297Z",
     "start_time": "2021-08-19T20:33:09.945192Z"
    }
   },
   "outputs": [
    {
     "data": {
      "image/png": "[encoded data removed]",
      "text/plain": [
       "<Figure size 1296x648 with 1 Axes>"
      ]
     },
     "metadata": {},
     "output_type": "display_data"
    }
   ],
   "source": [
    "ax = sns.countplot(df4['type'], edgecolor='k');\n",
    "\n",
    "total = len(df4)\n",
    "for p in ax.patches:\n",
    "    percentage = f'{100 * p.get_height() / total:.1f}%\\n'\n",
    "    x = p.get_x() + p.get_width() / 2\n",
    "    y = p.get_height()\n",
    "    ax.annotate(percentage, (x, y))"
   ]
  },
  {
   "cell_type": "markdown",
   "id": "947f8865",
   "metadata": {},
   "source": [
    "## 4.2 Bivariate Analysis"
   ]
  },
  {
   "cell_type": "markdown",
   "id": "4a8d3006",
   "metadata": {},
   "source": [
    "### H1. Valores de transações maiores de 2 milhões possuem em média 10% mais fruades.\n",
    "**Falsa** - Valores de transações menores de 2 milhões possuem 50% a mais de fraudes"
   ]
  },
  {
   "cell_type": "code",
   "execution_count": 80,
   "id": "256c1564",
   "metadata": {
    "ExecuteTime": {
     "end_time": "2021-08-19T20:07:24.013186Z",
     "start_time": "2021-08-19T20:07:23.891451Z"
    }
   },
   "outputs": [
    {
     "data": {
      "image/png": "[encoded data removed]",
      "text/plain": [
       "<Figure size 1296x648 with 1 Axes>"
      ]
     },
     "metadata": {},
     "output_type": "display_data"
    }
   ],
   "source": [
    "aux = df4.loc[df4['is_fraud'] == 1].copy()\n",
    "aux['amount'] = aux['amount'].apply(lambda x: 'more then 2MM' if x > 2000000 else 'less then 2MM')\n",
    "ax = sns.countplot(aux['amount'], edgecolor='k');\n",
    "\n",
    "total = len(aux)\n",
    "for p in ax.patches:\n",
    "    percentage = f'{100 * p.get_height() / total:.1f}%\\n'\n",
    "    x = p.get_x() + p.get_width() / 2\n",
    "    y = p.get_height()\n",
    "    ax.annotate(percentage, (x, y))"
   ]
  },
  {
   "cell_type": "markdown",
   "id": "b1083595",
   "metadata": {},
   "source": [
    "### H2. Operações do tipo CASH OUT tem em média 20% mais fraudes.\n",
    "**Falsa** - Operações do tipo CASH OUT possuem 3% a mais de fraudes. Obs: Apenas operações do tipo TRANSFER e CASH OUT possuem casos de fraude."
   ]
  },
  {
   "cell_type": "code",
   "execution_count": 82,
   "id": "33e45123",
   "metadata": {
    "ExecuteTime": {
     "end_time": "2021-08-19T20:11:59.685622Z",
     "start_time": "2021-08-19T20:11:59.562278Z"
    }
   },
   "outputs": [
    {
     "data": {
      "image/png": "[encoded data removed]",
      "text/plain": [
       "<Figure size 1296x648 with 1 Axes>"
      ]
     },
     "metadata": {},
     "output_type": "display_data"
    }
   ],
   "source": [
    "aux = df4.loc[df4['is_fraud'] == 1].copy()\n",
    "ax = sns.countplot(aux['type'], edgecolor='k');\n",
    "\n",
    "total = len(aux)\n",
    "for p in ax.patches:\n",
    "    percentage = f'{100 * p.get_height() / total:.1f}%\\n'\n",
    "    x = p.get_x() + p.get_width() / 2\n",
    "    y = p.get_height()\n",
    "    ax.annotate(percentage, (x, y))"
   ]
  },
  {
   "cell_type": "markdown",
   "id": "175aad42",
   "metadata": {},
   "source": [
    "É possível notar que todas as fraudes ocorreram apenas com esses dois tipos de operação "
   ]
  },
  {
   "cell_type": "markdown",
   "id": "71fc33a0",
   "metadata": {},
   "source": [
    "### H3. Operações realizadas nos 15 primeiros dias tem em media 30% mais fraudes.\n",
    "**Falsa** - Operações realizadas nos 15 primeiros dias possuem o mesmo número de fraudes das operações realizadas nos ultimos 15 dias."
   ]
  },
  {
   "cell_type": "code",
   "execution_count": 133,
   "id": "2a4a2159",
   "metadata": {
    "ExecuteTime": {
     "end_time": "2021-08-20T01:18:36.564460Z",
     "start_time": "2021-08-20T01:18:36.434988Z"
    }
   },
   "outputs": [
    {
     "data": {
      "image/png": "[encoded data removed]",
      "text/plain": [
       "<Figure size 1296x648 with 1 Axes>"
      ]
     },
     "metadata": {},
     "output_type": "display_data"
    }
   ],
   "source": [
    "aux = df4.loc[df4['is_fraud'] == 1].copy()\n",
    "aux['days'] = aux['days'].apply(lambda x: 'more then 15' if x > 15 else 'less then 15')\n",
    "ax = sns.countplot(aux['days'], edgecolor='k');\n",
    "\n",
    "total = len(aux)\n",
    "for p in ax.patches:\n",
    "    percentage = f'{100 * p.get_height() / total:.1f}%\\n'\n",
    "    x = p.get_x() + p.get_width() / 2\n",
    "    y = p.get_height()\n",
    "    ax.annotate(percentage, (x, y))"
   ]
  },
  {
   "cell_type": "markdown",
   "id": "30b38f9e",
   "metadata": {},
   "source": [
    "### H4. Clientes que realizam alguma opção de retirada de dinheiro da conta (CASH OUT, TRANSFER) e possuem saldo menor do que o valor retirado possuem em média um maior número de fraudes.\n",
    "**Falsa** - Clientes que realizam alguma opção de retirada de dinheiro da conta (CASH OUT, TRANSFER) e possuem saldo menor do que o valor retirado possuem menos ocorrencias de fraude."
   ]
  },
  {
   "cell_type": "code",
   "execution_count": 135,
   "id": "2779a2d3",
   "metadata": {
    "ExecuteTime": {
     "end_time": "2021-08-20T01:19:03.210150Z",
     "start_time": "2021-08-20T01:19:03.075198Z"
    }
   },
   "outputs": [
    {
     "data": {
      "image/png": "[encoded data removed]",
      "text/plain": [
       "<Figure size 1296x648 with 1 Axes>"
      ]
     },
     "metadata": {},
     "output_type": "display_data"
    }
   ],
   "source": [
    "aux = df4.loc[df4['is_fraud'] == 1].copy()\n",
    "aux['old_balance_org'] = aux[['old_balance_org','amount']].apply(lambda x: 'has more' if x['amount'] <= x['old_balance_org'] else 'has less', axis=1)\n",
    "ax = sns.countplot(aux['old_balance_org'], edgecolor='k')\n",
    "\n",
    "total = len(aux)\n",
    "for p in ax.patches:\n",
    "    percentage = f'{100 * p.get_height() / total:.1f}%\\n'\n",
    "    x = p.get_x() + p.get_width() / 2\n",
    "    y = p.get_height()\n",
    "    ax.annotate(percentage, (x, y))"
   ]
  },
  {
   "cell_type": "markdown",
   "id": "14160d08",
   "metadata": {
    "ExecuteTime": {
     "end_time": "2021-08-20T00:13:28.699908Z",
     "start_time": "2021-08-20T00:13:28.693872Z"
    }
   },
   "source": [
    "### H5. Clientes de destino que tinham saldo 0 e após uma transferência continuaram com saldo 0 tem em média 30% a mais de fraudes\n",
    "**Falsa** - Clientes de destino que tinham saldo 0 e após uma transferência continuaram com saldo 0 tem em média 3% menos fraudes"
   ]
  },
  {
   "cell_type": "code",
   "execution_count": 115,
   "id": "bf80f0d5",
   "metadata": {
    "ExecuteTime": {
     "end_time": "2021-08-20T00:26:08.192029Z",
     "start_time": "2021-08-20T00:26:08.059353Z"
    },
    "scrolled": false
   },
   "outputs": [
    {
     "data": {
      "image/png": "[encoded data removed]",
      "text/plain": [
       "<Figure size 1296x648 with 1 Axes>"
      ]
     },
     "metadata": {},
     "output_type": "display_data"
    }
   ],
   "source": [
    "aux = df4.loc[df4['is_fraud'] == 1].copy()\n",
    "aux['diference_balance'] = aux[['old_balance_dest','new_balance_dest']].apply(lambda x: 'yes' if (x['old_balance_dest'] == 0) & (x['new_balance_dest'] == 0) else 'no', axis=1)\n",
    "ax = sns.countplot(aux['diference_balance'], edgecolor='k')\n",
    "total = len(aux)\n",
    "for p in ax.patches:\n",
    "    percentage = f'{100 * p.get_height() / total:.1f}%\\n'\n",
    "    x = p.get_x() + p.get_width() / 2\n",
    "    y = p.get_height()\n",
    "    ax.annotate(percentage, (x, y))"
   ]
  },
  {
   "cell_type": "markdown",
   "id": "f7d68caf",
   "metadata": {},
   "source": [
    "## 4.3 Multivariate Analysis"
   ]
  },
  {
   "cell_type": "markdown",
   "id": "e28c29a4",
   "metadata": {},
   "source": [
    "### 4.3.1 Numerical Atributes"
   ]
  },
  {
   "cell_type": "code",
   "execution_count": 121,
   "id": "e1112740",
   "metadata": {
    "ExecuteTime": {
     "end_time": "2021-08-19T02:04:21.440213Z",
     "start_time": "2021-08-19T02:04:20.746635Z"
    }
   },
   "outputs": [
    {
     "data": {
      "text/plain": [
       "<AxesSubplot:>"
      ]
     },
     "execution_count": 121,
     "metadata": {},
     "output_type": "execute_result"
    },
    {
     "data": {
      "image/png": "[encoded data removed]",
      "text/plain": [
       "<Figure size 1296x648 with 2 Axes>"
      ]
     },
     "metadata": {},
     "output_type": "display_data"
    }
   ],
   "source": [
    "correlation = num_atributes.corr(method='pearson')\n",
    "sns.heatmap(correlation, annot=True)"
   ]
  },
  {
   "cell_type": "markdown",
   "id": "6f4f2479",
   "metadata": {},
   "source": [
    "# 5.0 Data Preparation"
   ]
  },
  {
   "cell_type": "code",
   "execution_count": 32,
   "id": "4b1985c7",
   "metadata": {
    "ExecuteTime": {
     "end_time": "2021-08-18T19:40:57.652424Z",
     "start_time": "2021-08-18T19:40:57.629356Z"
    }
   },
   "outputs": [],
   "source": [
    "df5 = df4.copy()"
   ]
  },
  {
   "cell_type": "markdown",
   "id": "0505336f",
   "metadata": {},
   "source": [
    "## 5.1 Split dataframe into train, test and validation"
   ]
  },
  {
   "cell_type": "code",
   "execution_count": 33,
   "id": "5d2a340d",
   "metadata": {
    "ExecuteTime": {
     "end_time": "2021-08-18T19:41:01.111704Z",
     "start_time": "2021-08-18T19:41:01.099498Z"
    }
   },
   "outputs": [],
   "source": [
    "from sklearn.model_selection import train_test_split"
   ]
  },
  {
   "cell_type": "code",
   "execution_count": 35,
   "id": "79456f62",
   "metadata": {
    "ExecuteTime": {
     "end_time": "2021-08-18T19:42:59.781981Z",
     "start_time": "2021-08-18T19:42:59.743744Z"
    }
   },
   "outputs": [],
   "source": [
    "X = df5.drop(['is_fraud', 'days', 'name_orig'], axis=1)\n",
    "y = df5['is_fraud'].copy()"
   ]
  },
  {
   "cell_type": "code",
   "execution_count": 36,
   "id": "4591069e",
   "metadata": {
    "ExecuteTime": {
     "end_time": "2021-08-18T19:43:01.874251Z",
     "start_time": "2021-08-18T19:43:01.663550Z"
    }
   },
   "outputs": [],
   "source": [
    "X_train, X_temp, y_train, y_temp = train_test_split(X,y, train_size=0.8, random_state=42, stratify=y)"
   ]
  },
  {
   "cell_type": "code",
   "execution_count": 37,
   "id": "0ef0842e",
   "metadata": {
    "ExecuteTime": {
     "end_time": "2021-08-18T19:43:02.167869Z",
     "start_time": "2021-08-18T19:43:02.120649Z"
    }
   },
   "outputs": [],
   "source": [
    "X_valid, X_test, y_valid, y_test = train_test_split(X_temp, y_temp, test_size=0.5, random_state=42, stratify=y_temp)"
   ]
  },
  {
   "cell_type": "markdown",
   "id": "d9ae3226",
   "metadata": {},
   "source": [
    "## 5.2 Rescaling"
   ]
  },
  {
   "cell_type": "code",
   "execution_count": 38,
   "id": "8ff7451b",
   "metadata": {
    "ExecuteTime": {
     "end_time": "2021-08-18T19:43:10.702362Z",
     "start_time": "2021-08-18T19:43:10.698444Z"
    }
   },
   "outputs": [],
   "source": [
    "from sklearn.preprocessing import MinMaxScaler, RobustScaler"
   ]
  },
  {
   "cell_type": "code",
   "execution_count": 41,
   "id": "5baa61a5",
   "metadata": {
    "ExecuteTime": {
     "end_time": "2021-08-18T19:48:05.368466Z",
     "start_time": "2021-08-18T19:48:05.223277Z"
    }
   },
   "outputs": [],
   "source": [
    "mm = MinMaxScaler()\n",
    "rs = RobustScaler()\n",
    "\n",
    "# amount\n",
    "X_train['amount'] = rs.fit_transform(X_train[['amount']].values)\n",
    "X_valid['amount'] = rs.fit_transform(X_valid[['amount']].values)\n",
    "\n",
    "# old balance org\n",
    "X_train['old_balance_org'] = rs.fit_transform(X_train[['old_balance_org']].values)\n",
    "X_valid['old_balance_org'] = rs.fit_transform(X_valid[['old_balance_org']].values)\n",
    "\n",
    "# new balance orig\n",
    "X_train['new_balance_orig'] = rs.fit_transform(X_train[['new_balance_orig']].values)\n",
    "X_valid['new_balance_orig'] = rs.fit_transform(X_valid[['new_balance_orig']].values)\n",
    "\n",
    "# old balance dest\n",
    "X_train['old_balance_dest'] = rs.fit_transform(X_train[['old_balance_dest']].values)\n",
    "X_valid['old_balance_dest'] = rs.fit_transform(X_valid[['old_balance_dest']].values)\n",
    "\n",
    "# new balance dest\n",
    "X_train['new_balance_dest'] = rs.fit_transform(X_train[['new_balance_dest']].values)\n",
    "X_valid['new_balance_dest'] = rs.fit_transform(X_valid[['new_balance_dest']].values)\n",
    "\n",
    "# dif balance orig\n",
    "X_train['dif_balance_orig'] = rs.fit_transform(X_train[['dif_balance_orig']].values)\n",
    "X_valid['dif_balance_orig'] = rs.fit_transform(X_valid[['dif_balance_orig']].values)\n",
    "\n",
    "# dif balance dest\n",
    "X_train['dif_balance_dest'] = rs.fit_transform(X_train[['dif_balance_dest']].values)\n",
    "X_valid['dif_balance_dest'] = rs.fit_transform(X_valid[['dif_balance_dest']].values)"
   ]
  },
  {
   "cell_type": "markdown",
   "id": "b8e3f9f0",
   "metadata": {},
   "source": [
    "## 5.3 Encoding"
   ]
  },
  {
   "cell_type": "code",
   "execution_count": 43,
   "id": "deaf200d",
   "metadata": {
    "ExecuteTime": {
     "end_time": "2021-08-18T19:49:57.910702Z",
     "start_time": "2021-08-18T19:49:57.905719Z"
    }
   },
   "outputs": [],
   "source": [
    "from sklearn.preprocessing import LabelEncoder"
   ]
  },
  {
   "cell_type": "code",
   "execution_count": 44,
   "id": "2d19231e",
   "metadata": {
    "ExecuteTime": {
     "end_time": "2021-08-18T19:51:35.383473Z",
     "start_time": "2021-08-18T19:51:34.112453Z"
    }
   },
   "outputs": [],
   "source": [
    "le = LabelEncoder()\n",
    "\n",
    "# type - frequency encoding\n",
    "fe_type_train = frequency_encoding(X_train, 'type')\n",
    "fe_type_valid = frequency_encoding(X_valid, 'type')\n",
    "X_train['type'] = X_train['type'].map(fe_type_train)\n",
    "X_valid['type'] = X_valid['type'].map(fe_type_valid)\n",
    "\n",
    "# step\n",
    "fe_step_train = frequency_encoding(X_train, 'step')\n",
    "fe_step_valid = frequency_encoding(X_valid, 'step')\n",
    "X_train['step'] = X_train['step'].map(fe_step_train)\n",
    "X_valid['step'] = X_valid['step'].map(fe_step_valid)\n",
    "\n",
    "# name dest\n",
    "X_train['name_dest'] = le.fit_transform(X_train[['name_dest']].values)\n",
    "X_valid['name_dest'] = le.fit_transform(X_valid[['name_dest']].values)\n",
    "\n",
    "# name dest - mim max scaler\n",
    "X_train['name_dest'] = mm.fit_transform(X_train[['name_dest']].values)\n",
    "X_valid['name_dest'] = mm.fit_transform(X_valid[['name_dest']].values)"
   ]
  },
  {
   "cell_type": "markdown",
   "id": "acdca386",
   "metadata": {
    "heading_collapsed": true
   },
   "source": [
    "# 6.0 Feature Selection"
   ]
  },
  {
   "cell_type": "markdown",
   "id": "a6cbd022",
   "metadata": {
    "hidden": true
   },
   "source": [
    "## 6.2 Feature Importance"
   ]
  },
  {
   "cell_type": "code",
   "execution_count": 56,
   "id": "05c3d2c8",
   "metadata": {
    "ExecuteTime": {
     "end_time": "2021-08-18T19:56:10.513863Z",
     "start_time": "2021-08-18T19:54:57.951816Z"
    },
    "hidden": true
   },
   "outputs": [],
   "source": [
    "rf = RandomForestClassifier()\n",
    "rf.fit(X_train, y_train)\n",
    "importance = rf.feature_importances_"
   ]
  },
  {
   "cell_type": "code",
   "execution_count": 57,
   "id": "df51f291",
   "metadata": {
    "ExecuteTime": {
     "end_time": "2021-08-18T19:56:10.717232Z",
     "start_time": "2021-08-18T19:56:10.513863Z"
    },
    "hidden": true
   },
   "outputs": [
    {
     "data": {
      "image/png": "[encoded data removed]",
      "text/plain": [
       "<Figure size 1296x648 with 1 Axes>"
      ]
     },
     "metadata": {},
     "output_type": "display_data"
    }
   ],
   "source": [
    "for i,v in enumerate(importance):\n",
    "    ('Feature: %0d, Score: %.5f' % (i,v))\n",
    "# plot feature importance\n",
    "feature_importance = pd.DataFrame({'feature':X_train.columns,\n",
    "                                  'feature_importance':importance}).sort_values('feature_importance', ascending=False).reset_index()\n",
    "sns.barplot(x='feature_importance', y='feature', data=feature_importance, orient='h', color='royalblue').set_title('Feature Importance');"
   ]
  },
  {
   "cell_type": "code",
   "execution_count": 60,
   "id": "7bbb1331",
   "metadata": {
    "ExecuteTime": {
     "end_time": "2021-08-18T19:59:04.712206Z",
     "start_time": "2021-08-18T19:59:04.696487Z"
    },
    "hidden": true
   },
   "outputs": [],
   "source": [
    "cols_selected = ['step', 'dif_balance_orig', 'dif_balance_dest','old_balance_org','new_balance_dest', 'amount']"
   ]
  },
  {
   "cell_type": "markdown",
   "id": "6474551b",
   "metadata": {},
   "source": [
    "# 7.0 Machine Learning Modeling"
   ]
  },
  {
   "cell_type": "code",
   "execution_count": 61,
   "id": "1daf29fa",
   "metadata": {
    "ExecuteTime": {
     "end_time": "2021-08-18T19:59:06.583979Z",
     "start_time": "2021-08-18T19:59:06.566981Z"
    }
   },
   "outputs": [],
   "source": [
    "X_train = X_train[cols_selected]\n",
    "X_valid = X_valid[cols_selected]"
   ]
  },
  {
   "cell_type": "markdown",
   "id": "170dd589",
   "metadata": {
    "heading_collapsed": true
   },
   "source": [
    "## 7.1 Baseline Model"
   ]
  },
  {
   "cell_type": "code",
   "execution_count": 62,
   "id": "e826d26c",
   "metadata": {
    "ExecuteTime": {
     "end_time": "2021-08-18T19:59:21.113857Z",
     "start_time": "2021-08-18T19:59:21.107893Z"
    },
    "hidden": true
   },
   "outputs": [],
   "source": [
    "from sklearn.dummy import DummyClassifier"
   ]
  },
  {
   "cell_type": "code",
   "execution_count": 93,
   "id": "5819fd39",
   "metadata": {
    "ExecuteTime": {
     "end_time": "2021-08-18T20:14:44.796889Z",
     "start_time": "2021-08-18T20:14:44.764666Z"
    },
    "hidden": true
   },
   "outputs": [],
   "source": [
    "dummy = DummyClassifier()\n",
    "dummy.fit(X_train, y_train)\n",
    "pred = dummy.predict(X_valid)"
   ]
  },
  {
   "cell_type": "markdown",
   "id": "d8372f87",
   "metadata": {
    "hidden": true
   },
   "source": [
    "### Results"
   ]
  },
  {
   "cell_type": "code",
   "execution_count": 94,
   "id": "b41b754e",
   "metadata": {
    "ExecuteTime": {
     "end_time": "2021-08-18T20:14:45.862874Z",
     "start_time": "2021-08-18T20:14:45.768604Z"
    },
    "hidden": true
   },
   "outputs": [
    {
     "data": {
      "text/html": [
       "<div>\n",
       "<style scoped>\n",
       "    .dataframe tbody tr th:only-of-type {\n",
       "        vertical-align: middle;\n",
       "    }\n",
       "\n",
       "    .dataframe tbody tr th {\n",
       "        vertical-align: top;\n",
       "    }\n",
       "\n",
       "    .dataframe thead th {\n",
       "        text-align: right;\n",
       "    }\n",
       "</style>\n",
       "<table border=\"1\" class=\"dataframe\">\n",
       "  <thead>\n",
       "    <tr style=\"text-align: right;\">\n",
       "      <th></th>\n",
       "      <th>Balanced Accuracy</th>\n",
       "      <th>Precision</th>\n",
       "      <th>Recall</th>\n",
       "      <th>F1</th>\n",
       "    </tr>\n",
       "  </thead>\n",
       "  <tbody>\n",
       "    <tr>\n",
       "      <th>dummy</th>\n",
       "      <td>0.500</td>\n",
       "      <td>0.000</td>\n",
       "      <td>0.000</td>\n",
       "      <td>0.000</td>\n",
       "    </tr>\n",
       "  </tbody>\n",
       "</table>\n",
       "</div>"
      ],
      "text/plain": [
       "       Balanced Accuracy  Precision  Recall    F1\n",
       "dummy              0.500      0.000   0.000 0.000"
      ]
     },
     "execution_count": 94,
     "metadata": {},
     "output_type": "execute_result"
    }
   ],
   "source": [
    "dummy_result = ml_metrics('dummy', y_valid, pred)\n",
    "dummy_result"
   ]
  },
  {
   "cell_type": "markdown",
   "id": "54f9dd40",
   "metadata": {
    "hidden": true
   },
   "source": [
    "### Cross Validation"
   ]
  },
  {
   "cell_type": "code",
   "execution_count": 95,
   "id": "1e747ffc",
   "metadata": {
    "ExecuteTime": {
     "end_time": "2021-08-18T20:14:48.225733Z",
     "start_time": "2021-08-18T20:14:47.695605Z"
    },
    "hidden": true
   },
   "outputs": [
    {
     "data": {
      "text/html": [
       "<div>\n",
       "<style scoped>\n",
       "    .dataframe tbody tr th:only-of-type {\n",
       "        vertical-align: middle;\n",
       "    }\n",
       "\n",
       "    .dataframe tbody tr th {\n",
       "        vertical-align: top;\n",
       "    }\n",
       "\n",
       "    .dataframe thead th {\n",
       "        text-align: right;\n",
       "    }\n",
       "</style>\n",
       "<table border=\"1\" class=\"dataframe\">\n",
       "  <thead>\n",
       "    <tr style=\"text-align: right;\">\n",
       "      <th></th>\n",
       "      <th>Balanced Accuracy</th>\n",
       "      <th>Precision</th>\n",
       "      <th>Recall</th>\n",
       "      <th>F1</th>\n",
       "    </tr>\n",
       "  </thead>\n",
       "  <tbody>\n",
       "    <tr>\n",
       "      <th>Dummy_CV</th>\n",
       "      <td>0.5 +/- 0.0</td>\n",
       "      <td>0.0 +/- 0.0</td>\n",
       "      <td>0.0 +/- 0.0</td>\n",
       "      <td>0.0 +/- 0.0</td>\n",
       "    </tr>\n",
       "  </tbody>\n",
       "</table>\n",
       "</div>"
      ],
      "text/plain": [
       "         Balanced Accuracy    Precision       Recall           F1\n",
       "Dummy_CV       0.5 +/- 0.0  0.0 +/- 0.0  0.0 +/- 0.0  0.0 +/- 0.0"
      ]
     },
     "execution_count": 95,
     "metadata": {},
     "output_type": "execute_result"
    }
   ],
   "source": [
    "dummy_result_cv = cross_validation('Dummy_CV', DummyClassifier(), X_train, y_train)\n",
    "dummy_result_cv"
   ]
  },
  {
   "cell_type": "markdown",
   "id": "ba388fd5",
   "metadata": {
    "heading_collapsed": true
   },
   "source": [
    "## 7.2 Logistic Regression"
   ]
  },
  {
   "cell_type": "code",
   "execution_count": 66,
   "id": "7b91ed56",
   "metadata": {
    "ExecuteTime": {
     "end_time": "2021-08-18T19:59:29.797395Z",
     "start_time": "2021-08-18T19:59:29.793395Z"
    },
    "hidden": true
   },
   "outputs": [],
   "source": [
    "from sklearn.linear_model import LogisticRegression"
   ]
  },
  {
   "cell_type": "code",
   "execution_count": 96,
   "id": "d3a11e6e",
   "metadata": {
    "ExecuteTime": {
     "end_time": "2021-08-18T20:14:54.872421Z",
     "start_time": "2021-08-18T20:14:52.784152Z"
    },
    "hidden": true
   },
   "outputs": [],
   "source": [
    "lg = LogisticRegression(class_weight='balanced')\n",
    "lg.fit(X_train, y_train)\n",
    "pred = lg.predict(X_valid)"
   ]
  },
  {
   "cell_type": "markdown",
   "id": "11c8946d",
   "metadata": {
    "hidden": true
   },
   "source": [
    "### Results"
   ]
  },
  {
   "cell_type": "code",
   "execution_count": 97,
   "id": "8fb91425",
   "metadata": {
    "ExecuteTime": {
     "end_time": "2021-08-18T20:14:54.966605Z",
     "start_time": "2021-08-18T20:14:54.873604Z"
    },
    "hidden": true
   },
   "outputs": [
    {
     "data": {
      "text/html": [
       "<div>\n",
       "<style scoped>\n",
       "    .dataframe tbody tr th:only-of-type {\n",
       "        vertical-align: middle;\n",
       "    }\n",
       "\n",
       "    .dataframe tbody tr th {\n",
       "        vertical-align: top;\n",
       "    }\n",
       "\n",
       "    .dataframe thead th {\n",
       "        text-align: right;\n",
       "    }\n",
       "</style>\n",
       "<table border=\"1\" class=\"dataframe\">\n",
       "  <thead>\n",
       "    <tr style=\"text-align: right;\">\n",
       "      <th></th>\n",
       "      <th>Balanced Accuracy</th>\n",
       "      <th>Precision</th>\n",
       "      <th>Recall</th>\n",
       "      <th>F1</th>\n",
       "    </tr>\n",
       "  </thead>\n",
       "  <tbody>\n",
       "    <tr>\n",
       "      <th>LogisticRegression</th>\n",
       "      <td>0.930</td>\n",
       "      <td>0.040</td>\n",
       "      <td>0.890</td>\n",
       "      <td>0.070</td>\n",
       "    </tr>\n",
       "  </tbody>\n",
       "</table>\n",
       "</div>"
      ],
      "text/plain": [
       "                    Balanced Accuracy  Precision  Recall    F1\n",
       "LogisticRegression              0.930      0.040   0.890 0.070"
      ]
     },
     "execution_count": 97,
     "metadata": {},
     "output_type": "execute_result"
    }
   ],
   "source": [
    "logistic_regression_result = ml_metrics('LogisticRegression', y_valid, pred)\n",
    "logistic_regression_result"
   ]
  },
  {
   "cell_type": "markdown",
   "id": "0bcf2884",
   "metadata": {
    "hidden": true
   },
   "source": [
    "### Cross Validation"
   ]
  },
  {
   "cell_type": "code",
   "execution_count": 98,
   "id": "ce824175",
   "metadata": {
    "ExecuteTime": {
     "end_time": "2021-08-18T20:15:08.248158Z",
     "start_time": "2021-08-18T20:14:57.083208Z"
    },
    "hidden": true
   },
   "outputs": [
    {
     "data": {
      "text/html": [
       "<div>\n",
       "<style scoped>\n",
       "    .dataframe tbody tr th:only-of-type {\n",
       "        vertical-align: middle;\n",
       "    }\n",
       "\n",
       "    .dataframe tbody tr th {\n",
       "        vertical-align: top;\n",
       "    }\n",
       "\n",
       "    .dataframe thead th {\n",
       "        text-align: right;\n",
       "    }\n",
       "</style>\n",
       "<table border=\"1\" class=\"dataframe\">\n",
       "  <thead>\n",
       "    <tr style=\"text-align: right;\">\n",
       "      <th></th>\n",
       "      <th>Balanced Accuracy</th>\n",
       "      <th>Precision</th>\n",
       "      <th>Recall</th>\n",
       "      <th>F1</th>\n",
       "    </tr>\n",
       "  </thead>\n",
       "  <tbody>\n",
       "    <tr>\n",
       "      <th>LogisticRegression_CV</th>\n",
       "      <td>0.93 +/- 0.01</td>\n",
       "      <td>0.04 +/- 0.0</td>\n",
       "      <td>0.89 +/- 0.02</td>\n",
       "      <td>0.07 +/- 0.0</td>\n",
       "    </tr>\n",
       "  </tbody>\n",
       "</table>\n",
       "</div>"
      ],
      "text/plain": [
       "                      Balanced Accuracy     Precision         Recall            F1\n",
       "LogisticRegression_CV     0.93 +/- 0.01  0.04 +/- 0.0  0.89 +/- 0.02  0.07 +/- 0.0"
      ]
     },
     "execution_count": 98,
     "metadata": {},
     "output_type": "execute_result"
    }
   ],
   "source": [
    "logistic_regression_result_cv = cross_validation('LogisticRegression_CV', LogisticRegression(class_weight='balanced'), X_train, y_train)\n",
    "logistic_regression_result_cv"
   ]
  },
  {
   "cell_type": "markdown",
   "id": "a9e7995e",
   "metadata": {
    "heading_collapsed": true
   },
   "source": [
    "## 7.3 KNN"
   ]
  },
  {
   "cell_type": "code",
   "execution_count": 99,
   "id": "84a0ac8d",
   "metadata": {
    "ExecuteTime": {
     "end_time": "2021-08-18T20:15:17.381449Z",
     "start_time": "2021-08-18T20:15:17.370465Z"
    },
    "hidden": true
   },
   "outputs": [],
   "source": [
    "from sklearn.neighbors import KNeighborsClassifier"
   ]
  },
  {
   "cell_type": "code",
   "execution_count": 100,
   "id": "13afe33c",
   "metadata": {
    "ExecuteTime": {
     "end_time": "2021-08-18T20:16:02.783788Z",
     "start_time": "2021-08-18T20:15:18.174696Z"
    },
    "hidden": true
   },
   "outputs": [],
   "source": [
    "knn = KNeighborsClassifier()\n",
    "knn.fit(X_train, y_train)\n",
    "pred = knn.predict(X_valid)"
   ]
  },
  {
   "cell_type": "markdown",
   "id": "0ea2f509",
   "metadata": {
    "hidden": true
   },
   "source": [
    "### Results"
   ]
  },
  {
   "cell_type": "code",
   "execution_count": 101,
   "id": "4fd3a3be",
   "metadata": {
    "ExecuteTime": {
     "end_time": "2021-08-18T20:16:02.846497Z",
     "start_time": "2021-08-18T20:16:02.784453Z"
    },
    "hidden": true
   },
   "outputs": [
    {
     "data": {
      "text/html": [
       "<div>\n",
       "<style scoped>\n",
       "    .dataframe tbody tr th:only-of-type {\n",
       "        vertical-align: middle;\n",
       "    }\n",
       "\n",
       "    .dataframe tbody tr th {\n",
       "        vertical-align: top;\n",
       "    }\n",
       "\n",
       "    .dataframe thead th {\n",
       "        text-align: right;\n",
       "    }\n",
       "</style>\n",
       "<table border=\"1\" class=\"dataframe\">\n",
       "  <thead>\n",
       "    <tr style=\"text-align: right;\">\n",
       "      <th></th>\n",
       "      <th>Balanced Accuracy</th>\n",
       "      <th>Precision</th>\n",
       "      <th>Recall</th>\n",
       "      <th>F1</th>\n",
       "    </tr>\n",
       "  </thead>\n",
       "  <tbody>\n",
       "    <tr>\n",
       "      <th>KNN</th>\n",
       "      <td>0.810</td>\n",
       "      <td>0.800</td>\n",
       "      <td>0.620</td>\n",
       "      <td>0.700</td>\n",
       "    </tr>\n",
       "  </tbody>\n",
       "</table>\n",
       "</div>"
      ],
      "text/plain": [
       "     Balanced Accuracy  Precision  Recall    F1\n",
       "KNN              0.810      0.800   0.620 0.700"
      ]
     },
     "execution_count": 101,
     "metadata": {},
     "output_type": "execute_result"
    }
   ],
   "source": [
    "knn_result = ml_metrics('KNN', y_valid, pred)\n",
    "knn_result"
   ]
  },
  {
   "cell_type": "markdown",
   "id": "0a4bef2f",
   "metadata": {
    "hidden": true
   },
   "source": [
    "### Cross Validation"
   ]
  },
  {
   "cell_type": "code",
   "execution_count": 102,
   "id": "74bf5a23",
   "metadata": {
    "ExecuteTime": {
     "end_time": "2021-08-18T20:18:20.218254Z",
     "start_time": "2021-08-18T20:16:02.847497Z"
    },
    "hidden": true
   },
   "outputs": [
    {
     "data": {
      "text/html": [
       "<div>\n",
       "<style scoped>\n",
       "    .dataframe tbody tr th:only-of-type {\n",
       "        vertical-align: middle;\n",
       "    }\n",
       "\n",
       "    .dataframe tbody tr th {\n",
       "        vertical-align: top;\n",
       "    }\n",
       "\n",
       "    .dataframe thead th {\n",
       "        text-align: right;\n",
       "    }\n",
       "</style>\n",
       "<table border=\"1\" class=\"dataframe\">\n",
       "  <thead>\n",
       "    <tr style=\"text-align: right;\">\n",
       "      <th></th>\n",
       "      <th>Balanced Accuracy</th>\n",
       "      <th>Precision</th>\n",
       "      <th>Recall</th>\n",
       "      <th>F1</th>\n",
       "    </tr>\n",
       "  </thead>\n",
       "  <tbody>\n",
       "    <tr>\n",
       "      <th>KNN_CV</th>\n",
       "      <td>0.78 +/- 0.01</td>\n",
       "      <td>0.8 +/- 0.02</td>\n",
       "      <td>0.57 +/- 0.02</td>\n",
       "      <td>0.66 +/- 0.01</td>\n",
       "    </tr>\n",
       "  </tbody>\n",
       "</table>\n",
       "</div>"
      ],
      "text/plain": [
       "       Balanced Accuracy     Precision         Recall             F1\n",
       "KNN_CV     0.78 +/- 0.01  0.8 +/- 0.02  0.57 +/- 0.02  0.66 +/- 0.01"
      ]
     },
     "execution_count": 102,
     "metadata": {},
     "output_type": "execute_result"
    }
   ],
   "source": [
    "knn_result_cv = cross_validation('KNN_CV', KNeighborsClassifier(), X_train, y_train)\n",
    "knn_result_cv"
   ]
  },
  {
   "cell_type": "markdown",
   "id": "dafc2f30",
   "metadata": {
    "heading_collapsed": true
   },
   "source": [
    "## 7.4 ADA Boosting"
   ]
  },
  {
   "cell_type": "code",
   "execution_count": 74,
   "id": "0f4e2582",
   "metadata": {
    "ExecuteTime": {
     "end_time": "2021-08-18T20:01:44.447294Z",
     "start_time": "2021-08-18T20:01:44.433117Z"
    },
    "hidden": true
   },
   "outputs": [],
   "source": [
    "from sklearn.ensemble import AdaBoostClassifier"
   ]
  },
  {
   "cell_type": "code",
   "execution_count": 103,
   "id": "49c0b097",
   "metadata": {
    "ExecuteTime": {
     "end_time": "2021-08-18T20:18:37.518351Z",
     "start_time": "2021-08-18T20:18:20.219254Z"
    },
    "hidden": true
   },
   "outputs": [],
   "source": [
    "ada = AdaBoostClassifier()\n",
    "ada.fit(X_train, y_train)\n",
    "pred = ada.predict(X_valid)"
   ]
  },
  {
   "cell_type": "markdown",
   "id": "15a3048a",
   "metadata": {
    "hidden": true
   },
   "source": [
    "### Results"
   ]
  },
  {
   "cell_type": "code",
   "execution_count": 104,
   "id": "09a2ef58",
   "metadata": {
    "ExecuteTime": {
     "end_time": "2021-08-18T20:18:37.581354Z",
     "start_time": "2021-08-18T20:18:37.519359Z"
    },
    "hidden": true
   },
   "outputs": [
    {
     "data": {
      "text/html": [
       "<div>\n",
       "<style scoped>\n",
       "    .dataframe tbody tr th:only-of-type {\n",
       "        vertical-align: middle;\n",
       "    }\n",
       "\n",
       "    .dataframe tbody tr th {\n",
       "        vertical-align: top;\n",
       "    }\n",
       "\n",
       "    .dataframe thead th {\n",
       "        text-align: right;\n",
       "    }\n",
       "</style>\n",
       "<table border=\"1\" class=\"dataframe\">\n",
       "  <thead>\n",
       "    <tr style=\"text-align: right;\">\n",
       "      <th></th>\n",
       "      <th>Balanced Accuracy</th>\n",
       "      <th>Precision</th>\n",
       "      <th>Recall</th>\n",
       "      <th>F1</th>\n",
       "    </tr>\n",
       "  </thead>\n",
       "  <tbody>\n",
       "    <tr>\n",
       "      <th>AdaBoost</th>\n",
       "      <td>0.730</td>\n",
       "      <td>0.900</td>\n",
       "      <td>0.450</td>\n",
       "      <td>0.600</td>\n",
       "    </tr>\n",
       "  </tbody>\n",
       "</table>\n",
       "</div>"
      ],
      "text/plain": [
       "          Balanced Accuracy  Precision  Recall    F1\n",
       "AdaBoost              0.730      0.900   0.450 0.600"
      ]
     },
     "execution_count": 104,
     "metadata": {},
     "output_type": "execute_result"
    }
   ],
   "source": [
    "ada_result = ml_metrics('AdaBoost', y_valid, pred)\n",
    "ada_result"
   ]
  },
  {
   "cell_type": "markdown",
   "id": "4d24e848",
   "metadata": {
    "hidden": true
   },
   "source": [
    "### Cross Validation"
   ]
  },
  {
   "cell_type": "code",
   "execution_count": 105,
   "id": "9e2f7377",
   "metadata": {
    "ExecuteTime": {
     "end_time": "2021-08-18T20:19:48.430918Z",
     "start_time": "2021-08-18T20:18:37.582354Z"
    },
    "hidden": true
   },
   "outputs": [
    {
     "data": {
      "text/html": [
       "<div>\n",
       "<style scoped>\n",
       "    .dataframe tbody tr th:only-of-type {\n",
       "        vertical-align: middle;\n",
       "    }\n",
       "\n",
       "    .dataframe tbody tr th {\n",
       "        vertical-align: top;\n",
       "    }\n",
       "\n",
       "    .dataframe thead th {\n",
       "        text-align: right;\n",
       "    }\n",
       "</style>\n",
       "<table border=\"1\" class=\"dataframe\">\n",
       "  <thead>\n",
       "    <tr style=\"text-align: right;\">\n",
       "      <th></th>\n",
       "      <th>Balanced Accuracy</th>\n",
       "      <th>Precision</th>\n",
       "      <th>Recall</th>\n",
       "      <th>F1</th>\n",
       "    </tr>\n",
       "  </thead>\n",
       "  <tbody>\n",
       "    <tr>\n",
       "      <th>AdaBoost_CV</th>\n",
       "      <td>0.84 +/- 0.01</td>\n",
       "      <td>0.94 +/- 0.02</td>\n",
       "      <td>0.68 +/- 0.03</td>\n",
       "      <td>0.79 +/- 0.02</td>\n",
       "    </tr>\n",
       "  </tbody>\n",
       "</table>\n",
       "</div>"
      ],
      "text/plain": [
       "            Balanced Accuracy      Precision         Recall             F1\n",
       "AdaBoost_CV     0.84 +/- 0.01  0.94 +/- 0.02  0.68 +/- 0.03  0.79 +/- 0.02"
      ]
     },
     "execution_count": 105,
     "metadata": {},
     "output_type": "execute_result"
    }
   ],
   "source": [
    "ada_result_cv = cross_validation('AdaBoost_CV', AdaBoostClassifier(), X_train, y_train)\n",
    "ada_result_cv"
   ]
  },
  {
   "cell_type": "markdown",
   "id": "37d25c21",
   "metadata": {
    "heading_collapsed": true
   },
   "source": [
    "## 7.5 LightGBM"
   ]
  },
  {
   "cell_type": "code",
   "execution_count": 78,
   "id": "c94ee01d",
   "metadata": {
    "ExecuteTime": {
     "end_time": "2021-08-18T20:03:06.371059Z",
     "start_time": "2021-08-18T20:03:06.309405Z"
    },
    "hidden": true
   },
   "outputs": [],
   "source": [
    "from lightgbm import LGBMClassifier "
   ]
  },
  {
   "cell_type": "code",
   "execution_count": 106,
   "id": "2bd03ec0",
   "metadata": {
    "ExecuteTime": {
     "end_time": "2021-08-18T20:19:49.740954Z",
     "start_time": "2021-08-18T20:19:48.431880Z"
    },
    "hidden": true
   },
   "outputs": [],
   "source": [
    "lgb = LGBMClassifier(objective='binary', class_weight='balanced')\n",
    "lgb.fit(X_train, y_train)\n",
    "pred = lgb.predict(X_valid)"
   ]
  },
  {
   "cell_type": "markdown",
   "id": "381d2256",
   "metadata": {
    "hidden": true
   },
   "source": [
    "### Results"
   ]
  },
  {
   "cell_type": "code",
   "execution_count": 107,
   "id": "d6a087e1",
   "metadata": {
    "ExecuteTime": {
     "end_time": "2021-08-18T20:19:49.850985Z",
     "start_time": "2021-08-18T20:19:49.743458Z"
    },
    "hidden": true
   },
   "outputs": [
    {
     "data": {
      "text/html": [
       "<div>\n",
       "<style scoped>\n",
       "    .dataframe tbody tr th:only-of-type {\n",
       "        vertical-align: middle;\n",
       "    }\n",
       "\n",
       "    .dataframe tbody tr th {\n",
       "        vertical-align: top;\n",
       "    }\n",
       "\n",
       "    .dataframe thead th {\n",
       "        text-align: right;\n",
       "    }\n",
       "</style>\n",
       "<table border=\"1\" class=\"dataframe\">\n",
       "  <thead>\n",
       "    <tr style=\"text-align: right;\">\n",
       "      <th></th>\n",
       "      <th>Balanced Accuracy</th>\n",
       "      <th>Precision</th>\n",
       "      <th>Recall</th>\n",
       "      <th>F1</th>\n",
       "    </tr>\n",
       "  </thead>\n",
       "  <tbody>\n",
       "    <tr>\n",
       "      <th>LightGBM</th>\n",
       "      <td>0.960</td>\n",
       "      <td>0.260</td>\n",
       "      <td>0.930</td>\n",
       "      <td>0.410</td>\n",
       "    </tr>\n",
       "  </tbody>\n",
       "</table>\n",
       "</div>"
      ],
      "text/plain": [
       "          Balanced Accuracy  Precision  Recall    F1\n",
       "LightGBM              0.960      0.260   0.930 0.410"
      ]
     },
     "execution_count": 107,
     "metadata": {},
     "output_type": "execute_result"
    }
   ],
   "source": [
    "lgbm_result = ml_metrics('LightGBM', y_valid, pred)\n",
    "lgbm_result"
   ]
  },
  {
   "cell_type": "markdown",
   "id": "a83f9880",
   "metadata": {
    "hidden": true
   },
   "source": [
    "### Cross Validation"
   ]
  },
  {
   "cell_type": "code",
   "execution_count": 108,
   "id": "e9026031",
   "metadata": {
    "ExecuteTime": {
     "end_time": "2021-08-18T20:19:56.671157Z",
     "start_time": "2021-08-18T20:19:49.851980Z"
    },
    "hidden": true
   },
   "outputs": [
    {
     "data": {
      "text/html": [
       "<div>\n",
       "<style scoped>\n",
       "    .dataframe tbody tr th:only-of-type {\n",
       "        vertical-align: middle;\n",
       "    }\n",
       "\n",
       "    .dataframe tbody tr th {\n",
       "        vertical-align: top;\n",
       "    }\n",
       "\n",
       "    .dataframe thead th {\n",
       "        text-align: right;\n",
       "    }\n",
       "</style>\n",
       "<table border=\"1\" class=\"dataframe\">\n",
       "  <thead>\n",
       "    <tr style=\"text-align: right;\">\n",
       "      <th></th>\n",
       "      <th>Balanced Accuracy</th>\n",
       "      <th>Precision</th>\n",
       "      <th>Recall</th>\n",
       "      <th>F1</th>\n",
       "    </tr>\n",
       "  </thead>\n",
       "  <tbody>\n",
       "    <tr>\n",
       "      <th>LightGBM_CV</th>\n",
       "      <td>0.94 +/- 0.01</td>\n",
       "      <td>0.31 +/- 0.02</td>\n",
       "      <td>0.89 +/- 0.03</td>\n",
       "      <td>0.46 +/- 0.02</td>\n",
       "    </tr>\n",
       "  </tbody>\n",
       "</table>\n",
       "</div>"
      ],
      "text/plain": [
       "            Balanced Accuracy      Precision         Recall             F1\n",
       "LightGBM_CV     0.94 +/- 0.01  0.31 +/- 0.02  0.89 +/- 0.03  0.46 +/- 0.02"
      ]
     },
     "execution_count": 108,
     "metadata": {},
     "output_type": "execute_result"
    }
   ],
   "source": [
    "lgbm_result_cv = cross_validation('LightGBM_CV', LGBMClassifier(objective='binary', class_weight='balanced'), X_train, y_train)\n",
    "lgbm_result_cv"
   ]
  },
  {
   "cell_type": "markdown",
   "id": "02a77c7f",
   "metadata": {
    "heading_collapsed": true
   },
   "source": [
    "## 7.6 Random Forest"
   ]
  },
  {
   "cell_type": "code",
   "execution_count": 82,
   "id": "d343160f",
   "metadata": {
    "ExecuteTime": {
     "end_time": "2021-08-18T20:03:13.753466Z",
     "start_time": "2021-08-18T20:03:13.739120Z"
    },
    "hidden": true
   },
   "outputs": [],
   "source": [
    "from sklearn.ensemble import RandomForestClassifier"
   ]
  },
  {
   "cell_type": "code",
   "execution_count": 109,
   "id": "bc1d428e",
   "metadata": {
    "ExecuteTime": {
     "end_time": "2021-08-18T20:20:37.697114Z",
     "start_time": "2021-08-18T20:19:56.672077Z"
    },
    "hidden": true
   },
   "outputs": [],
   "source": [
    "rf = RandomForestClassifier(class_weight='balanced')\n",
    "rf.fit(X_train, y_train)\n",
    "pred = rf.predict(X_valid)"
   ]
  },
  {
   "cell_type": "markdown",
   "id": "8fa3272c",
   "metadata": {
    "hidden": true
   },
   "source": [
    "### Results"
   ]
  },
  {
   "cell_type": "code",
   "execution_count": 110,
   "id": "e7203101",
   "metadata": {
    "ExecuteTime": {
     "end_time": "2021-08-18T20:20:37.759051Z",
     "start_time": "2021-08-18T20:20:37.698169Z"
    },
    "hidden": true
   },
   "outputs": [
    {
     "data": {
      "text/html": [
       "<div>\n",
       "<style scoped>\n",
       "    .dataframe tbody tr th:only-of-type {\n",
       "        vertical-align: middle;\n",
       "    }\n",
       "\n",
       "    .dataframe tbody tr th {\n",
       "        vertical-align: top;\n",
       "    }\n",
       "\n",
       "    .dataframe thead th {\n",
       "        text-align: right;\n",
       "    }\n",
       "</style>\n",
       "<table border=\"1\" class=\"dataframe\">\n",
       "  <thead>\n",
       "    <tr style=\"text-align: right;\">\n",
       "      <th></th>\n",
       "      <th>Balanced Accuracy</th>\n",
       "      <th>Precision</th>\n",
       "      <th>Recall</th>\n",
       "      <th>F1</th>\n",
       "    </tr>\n",
       "  </thead>\n",
       "  <tbody>\n",
       "    <tr>\n",
       "      <th>Random Forest</th>\n",
       "      <td>0.840</td>\n",
       "      <td>0.950</td>\n",
       "      <td>0.670</td>\n",
       "      <td>0.790</td>\n",
       "    </tr>\n",
       "  </tbody>\n",
       "</table>\n",
       "</div>"
      ],
      "text/plain": [
       "               Balanced Accuracy  Precision  Recall    F1\n",
       "Random Forest              0.840      0.950   0.670 0.790"
      ]
     },
     "execution_count": 110,
     "metadata": {},
     "output_type": "execute_result"
    }
   ],
   "source": [
    "rf_result = ml_metrics('Random Forest', y_valid, pred)\n",
    "rf_result"
   ]
  },
  {
   "cell_type": "markdown",
   "id": "737054a9",
   "metadata": {
    "hidden": true
   },
   "source": [
    "### Cross Validation"
   ]
  },
  {
   "cell_type": "code",
   "execution_count": 111,
   "id": "5d31fffe",
   "metadata": {
    "ExecuteTime": {
     "end_time": "2021-08-18T20:23:16.274741Z",
     "start_time": "2021-08-18T20:20:37.759979Z"
    },
    "hidden": true
   },
   "outputs": [
    {
     "data": {
      "text/html": [
       "<div>\n",
       "<style scoped>\n",
       "    .dataframe tbody tr th:only-of-type {\n",
       "        vertical-align: middle;\n",
       "    }\n",
       "\n",
       "    .dataframe tbody tr th {\n",
       "        vertical-align: top;\n",
       "    }\n",
       "\n",
       "    .dataframe thead th {\n",
       "        text-align: right;\n",
       "    }\n",
       "</style>\n",
       "<table border=\"1\" class=\"dataframe\">\n",
       "  <thead>\n",
       "    <tr style=\"text-align: right;\">\n",
       "      <th></th>\n",
       "      <th>Balanced Accuracy</th>\n",
       "      <th>Precision</th>\n",
       "      <th>Recall</th>\n",
       "      <th>F1</th>\n",
       "    </tr>\n",
       "  </thead>\n",
       "  <tbody>\n",
       "    <tr>\n",
       "      <th>Random Forest CV</th>\n",
       "      <td>0.87 +/- 0.01</td>\n",
       "      <td>0.97 +/- 0.01</td>\n",
       "      <td>0.75 +/- 0.01</td>\n",
       "      <td>0.84 +/- 0.01</td>\n",
       "    </tr>\n",
       "  </tbody>\n",
       "</table>\n",
       "</div>"
      ],
      "text/plain": [
       "                 Balanced Accuracy      Precision         Recall             F1\n",
       "Random Forest CV     0.87 +/- 0.01  0.97 +/- 0.01  0.75 +/- 0.01  0.84 +/- 0.01"
      ]
     },
     "execution_count": 111,
     "metadata": {},
     "output_type": "execute_result"
    }
   ],
   "source": [
    "rf_result_cv = cross_validation('Random Forest CV', RandomForestClassifier(class_weight='balanced'), X_train, y_train)\n",
    "rf_result_cv"
   ]
  },
  {
   "cell_type": "markdown",
   "id": "10abdcca",
   "metadata": {
    "heading_collapsed": true
   },
   "source": [
    "## 7.7 XGBoost"
   ]
  },
  {
   "cell_type": "code",
   "execution_count": 86,
   "id": "d84fb3e0",
   "metadata": {
    "ExecuteTime": {
     "end_time": "2021-08-18T20:06:15.776220Z",
     "start_time": "2021-08-18T20:06:15.566184Z"
    },
    "hidden": true
   },
   "outputs": [],
   "source": [
    "from xgboost import XGBClassifier"
   ]
  },
  {
   "cell_type": "code",
   "execution_count": 112,
   "id": "1fa8c4e4",
   "metadata": {
    "ExecuteTime": {
     "end_time": "2021-08-18T20:23:39.943345Z",
     "start_time": "2021-08-18T20:23:16.275688Z"
    },
    "hidden": true
   },
   "outputs": [],
   "source": [
    "xgb = XGBClassifier(objective='binary:logistic', verbosity=0)\n",
    "xgb.fit(X_train, y_train)\n",
    "pred = xgb.predict(X_valid)"
   ]
  },
  {
   "cell_type": "markdown",
   "id": "ad9a118a",
   "metadata": {
    "hidden": true
   },
   "source": [
    "### Results"
   ]
  },
  {
   "cell_type": "code",
   "execution_count": 113,
   "id": "ec44c7d5",
   "metadata": {
    "ExecuteTime": {
     "end_time": "2021-08-18T20:23:40.085651Z",
     "start_time": "2021-08-18T20:23:39.945346Z"
    },
    "hidden": true
   },
   "outputs": [
    {
     "data": {
      "text/html": [
       "<div>\n",
       "<style scoped>\n",
       "    .dataframe tbody tr th:only-of-type {\n",
       "        vertical-align: middle;\n",
       "    }\n",
       "\n",
       "    .dataframe tbody tr th {\n",
       "        vertical-align: top;\n",
       "    }\n",
       "\n",
       "    .dataframe thead th {\n",
       "        text-align: right;\n",
       "    }\n",
       "</style>\n",
       "<table border=\"1\" class=\"dataframe\">\n",
       "  <thead>\n",
       "    <tr style=\"text-align: right;\">\n",
       "      <th></th>\n",
       "      <th>Balanced Accuracy</th>\n",
       "      <th>Precision</th>\n",
       "      <th>Recall</th>\n",
       "      <th>F1</th>\n",
       "    </tr>\n",
       "  </thead>\n",
       "  <tbody>\n",
       "    <tr>\n",
       "      <th>XGBoost</th>\n",
       "      <td>0.840</td>\n",
       "      <td>0.930</td>\n",
       "      <td>0.680</td>\n",
       "      <td>0.790</td>\n",
       "    </tr>\n",
       "  </tbody>\n",
       "</table>\n",
       "</div>"
      ],
      "text/plain": [
       "         Balanced Accuracy  Precision  Recall    F1\n",
       "XGBoost              0.840      0.930   0.680 0.790"
      ]
     },
     "execution_count": 113,
     "metadata": {},
     "output_type": "execute_result"
    }
   ],
   "source": [
    "xgb_result = ml_metrics('XGBoost', y_valid, pred)\n",
    "xgb_result"
   ]
  },
  {
   "cell_type": "markdown",
   "id": "173acaae",
   "metadata": {
    "hidden": true
   },
   "source": [
    "### Cross Validation"
   ]
  },
  {
   "cell_type": "code",
   "execution_count": 114,
   "id": "11c65b60",
   "metadata": {
    "ExecuteTime": {
     "end_time": "2021-08-18T20:25:22.544665Z",
     "start_time": "2021-08-18T20:23:40.087650Z"
    },
    "hidden": true
   },
   "outputs": [
    {
     "data": {
      "text/html": [
       "<div>\n",
       "<style scoped>\n",
       "    .dataframe tbody tr th:only-of-type {\n",
       "        vertical-align: middle;\n",
       "    }\n",
       "\n",
       "    .dataframe tbody tr th {\n",
       "        vertical-align: top;\n",
       "    }\n",
       "\n",
       "    .dataframe thead th {\n",
       "        text-align: right;\n",
       "    }\n",
       "</style>\n",
       "<table border=\"1\" class=\"dataframe\">\n",
       "  <thead>\n",
       "    <tr style=\"text-align: right;\">\n",
       "      <th></th>\n",
       "      <th>Balanced Accuracy</th>\n",
       "      <th>Precision</th>\n",
       "      <th>Recall</th>\n",
       "      <th>F1</th>\n",
       "    </tr>\n",
       "  </thead>\n",
       "  <tbody>\n",
       "    <tr>\n",
       "      <th>XGBoost_CV</th>\n",
       "      <td>0.89 +/- 0.01</td>\n",
       "      <td>0.96 +/- 0.02</td>\n",
       "      <td>0.78 +/- 0.02</td>\n",
       "      <td>0.86 +/- 0.02</td>\n",
       "    </tr>\n",
       "  </tbody>\n",
       "</table>\n",
       "</div>"
      ],
      "text/plain": [
       "           Balanced Accuracy      Precision         Recall             F1\n",
       "XGBoost_CV     0.89 +/- 0.01  0.96 +/- 0.02  0.78 +/- 0.02  0.86 +/- 0.02"
      ]
     },
     "execution_count": 114,
     "metadata": {},
     "output_type": "execute_result"
    }
   ],
   "source": [
    "xgb_result_cv = cross_validation('XGBoost_CV', XGBClassifier(objective='binary:logistic', verbosity=0), X_train, y_train)\n",
    "xgb_result_cv"
   ]
  },
  {
   "cell_type": "markdown",
   "id": "992a78be",
   "metadata": {},
   "source": [
    "## 7.8 Results"
   ]
  },
  {
   "cell_type": "code",
   "execution_count": 115,
   "id": "0855a8d4",
   "metadata": {
    "ExecuteTime": {
     "end_time": "2021-08-18T20:25:22.576597Z",
     "start_time": "2021-08-18T20:25:22.546596Z"
    },
    "scrolled": true
   },
   "outputs": [
    {
     "data": {
      "text/html": [
       "<style  type=\"text/css\" >\n",
       "#T_637d4_row3_col0,#T_637d4_row3_col2,#T_637d4_row5_col1,#T_637d4_row5_col3,#T_637d4_row6_col3{\n",
       "            background-color:  lightgreen;\n",
       "        }</style><table id=\"T_637d4_\" ><thead>    <tr>        <th class=\"blank level0\" ></th>        <th class=\"col_heading level0 col0\" >Balanced Accuracy</th>        <th class=\"col_heading level0 col1\" >Precision</th>        <th class=\"col_heading level0 col2\" >Recall</th>        <th class=\"col_heading level0 col3\" >F1</th>    </tr></thead><tbody>\n",
       "                <tr>\n",
       "                        <th id=\"T_637d4_level0_row0\" class=\"row_heading level0 row0\" >dummy</th>\n",
       "                        <td id=\"T_637d4_row0_col0\" class=\"data row0 col0\" >0.500000</td>\n",
       "                        <td id=\"T_637d4_row0_col1\" class=\"data row0 col1\" >0.000000</td>\n",
       "                        <td id=\"T_637d4_row0_col2\" class=\"data row0 col2\" >0.000000</td>\n",
       "                        <td id=\"T_637d4_row0_col3\" class=\"data row0 col3\" >0.000000</td>\n",
       "            </tr>\n",
       "            <tr>\n",
       "                        <th id=\"T_637d4_level0_row1\" class=\"row_heading level0 row1\" >LogisticRegression</th>\n",
       "                        <td id=\"T_637d4_row1_col0\" class=\"data row1 col0\" >0.930000</td>\n",
       "                        <td id=\"T_637d4_row1_col1\" class=\"data row1 col1\" >0.040000</td>\n",
       "                        <td id=\"T_637d4_row1_col2\" class=\"data row1 col2\" >0.890000</td>\n",
       "                        <td id=\"T_637d4_row1_col3\" class=\"data row1 col3\" >0.070000</td>\n",
       "            </tr>\n",
       "            <tr>\n",
       "                        <th id=\"T_637d4_level0_row2\" class=\"row_heading level0 row2\" >KNN</th>\n",
       "                        <td id=\"T_637d4_row2_col0\" class=\"data row2 col0\" >0.810000</td>\n",
       "                        <td id=\"T_637d4_row2_col1\" class=\"data row2 col1\" >0.800000</td>\n",
       "                        <td id=\"T_637d4_row2_col2\" class=\"data row2 col2\" >0.620000</td>\n",
       "                        <td id=\"T_637d4_row2_col3\" class=\"data row2 col3\" >0.700000</td>\n",
       "            </tr>\n",
       "            <tr>\n",
       "                        <th id=\"T_637d4_level0_row3\" class=\"row_heading level0 row3\" >LightGBM</th>\n",
       "                        <td id=\"T_637d4_row3_col0\" class=\"data row3 col0\" >0.960000</td>\n",
       "                        <td id=\"T_637d4_row3_col1\" class=\"data row3 col1\" >0.260000</td>\n",
       "                        <td id=\"T_637d4_row3_col2\" class=\"data row3 col2\" >0.930000</td>\n",
       "                        <td id=\"T_637d4_row3_col3\" class=\"data row3 col3\" >0.410000</td>\n",
       "            </tr>\n",
       "            <tr>\n",
       "                        <th id=\"T_637d4_level0_row4\" class=\"row_heading level0 row4\" >AdaBoost</th>\n",
       "                        <td id=\"T_637d4_row4_col0\" class=\"data row4 col0\" >0.730000</td>\n",
       "                        <td id=\"T_637d4_row4_col1\" class=\"data row4 col1\" >0.900000</td>\n",
       "                        <td id=\"T_637d4_row4_col2\" class=\"data row4 col2\" >0.450000</td>\n",
       "                        <td id=\"T_637d4_row4_col3\" class=\"data row4 col3\" >0.600000</td>\n",
       "            </tr>\n",
       "            <tr>\n",
       "                        <th id=\"T_637d4_level0_row5\" class=\"row_heading level0 row5\" >Random Forest</th>\n",
       "                        <td id=\"T_637d4_row5_col0\" class=\"data row5 col0\" >0.840000</td>\n",
       "                        <td id=\"T_637d4_row5_col1\" class=\"data row5 col1\" >0.950000</td>\n",
       "                        <td id=\"T_637d4_row5_col2\" class=\"data row5 col2\" >0.670000</td>\n",
       "                        <td id=\"T_637d4_row5_col3\" class=\"data row5 col3\" >0.790000</td>\n",
       "            </tr>\n",
       "            <tr>\n",
       "                        <th id=\"T_637d4_level0_row6\" class=\"row_heading level0 row6\" >XGBoost</th>\n",
       "                        <td id=\"T_637d4_row6_col0\" class=\"data row6 col0\" >0.840000</td>\n",
       "                        <td id=\"T_637d4_row6_col1\" class=\"data row6 col1\" >0.930000</td>\n",
       "                        <td id=\"T_637d4_row6_col2\" class=\"data row6 col2\" >0.680000</td>\n",
       "                        <td id=\"T_637d4_row6_col3\" class=\"data row6 col3\" >0.790000</td>\n",
       "            </tr>\n",
       "    </tbody></table>"
      ],
      "text/plain": [
       "<pandas.io.formats.style.Styler at 0x265a49a4790>"
      ]
     },
     "execution_count": 115,
     "metadata": {},
     "output_type": "execute_result"
    }
   ],
   "source": [
    "df_results = pd.concat([dummy_result, logistic_regression_result, knn_result, lgbm_result, ada_result, rf_result, xgb_result])\n",
    "df_results.style.highlight_max(color='lightgreen', axis=0)"
   ]
  },
  {
   "cell_type": "markdown",
   "id": "38f50f93",
   "metadata": {},
   "source": [
    "### Cross Validation Results"
   ]
  },
  {
   "cell_type": "code",
   "execution_count": 116,
   "id": "056a8da4",
   "metadata": {
    "ExecuteTime": {
     "end_time": "2021-08-18T20:25:22.592666Z",
     "start_time": "2021-08-18T20:25:22.578597Z"
    }
   },
   "outputs": [
    {
     "data": {
      "text/html": [
       "<div>\n",
       "<style scoped>\n",
       "    .dataframe tbody tr th:only-of-type {\n",
       "        vertical-align: middle;\n",
       "    }\n",
       "\n",
       "    .dataframe tbody tr th {\n",
       "        vertical-align: top;\n",
       "    }\n",
       "\n",
       "    .dataframe thead th {\n",
       "        text-align: right;\n",
       "    }\n",
       "</style>\n",
       "<table border=\"1\" class=\"dataframe\">\n",
       "  <thead>\n",
       "    <tr style=\"text-align: right;\">\n",
       "      <th></th>\n",
       "      <th>Balanced Accuracy</th>\n",
       "      <th>Precision</th>\n",
       "      <th>Recall</th>\n",
       "      <th>F1</th>\n",
       "    </tr>\n",
       "  </thead>\n",
       "  <tbody>\n",
       "    <tr>\n",
       "      <th>Dummy_CV</th>\n",
       "      <td>0.5 +/- 0.0</td>\n",
       "      <td>0.0 +/- 0.0</td>\n",
       "      <td>0.0 +/- 0.0</td>\n",
       "      <td>0.0 +/- 0.0</td>\n",
       "    </tr>\n",
       "    <tr>\n",
       "      <th>LogisticRegression_CV</th>\n",
       "      <td>0.93 +/- 0.01</td>\n",
       "      <td>0.04 +/- 0.0</td>\n",
       "      <td>0.89 +/- 0.02</td>\n",
       "      <td>0.07 +/- 0.0</td>\n",
       "    </tr>\n",
       "    <tr>\n",
       "      <th>KNN_CV</th>\n",
       "      <td>0.78 +/- 0.01</td>\n",
       "      <td>0.8 +/- 0.02</td>\n",
       "      <td>0.57 +/- 0.02</td>\n",
       "      <td>0.66 +/- 0.01</td>\n",
       "    </tr>\n",
       "    <tr>\n",
       "      <th>LightGBM_CV</th>\n",
       "      <td>0.94 +/- 0.01</td>\n",
       "      <td>0.31 +/- 0.02</td>\n",
       "      <td>0.89 +/- 0.03</td>\n",
       "      <td>0.46 +/- 0.02</td>\n",
       "    </tr>\n",
       "    <tr>\n",
       "      <th>AdaBoost_CV</th>\n",
       "      <td>0.84 +/- 0.01</td>\n",
       "      <td>0.94 +/- 0.02</td>\n",
       "      <td>0.68 +/- 0.03</td>\n",
       "      <td>0.79 +/- 0.02</td>\n",
       "    </tr>\n",
       "    <tr>\n",
       "      <th>Random Forest CV</th>\n",
       "      <td>0.87 +/- 0.01</td>\n",
       "      <td>0.97 +/- 0.01</td>\n",
       "      <td>0.75 +/- 0.01</td>\n",
       "      <td>0.84 +/- 0.01</td>\n",
       "    </tr>\n",
       "    <tr>\n",
       "      <th>XGBoost_CV</th>\n",
       "      <td>0.89 +/- 0.01</td>\n",
       "      <td>0.96 +/- 0.02</td>\n",
       "      <td>0.78 +/- 0.02</td>\n",
       "      <td>0.86 +/- 0.02</td>\n",
       "    </tr>\n",
       "  </tbody>\n",
       "</table>\n",
       "</div>"
      ],
      "text/plain": [
       "                      Balanced Accuracy      Precision         Recall             F1\n",
       "Dummy_CV                    0.5 +/- 0.0    0.0 +/- 0.0    0.0 +/- 0.0    0.0 +/- 0.0\n",
       "LogisticRegression_CV     0.93 +/- 0.01   0.04 +/- 0.0  0.89 +/- 0.02   0.07 +/- 0.0\n",
       "KNN_CV                    0.78 +/- 0.01   0.8 +/- 0.02  0.57 +/- 0.02  0.66 +/- 0.01\n",
       "LightGBM_CV               0.94 +/- 0.01  0.31 +/- 0.02  0.89 +/- 0.03  0.46 +/- 0.02\n",
       "AdaBoost_CV               0.84 +/- 0.01  0.94 +/- 0.02  0.68 +/- 0.03  0.79 +/- 0.02\n",
       "Random Forest CV          0.87 +/- 0.01  0.97 +/- 0.01  0.75 +/- 0.01  0.84 +/- 0.01\n",
       "XGBoost_CV                0.89 +/- 0.01  0.96 +/- 0.02  0.78 +/- 0.02  0.86 +/- 0.02"
      ]
     },
     "execution_count": 116,
     "metadata": {},
     "output_type": "execute_result"
    }
   ],
   "source": [
    "df_results_cv = pd.concat([dummy_result_cv, logistic_regression_result_cv, knn_result_cv, lgbm_result_cv, ada_result_cv, rf_result_cv, xgb_result_cv])\n",
    "df_results_cv"
   ]
  },
  {
   "cell_type": "markdown",
   "id": "31306a88",
   "metadata": {},
   "source": [
    "# 8.0 Hyperparameter Fine Tuning"
   ]
  },
  {
   "cell_type": "code",
   "execution_count": null,
   "id": "38083463",
   "metadata": {},
   "outputs": [],
   "source": []
  },
  {
   "cell_type": "markdown",
   "id": "d39f72d5",
   "metadata": {},
   "source": [
    "# 9.0 Conlclusions"
   ]
  },
  {
   "cell_type": "code",
   "execution_count": null,
   "id": "d2bbb49f",
   "metadata": {},
   "outputs": [],
   "source": []
  },
  {
   "cell_type": "markdown",
   "id": "85dcf4b7",
   "metadata": {},
   "source": [
    "# 10.0 Deploy"
   ]
  },
  {
   "cell_type": "code",
   "execution_count": null,
   "id": "3b02da70",
   "metadata": {},
   "outputs": [],
   "source": []
  }
 ],
 "metadata": {
  "kernelspec": {
   "display_name": "Python 3",
   "language": "python",
   "name": "python3"
  },
  "language_info": {
   "codemirror_mode": {
    "name": "ipython",
    "version": 3
   },
   "file_extension": ".py",
   "mimetype": "text/x-python",
   "name": "python",
   "nbconvert_exporter": "python",
   "pygments_lexer": "ipython3",
   "version": "3.8.11"
  },
  "toc": {
   "base_numbering": 1,
   "nav_menu": {},
   "number_sections": false,
   "sideBar": true,
   "skip_h1_title": false,
   "title_cell": "Table of Contents",
   "title_sidebar": "Contents",
   "toc_cell": false,
   "toc_position": {},
   "toc_section_display": true,
   "toc_window_display": false
  }
 },
 "nbformat": 4,
 "nbformat_minor": 5
}
