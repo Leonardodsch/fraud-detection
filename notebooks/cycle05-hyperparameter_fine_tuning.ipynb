{
 "cells": [
  {
   "cell_type": "markdown",
   "id": "8edb1bdc",
   "metadata": {},
   "source": [
    "# Planejamento da solução"
   ]
  },
  {
   "cell_type": "markdown",
   "id": "1d14a35c",
   "metadata": {},
   "source": [
    "1. Explorar os Dados usando ferramentas e testes Estatísticos com o objetivo de encontrar inconsistências dos dados e tratar possíveis dados faltantes.\n",
    "2. Levantar Hipóteses sobre as características de transações legítimas e fraudulentas, validando ou refutando essas hipóteses através dos dados.\n",
    "3. Preparar os Dados para que os Algoritmos de Machine Learning sejam capazes de aprender a tarefa.\n",
    "4. Treinar e avaliar vários algoritmos Classificadores.\n",
    "5. Contabilizar a Performance do Modelo de Machine Learning e transformar em Performance de Negócio.\n",
    "6. Desenvolver uma API que retorne “Fraude” ou “Legítima” quando receber como entrada uma transação."
   ]
  },
  {
   "cell_type": "markdown",
   "id": "99cef98c",
   "metadata": {},
   "source": [
    "# 0.0 Imports"
   ]
  },
  {
   "cell_type": "code",
   "execution_count": 69,
   "id": "8ac23f9e",
   "metadata": {
    "ExecuteTime": {
     "end_time": "2021-08-25T16:35:43.246470Z",
     "start_time": "2021-08-25T16:35:43.241480Z"
    }
   },
   "outputs": [],
   "source": [
    "import pandas as pd\n",
    "import numpy as np\n",
    "import warnings\n",
    "import seaborn as sns\n",
    "import scikitplot.metrics\n",
    "import matplotlib.pyplot as plt\n",
    "from IPython.core.display    import display, HTML\n",
    "from sklearn import metrics as m\n",
    "from sklearn.metrics import precision_recall_curve\n",
    "from numpy import argmax\n",
    "from sklearn.model_selection import StratifiedKFold\n",
    "from sklearn.ensemble import RandomForestClassifier\n",
    "from sklearn.metrics import recall_score, f1_score"
   ]
  },
  {
   "cell_type": "markdown",
   "id": "060f7262",
   "metadata": {
    "heading_collapsed": true
   },
   "source": [
    "## 0.1 Helper Functions"
   ]
  },
  {
   "cell_type": "code",
   "execution_count": 2,
   "id": "8fbeb248",
   "metadata": {
    "ExecuteTime": {
     "end_time": "2021-08-25T15:57:03.586324Z",
     "start_time": "2021-08-25T15:57:03.492002Z"
    },
    "hidden": true
   },
   "outputs": [
    {
     "name": "stdout",
     "output_type": "stream",
     "text": [
      "Populating the interactive namespace from numpy and matplotlib\n"
     ]
    },
    {
     "data": {
      "text/html": [
       "<style>.container { width:100% !important; }</style>"
      ],
      "text/plain": [
       "<IPython.core.display.HTML object>"
      ]
     },
     "metadata": {},
     "output_type": "display_data"
    }
   ],
   "source": [
    "def jupyter_settings():\n",
    "    %matplotlib inline\n",
    "    %pylab inline\n",
    "    \n",
    "    plt.style.use( 'bmh' )\n",
    "    plt.rcParams['figure.figsize'] = [18, 9]\n",
    "    plt.rcParams['font.size'] = 24\n",
    "    plt.rcParams[\"patch.force_edgecolor\"] = True\n",
    "    plt.rcParams['patch.edgecolor'] = 'black'\n",
    "    display( HTML( '<style>.container { width:100% !important; }</style>') )\n",
    "    pd.options.display.max_columns = None\n",
    "    pd.options.display.max_rows = None\n",
    "    pd.set_option( 'display.expand_frame_repr', False )\n",
    "    pd.set_option('display.float_format', lambda x: '%.3f' % x)\n",
    "    warnings.filterwarnings('ignore')\n",
    "    sns.set()\n",
    "    \n",
    "jupyter_settings()\n",
    "\n",
    "def cross_validation(model_name, model, x, y):\n",
    "    \n",
    "    x = x.to_numpy()\n",
    "    y = y.to_numpy()\n",
    "    \n",
    "    \n",
    "    balanced_accuracy = []\n",
    "    precision = []\n",
    "    recall = []\n",
    "    f1 = []\n",
    "    \n",
    "    skf = StratifiedKFold(n_splits=5, shuffle=True, random_state=42)\n",
    "    \n",
    "    for train_index, test_index in skf.split(x, y):\n",
    "        x_train_cv, x_test_cv = x[train_index], x[test_index]\n",
    "        y_train_cv, y_test_cv = y[train_index], y[test_index]\n",
    "        \n",
    "        \n",
    "        model.fit(x_train_cv, y_train_cv)\n",
    "        pred = model.predict(x_test_cv)\n",
    "\n",
    "        balanced_accuracy.append(m.balanced_accuracy_score(y_test_cv, pred))\n",
    "        precision.append(m.precision_score(y_test_cv, pred))\n",
    "        recall.append(m.recall_score(y_test_cv, pred))\n",
    "        f1.append(m.f1_score(y_test_cv, pred))\n",
    "\n",
    "    \n",
    "    acurracy_mean, acurracy_std = np.round(np.mean(balanced_accuracy), 2), np.round(np.std(balanced_accuracy),2)\n",
    "    precision_mean, precision_std = np.round(np.mean(precision),2), np.round(np.std(precision),2)\n",
    "    recall_mean, recall_std = np.round(np.mean(recall),2), np.round(np.std(recall),2)\n",
    "    f1_mean, f1_std = np.round(np.mean(f1),2), np.round(np.std(f1),2)\n",
    "    \n",
    "    \n",
    "    return pd.DataFrame({\"Balanced Accuracy\": \"{} +/- {}\".format(acurracy_mean, acurracy_std),\n",
    "                        \"Precision\": \"{} +/- {}\".format(precision_mean, precision_std),\n",
    "                        \"Recall\": \"{} +/- {}\".format(recall_mean, recall_std),\n",
    "                        \"F1\": \"{} +/- {}\".format(f1_mean, f1_std)}, index=[model_name])\n",
    "\n",
    "def cross_validation_threshold(model_name, model, x, y, threshold):\n",
    "    \n",
    "    x = x.to_numpy()\n",
    "    y = y.to_numpy()\n",
    "    \n",
    "    \n",
    "    balanced_accuracy = []\n",
    "    precision = []\n",
    "    recall = []\n",
    "    f1 = []\n",
    "    \n",
    "    skf = StratifiedKFold(n_splits=5, shuffle=True, random_state=42)\n",
    "    \n",
    "    for train_index, test_index in skf.split(x, y):\n",
    "        x_train_cv, x_test_cv = x[train_index], x[test_index]\n",
    "        y_train_cv, y_test_cv = y[train_index], y[test_index]\n",
    "        \n",
    "        \n",
    "        model.fit(x_train_cv, y_train_cv)\n",
    "        pred = (model.predict_proba(x_test_cv)[:,1] >= threshold).astype(bool)\n",
    "\n",
    "        balanced_accuracy.append(m.balanced_accuracy_score(y_test_cv, pred))\n",
    "        precision.append(m.precision_score(y_test_cv, pred))\n",
    "        recall.append(m.recall_score(y_test_cv, pred))\n",
    "        f1.append(m.f1_score(y_test_cv, pred))\n",
    "\n",
    "    \n",
    "    acurracy_mean, acurracy_std = np.round(np.mean(balanced_accuracy), 2), np.round(np.std(balanced_accuracy),2)\n",
    "    precision_mean, precision_std = np.round(np.mean(precision),2), np.round(np.std(precision),2)\n",
    "    recall_mean, recall_std = np.round(np.mean(recall),2), np.round(np.std(recall),2)\n",
    "    f1_mean, f1_std = np.round(np.mean(f1),2), np.round(np.std(f1),2)\n",
    "    \n",
    "    \n",
    "    return pd.DataFrame({\"Balanced Accuracy\": \"{} +/- {}\".format(acurracy_mean, acurracy_std),\n",
    "                        \"Precision\": \"{} +/- {}\".format(precision_mean, precision_std),\n",
    "                        \"Recall\": \"{} +/- {}\".format(recall_mean, recall_std),\n",
    "                        \"F1\": \"{} +/- {}\".format(f1_mean, f1_std)}, index=[model_name])\n",
    "\n",
    "\n",
    "def ml_metrics(model_name, y_true, pred):\n",
    "    \n",
    "    accuracy = m.balanced_accuracy_score(y_true, pred)\n",
    "    precision = m.precision_score(y_true, pred)\n",
    "    recall = m.recall_score(y_true, pred)\n",
    "    f1 = m.f1_score(y_true, pred)\n",
    "    \n",
    "    return pd.DataFrame({'Balanced Accuracy': np.round(accuracy, 2), \n",
    "                         'Precision': np.round(precision, 2), \n",
    "                         'Recall': np.round(recall, 2),\n",
    "                         'F1': np.round(f1, 2)}, index=[model_name])\n",
    "\n",
    "\n",
    "def frequency_encoding(df, column):\n",
    "    encoder = df.groupby(column).size()/len(df)\n",
    "    return encoder\n",
    "\n",
    "def best_threshold(fscore, thresholds):\n",
    "    \n",
    "    return print('Best Threshold=%f, F-Score=%.3f' % (thresholds[ix], fscore[ix]))"
   ]
  },
  {
   "cell_type": "markdown",
   "id": "44468811",
   "metadata": {
    "heading_collapsed": true
   },
   "source": [
    "## 0.2 Loading Data"
   ]
  },
  {
   "cell_type": "code",
   "execution_count": 3,
   "id": "ff3f1507",
   "metadata": {
    "ExecuteTime": {
     "end_time": "2021-08-25T15:57:04.629626Z",
     "start_time": "2021-08-25T15:57:03.587324Z"
    },
    "hidden": true
   },
   "outputs": [],
   "source": [
    "df_raw = pd.read_csv('../data/fraud_detection-dataset.csv', low_memory=False)"
   ]
  },
  {
   "cell_type": "code",
   "execution_count": 4,
   "id": "4c5f793e",
   "metadata": {
    "ExecuteTime": {
     "end_time": "2021-08-25T15:57:04.675816Z",
     "start_time": "2021-08-25T15:57:04.630731Z"
    },
    "hidden": true
   },
   "outputs": [],
   "source": [
    "df_raw.drop(columns='Unnamed: 0', inplace=True)"
   ]
  },
  {
   "cell_type": "code",
   "execution_count": 5,
   "id": "e99bb022",
   "metadata": {
    "ExecuteTime": {
     "end_time": "2021-08-25T15:57:04.707868Z",
     "start_time": "2021-08-25T15:57:04.677745Z"
    },
    "hidden": true
   },
   "outputs": [
    {
     "data": {
      "text/html": [
       "<div>\n",
       "<style scoped>\n",
       "    .dataframe tbody tr th:only-of-type {\n",
       "        vertical-align: middle;\n",
       "    }\n",
       "\n",
       "    .dataframe tbody tr th {\n",
       "        vertical-align: top;\n",
       "    }\n",
       "\n",
       "    .dataframe thead th {\n",
       "        text-align: right;\n",
       "    }\n",
       "</style>\n",
       "<table border=\"1\" class=\"dataframe\">\n",
       "  <thead>\n",
       "    <tr style=\"text-align: right;\">\n",
       "      <th></th>\n",
       "      <th>step</th>\n",
       "      <th>type</th>\n",
       "      <th>amount</th>\n",
       "      <th>nameOrig</th>\n",
       "      <th>oldbalanceOrg</th>\n",
       "      <th>newbalanceOrig</th>\n",
       "      <th>nameDest</th>\n",
       "      <th>oldbalanceDest</th>\n",
       "      <th>newbalanceDest</th>\n",
       "      <th>isFlaggedFraud</th>\n",
       "      <th>isFraud</th>\n",
       "    </tr>\n",
       "  </thead>\n",
       "  <tbody>\n",
       "    <tr>\n",
       "      <th>0</th>\n",
       "      <td>353</td>\n",
       "      <td>CASH_OUT</td>\n",
       "      <td>150540.160</td>\n",
       "      <td>C1389413404</td>\n",
       "      <td>9912.000</td>\n",
       "      <td>0.000</td>\n",
       "      <td>C819390946</td>\n",
       "      <td>29817.590</td>\n",
       "      <td>180357.750</td>\n",
       "      <td>0</td>\n",
       "      <td>0</td>\n",
       "    </tr>\n",
       "    <tr>\n",
       "      <th>1</th>\n",
       "      <td>282</td>\n",
       "      <td>CASH_OUT</td>\n",
       "      <td>66723.640</td>\n",
       "      <td>C958468196</td>\n",
       "      <td>0.000</td>\n",
       "      <td>0.000</td>\n",
       "      <td>C257205272</td>\n",
       "      <td>1136277.810</td>\n",
       "      <td>1203001.450</td>\n",
       "      <td>0</td>\n",
       "      <td>0</td>\n",
       "    </tr>\n",
       "    <tr>\n",
       "      <th>2</th>\n",
       "      <td>228</td>\n",
       "      <td>TRANSFER</td>\n",
       "      <td>1039375.010</td>\n",
       "      <td>C857481806</td>\n",
       "      <td>2328.000</td>\n",
       "      <td>0.000</td>\n",
       "      <td>C134214261</td>\n",
       "      <td>437583.330</td>\n",
       "      <td>1476958.340</td>\n",
       "      <td>0</td>\n",
       "      <td>0</td>\n",
       "    </tr>\n",
       "    <tr>\n",
       "      <th>3</th>\n",
       "      <td>36</td>\n",
       "      <td>PAYMENT</td>\n",
       "      <td>9178.610</td>\n",
       "      <td>C558963849</td>\n",
       "      <td>96237.620</td>\n",
       "      <td>87059.010</td>\n",
       "      <td>M635090135</td>\n",
       "      <td>0.000</td>\n",
       "      <td>0.000</td>\n",
       "      <td>0</td>\n",
       "      <td>0</td>\n",
       "    </tr>\n",
       "    <tr>\n",
       "      <th>4</th>\n",
       "      <td>48</td>\n",
       "      <td>PAYMENT</td>\n",
       "      <td>4527.240</td>\n",
       "      <td>C1644082954</td>\n",
       "      <td>51925.000</td>\n",
       "      <td>47397.760</td>\n",
       "      <td>M332145827</td>\n",
       "      <td>0.000</td>\n",
       "      <td>0.000</td>\n",
       "      <td>0</td>\n",
       "      <td>0</td>\n",
       "    </tr>\n",
       "  </tbody>\n",
       "</table>\n",
       "</div>"
      ],
      "text/plain": [
       "   step      type      amount     nameOrig  oldbalanceOrg  newbalanceOrig    nameDest  oldbalanceDest  newbalanceDest  isFlaggedFraud  isFraud\n",
       "0   353  CASH_OUT  150540.160  C1389413404       9912.000           0.000  C819390946       29817.590      180357.750               0        0\n",
       "1   282  CASH_OUT   66723.640   C958468196          0.000           0.000  C257205272     1136277.810     1203001.450               0        0\n",
       "2   228  TRANSFER 1039375.010   C857481806       2328.000           0.000  C134214261      437583.330     1476958.340               0        0\n",
       "3    36   PAYMENT    9178.610   C558963849      96237.620       87059.010  M635090135           0.000           0.000               0        0\n",
       "4    48   PAYMENT    4527.240  C1644082954      51925.000       47397.760  M332145827           0.000           0.000               0        0"
      ]
     },
     "execution_count": 5,
     "metadata": {},
     "output_type": "execute_result"
    }
   ],
   "source": [
    "df_raw.head()"
   ]
  },
  {
   "cell_type": "markdown",
   "id": "dddb3df9",
   "metadata": {
    "heading_collapsed": true
   },
   "source": [
    "# 1.0 Data Description"
   ]
  },
  {
   "cell_type": "code",
   "execution_count": 6,
   "id": "d8c39437",
   "metadata": {
    "ExecuteTime": {
     "end_time": "2021-08-25T15:57:04.738867Z",
     "start_time": "2021-08-25T15:57:04.710054Z"
    },
    "hidden": true
   },
   "outputs": [],
   "source": [
    "df1 = df_raw.copy()"
   ]
  },
  {
   "cell_type": "markdown",
   "id": "fad2a150",
   "metadata": {
    "hidden": true
   },
   "source": [
    "- **step** - mapeia uma unidade de tempo no mundo real. Neste caso, 1 etapa corresponde a 1 hora de tempo. Total de etapas 744 (simulação de 30 dias).\n",
    "\n",
    "- **type** - CASH-IN, CASH-OUT, DEBIT, PAYMENT and TRANSFER.\n",
    "\n",
    "- **amount** - valor da transação em moeda local.\n",
    "\n",
    "- **nameOrig** - cliente que iniciou a transação\n",
    "\n",
    "- **oldbalanceOrg** - saldo inicial antes da transação\n",
    "\n",
    "- **newbalanceOrig** - saldo após a transação\n",
    "\n",
    "- **nameDest** - cliente que é o destinatário da transação\n",
    "\n",
    "- **oldbalanceDest** - destinatário do saldo inicial antes da transação. Observe que não há informações para clientes que começam com M (Merchants).\n",
    "\n",
    "- **newbalanceDest** - novo destinatário do saldo após a transação. Observe que não há informações para clientes que começam com  M (Merchants).\n",
    "\n",
    "- **isFraud** - São as transações feitas pelos agentes fraudulentos dentro da simulação. Neste conjunto de dados específico, o comportamento fraudulento dos agentes visa lucrar ao assumir o controle das contas dos clientes e tentar esvaziar os fundos transferindo para outra conta e retirando do sistema.\n",
    "\n",
    "- **isFlaggedFraud** - O modelo de negócios visa controlar as transferências em massa de uma conta para outra e sinaliza tentativas ilegais. Uma tentativa ilegal neste conjunto de dados é uma tentativa de transferir mais de 200.000 em uma única transação."
   ]
  },
  {
   "cell_type": "markdown",
   "id": "9558cbf5",
   "metadata": {
    "hidden": true
   },
   "source": [
    "## 1.1 Data Dimensions"
   ]
  },
  {
   "cell_type": "code",
   "execution_count": 7,
   "id": "c6a5b355",
   "metadata": {
    "ExecuteTime": {
     "end_time": "2021-08-25T15:57:04.753893Z",
     "start_time": "2021-08-25T15:57:04.739865Z"
    },
    "hidden": true
   },
   "outputs": [
    {
     "data": {
      "text/plain": [
       "(636262, 11)"
      ]
     },
     "execution_count": 7,
     "metadata": {},
     "output_type": "execute_result"
    }
   ],
   "source": [
    "df1.shape"
   ]
  },
  {
   "cell_type": "markdown",
   "id": "1949e029",
   "metadata": {
    "hidden": true
   },
   "source": [
    "## 1.2 Rename Columns"
   ]
  },
  {
   "cell_type": "code",
   "execution_count": 8,
   "id": "6857174a",
   "metadata": {
    "ExecuteTime": {
     "end_time": "2021-08-25T15:57:04.769378Z",
     "start_time": "2021-08-25T15:57:04.755978Z"
    },
    "hidden": true
   },
   "outputs": [],
   "source": [
    "cols_new = ['step', 'type', 'amount', 'name_orig', 'old_balance_org', 'new_balance_orig',\n",
    "       'name_dest', 'old_balance_dest', 'new_balance_dest', 'is_flagged_fraud',\n",
    "       'is_fraud']\n",
    "\n",
    "df1.columns = cols_new"
   ]
  },
  {
   "cell_type": "markdown",
   "id": "75471644",
   "metadata": {
    "hidden": true
   },
   "source": [
    "## 1.3 Data Types"
   ]
  },
  {
   "cell_type": "code",
   "execution_count": 9,
   "id": "a1c535e8",
   "metadata": {
    "ExecuteTime": {
     "end_time": "2021-08-25T15:57:04.784657Z",
     "start_time": "2021-08-25T15:57:04.772377Z"
    },
    "hidden": true
   },
   "outputs": [
    {
     "data": {
      "text/plain": [
       "step                  int64\n",
       "type                 object\n",
       "amount              float64\n",
       "name_orig            object\n",
       "old_balance_org     float64\n",
       "new_balance_orig    float64\n",
       "name_dest            object\n",
       "old_balance_dest    float64\n",
       "new_balance_dest    float64\n",
       "is_flagged_fraud      int64\n",
       "is_fraud              int64\n",
       "dtype: object"
      ]
     },
     "execution_count": 9,
     "metadata": {},
     "output_type": "execute_result"
    }
   ],
   "source": [
    "df1.dtypes"
   ]
  },
  {
   "cell_type": "markdown",
   "id": "0bfc9738",
   "metadata": {
    "hidden": true
   },
   "source": [
    "## 1.4 Check Na"
   ]
  },
  {
   "cell_type": "code",
   "execution_count": 10,
   "id": "396827a4",
   "metadata": {
    "ExecuteTime": {
     "end_time": "2021-08-25T15:57:04.909210Z",
     "start_time": "2021-08-25T15:57:04.786554Z"
    },
    "hidden": true
   },
   "outputs": [
    {
     "data": {
      "text/plain": [
       "step                0\n",
       "type                0\n",
       "amount              0\n",
       "name_orig           0\n",
       "old_balance_org     0\n",
       "new_balance_orig    0\n",
       "name_dest           0\n",
       "old_balance_dest    0\n",
       "new_balance_dest    0\n",
       "is_flagged_fraud    0\n",
       "is_fraud            0\n",
       "dtype: int64"
      ]
     },
     "execution_count": 10,
     "metadata": {},
     "output_type": "execute_result"
    }
   ],
   "source": [
    "df1.isna().sum()"
   ]
  },
  {
   "cell_type": "markdown",
   "id": "01df2d14",
   "metadata": {
    "hidden": true
   },
   "source": [
    "## 1.5 Fillout Na"
   ]
  },
  {
   "cell_type": "markdown",
   "id": "abed22ab",
   "metadata": {
    "hidden": true
   },
   "source": [
    "There are not Nan values in the dataset"
   ]
  },
  {
   "cell_type": "markdown",
   "id": "5c6e0f8a",
   "metadata": {
    "hidden": true
   },
   "source": [
    "## 1.6 Change Types"
   ]
  },
  {
   "cell_type": "code",
   "execution_count": 11,
   "id": "459fb47c",
   "metadata": {
    "ExecuteTime": {
     "end_time": "2021-08-25T15:57:04.940204Z",
     "start_time": "2021-08-25T15:57:04.910142Z"
    },
    "hidden": true
   },
   "outputs": [],
   "source": [
    "df1['is_flagged_fraud'] = df1['is_flagged_fraud'].astype('int8')\n",
    "df1['is_fraud'] = df1['is_fraud'].astype('int8')\n",
    "df1['step'] = df1['step'].astype('int16')"
   ]
  },
  {
   "cell_type": "markdown",
   "id": "341b9579",
   "metadata": {
    "hidden": true
   },
   "source": [
    "## 1.7 Descriptive Statistical"
   ]
  },
  {
   "cell_type": "markdown",
   "id": "2722f0cb",
   "metadata": {
    "hidden": true
   },
   "source": [
    "### 1.7.1 Numerical Atributes"
   ]
  },
  {
   "cell_type": "code",
   "execution_count": 12,
   "id": "58644fab",
   "metadata": {
    "ExecuteTime": {
     "end_time": "2021-08-25T15:57:05.207247Z",
     "start_time": "2021-08-25T15:57:04.941739Z"
    },
    "hidden": true
   },
   "outputs": [],
   "source": [
    "# Central tendecy - mean, median\n",
    "# Dispersion - std, min, max, skew, kurtosis\n",
    "skew = df1.skew()\n",
    "kurtosis = df1.kurtosis()"
   ]
  },
  {
   "cell_type": "code",
   "execution_count": 13,
   "id": "a3f31af1",
   "metadata": {
    "ExecuteTime": {
     "end_time": "2021-08-25T15:57:05.362742Z",
     "start_time": "2021-08-25T15:57:05.208258Z"
    },
    "hidden": true
   },
   "outputs": [
    {
     "data": {
      "text/html": [
       "<div>\n",
       "<style scoped>\n",
       "    .dataframe tbody tr th:only-of-type {\n",
       "        vertical-align: middle;\n",
       "    }\n",
       "\n",
       "    .dataframe tbody tr th {\n",
       "        vertical-align: top;\n",
       "    }\n",
       "\n",
       "    .dataframe thead th {\n",
       "        text-align: right;\n",
       "    }\n",
       "</style>\n",
       "<table border=\"1\" class=\"dataframe\">\n",
       "  <thead>\n",
       "    <tr style=\"text-align: right;\">\n",
       "      <th></th>\n",
       "      <th>Mean</th>\n",
       "      <th>STD</th>\n",
       "      <th>Min</th>\n",
       "      <th>Median</th>\n",
       "      <th>Max</th>\n",
       "      <th>Skew</th>\n",
       "      <th>Kurtosis</th>\n",
       "    </tr>\n",
       "  </thead>\n",
       "  <tbody>\n",
       "    <tr>\n",
       "      <th>step</th>\n",
       "      <td>243.602</td>\n",
       "      <td>142.398</td>\n",
       "      <td>1.000</td>\n",
       "      <td>241.000</td>\n",
       "      <td>743.000</td>\n",
       "      <td>0.369</td>\n",
       "      <td>0.316</td>\n",
       "    </tr>\n",
       "    <tr>\n",
       "      <th>amount</th>\n",
       "      <td>180035.707</td>\n",
       "      <td>600588.416</td>\n",
       "      <td>0.000</td>\n",
       "      <td>74896.380</td>\n",
       "      <td>69886731.300</td>\n",
       "      <td>30.744</td>\n",
       "      <td>1757.616</td>\n",
       "    </tr>\n",
       "    <tr>\n",
       "      <th>old_balance_org</th>\n",
       "      <td>838195.682</td>\n",
       "      <td>2900800.457</td>\n",
       "      <td>0.000</td>\n",
       "      <td>14057.340</td>\n",
       "      <td>59585040.370</td>\n",
       "      <td>5.248</td>\n",
       "      <td>33.096</td>\n",
       "    </tr>\n",
       "    <tr>\n",
       "      <th>new_balance_orig</th>\n",
       "      <td>859357.665</td>\n",
       "      <td>2935834.207</td>\n",
       "      <td>0.000</td>\n",
       "      <td>0.000</td>\n",
       "      <td>49585040.370</td>\n",
       "      <td>5.172</td>\n",
       "      <td>32.038</td>\n",
       "    </tr>\n",
       "    <tr>\n",
       "      <th>old_balance_dest</th>\n",
       "      <td>1106841.080</td>\n",
       "      <td>3486732.494</td>\n",
       "      <td>0.000</td>\n",
       "      <td>132774.340</td>\n",
       "      <td>355381433.610</td>\n",
       "      <td>21.979</td>\n",
       "      <td>1164.214</td>\n",
       "    </tr>\n",
       "    <tr>\n",
       "      <th>new_balance_dest</th>\n",
       "      <td>1230661.224</td>\n",
       "      <td>3754355.690</td>\n",
       "      <td>0.000</td>\n",
       "      <td>215337.580</td>\n",
       "      <td>355380483.530</td>\n",
       "      <td>21.226</td>\n",
       "      <td>1048.217</td>\n",
       "    </tr>\n",
       "    <tr>\n",
       "      <th>is_flagged_fraud</th>\n",
       "      <td>0.000</td>\n",
       "      <td>0.003</td>\n",
       "      <td>0.000</td>\n",
       "      <td>0.000</td>\n",
       "      <td>1.000</td>\n",
       "      <td>398.827</td>\n",
       "      <td>159061.750</td>\n",
       "    </tr>\n",
       "    <tr>\n",
       "      <th>is_fraud</th>\n",
       "      <td>0.001</td>\n",
       "      <td>0.036</td>\n",
       "      <td>0.000</td>\n",
       "      <td>0.000</td>\n",
       "      <td>1.000</td>\n",
       "      <td>27.785</td>\n",
       "      <td>769.992</td>\n",
       "    </tr>\n",
       "  </tbody>\n",
       "</table>\n",
       "</div>"
      ],
      "text/plain": [
       "                        Mean         STD   Min     Median           Max    Skew   Kurtosis\n",
       "step                 243.602     142.398 1.000    241.000       743.000   0.369      0.316\n",
       "amount            180035.707  600588.416 0.000  74896.380  69886731.300  30.744   1757.616\n",
       "old_balance_org   838195.682 2900800.457 0.000  14057.340  59585040.370   5.248     33.096\n",
       "new_balance_orig  859357.665 2935834.207 0.000      0.000  49585040.370   5.172     32.038\n",
       "old_balance_dest 1106841.080 3486732.494 0.000 132774.340 355381433.610  21.979   1164.214\n",
       "new_balance_dest 1230661.224 3754355.690 0.000 215337.580 355380483.530  21.226   1048.217\n",
       "is_flagged_fraud       0.000       0.003 0.000      0.000         1.000 398.827 159061.750\n",
       "is_fraud               0.001       0.036 0.000      0.000         1.000  27.785    769.992"
      ]
     },
     "execution_count": 13,
     "metadata": {},
     "output_type": "execute_result"
    }
   ],
   "source": [
    "metrics = pd.DataFrame(df1.describe().drop(['count','25%','75%']).T)\n",
    "metrics = pd.concat([metrics, skew, kurtosis], axis=1)\n",
    "metrics.columns = ['Mean','STD','Min','Median','Max',' Skew','Kurtosis']\n",
    "metrics"
   ]
  },
  {
   "cell_type": "markdown",
   "id": "ddfd7340",
   "metadata": {
    "hidden": true
   },
   "source": [
    "### 1.7.2 Categorical Atributes"
   ]
  },
  {
   "cell_type": "code",
   "execution_count": 14,
   "id": "8041a368",
   "metadata": {
    "ExecuteTime": {
     "end_time": "2021-08-25T15:57:05.630055Z",
     "start_time": "2021-08-25T15:57:05.364098Z"
    },
    "hidden": true
   },
   "outputs": [
    {
     "data": {
      "text/plain": [
       "type              5\n",
       "name_orig    636170\n",
       "name_dest    457297\n",
       "dtype: int64"
      ]
     },
     "execution_count": 14,
     "metadata": {},
     "output_type": "execute_result"
    }
   ],
   "source": [
    "cat_attributes = df1.select_dtypes(include=['object'])\n",
    "cat_attributes.apply(lambda x: x.unique().shape[0])"
   ]
  },
  {
   "cell_type": "code",
   "execution_count": 15,
   "id": "3e91a9cf",
   "metadata": {
    "ExecuteTime": {
     "end_time": "2021-08-25T15:57:06.493745Z",
     "start_time": "2021-08-25T15:57:05.630952Z"
    },
    "hidden": true
   },
   "outputs": [
    {
     "data": {
      "text/html": [
       "<div>\n",
       "<style scoped>\n",
       "    .dataframe tbody tr th:only-of-type {\n",
       "        vertical-align: middle;\n",
       "    }\n",
       "\n",
       "    .dataframe tbody tr th {\n",
       "        vertical-align: top;\n",
       "    }\n",
       "\n",
       "    .dataframe thead th {\n",
       "        text-align: right;\n",
       "    }\n",
       "</style>\n",
       "<table border=\"1\" class=\"dataframe\">\n",
       "  <thead>\n",
       "    <tr style=\"text-align: right;\">\n",
       "      <th></th>\n",
       "      <th>type</th>\n",
       "      <th>name_orig</th>\n",
       "      <th>name_dest</th>\n",
       "    </tr>\n",
       "  </thead>\n",
       "  <tbody>\n",
       "    <tr>\n",
       "      <th>count</th>\n",
       "      <td>636262</td>\n",
       "      <td>636262</td>\n",
       "      <td>636262</td>\n",
       "    </tr>\n",
       "    <tr>\n",
       "      <th>unique</th>\n",
       "      <td>5</td>\n",
       "      <td>636170</td>\n",
       "      <td>457297</td>\n",
       "    </tr>\n",
       "    <tr>\n",
       "      <th>top</th>\n",
       "      <td>CASH_OUT</td>\n",
       "      <td>C740029352</td>\n",
       "      <td>C248609774</td>\n",
       "    </tr>\n",
       "    <tr>\n",
       "      <th>freq</th>\n",
       "      <td>223667</td>\n",
       "      <td>2</td>\n",
       "      <td>16</td>\n",
       "    </tr>\n",
       "  </tbody>\n",
       "</table>\n",
       "</div>"
      ],
      "text/plain": [
       "            type   name_orig   name_dest\n",
       "count     636262      636262      636262\n",
       "unique         5      636170      457297\n",
       "top     CASH_OUT  C740029352  C248609774\n",
       "freq      223667           2          16"
      ]
     },
     "execution_count": 15,
     "metadata": {},
     "output_type": "execute_result"
    }
   ],
   "source": [
    "cat_attributes.describe()"
   ]
  },
  {
   "cell_type": "markdown",
   "id": "b2666071",
   "metadata": {
    "heading_collapsed": true
   },
   "source": [
    "# 2.0 feature Engineering"
   ]
  },
  {
   "cell_type": "code",
   "execution_count": 16,
   "id": "fffc4aea",
   "metadata": {
    "ExecuteTime": {
     "end_time": "2021-08-25T15:57:06.524318Z",
     "start_time": "2021-08-25T15:57:06.494578Z"
    },
    "hidden": true
   },
   "outputs": [],
   "source": [
    "df2 = df1.copy()"
   ]
  },
  {
   "cell_type": "markdown",
   "id": "a09f7317",
   "metadata": {
    "heading_collapsed": true,
    "hidden": true
   },
   "source": [
    "## 2.1 Feature creation"
   ]
  },
  {
   "cell_type": "code",
   "execution_count": 17,
   "id": "98da861a",
   "metadata": {
    "ExecuteTime": {
     "end_time": "2021-08-25T15:57:06.700543Z",
     "start_time": "2021-08-25T15:57:06.526057Z"
    },
    "hidden": true
   },
   "outputs": [],
   "source": [
    "# create column turning step into days\n",
    "df2['days'] = df2['step'].apply(lambda x:  x/24 if x > 24 else 1)\n",
    "\n",
    "# calculate difference between new balance and old balance ( orig and destination)\n",
    "df2['dif_balance_orig'] =   df2['new_balance_orig'] - df2['old_balance_org']\n",
    "df2['dif_balance_dest'] = df2['new_balance_dest'] -  df2['old_balance_dest'] "
   ]
  },
  {
   "cell_type": "markdown",
   "id": "40a1d3cb",
   "metadata": {
    "hidden": true
   },
   "source": [
    "## 2.2 Hypotheses List"
   ]
  },
  {
   "cell_type": "markdown",
   "id": "1394f412",
   "metadata": {
    "hidden": true
   },
   "source": [
    "H1. Valores de transação maiores de 10 milhões possuem uma média maior de fruades.\n",
    "\n",
    "H2. Operações do tipo CASH OUT tem em média 20% mais fraudes.\n",
    "\n",
    "H3. Operações realizadas nos 15 primeiros dias tem em media mais fraudes.\n",
    "\n",
    "H4. Clientes que realizam alguma opção de retirada de dinheiro da conta (CASH OUT, TRANSFER) e possuem saldo menor do que o valor retirado possuem em média um maior número de fraudes.\n",
    "\n",
    "H5. Clientes de destino que tinham saldo 0 e após uma transferência continuaram com saldo 0 tem em média 30% a mais de fraudes"
   ]
  },
  {
   "cell_type": "markdown",
   "id": "eb147a39",
   "metadata": {
    "heading_collapsed": true
   },
   "source": [
    "# 3.0 Variable Filtering"
   ]
  },
  {
   "cell_type": "code",
   "execution_count": 18,
   "id": "ec96dd03",
   "metadata": {
    "ExecuteTime": {
     "end_time": "2021-08-25T15:57:06.732007Z",
     "start_time": "2021-08-25T15:57:06.702448Z"
    },
    "hidden": true
   },
   "outputs": [],
   "source": [
    "df3 = df2.copy()"
   ]
  },
  {
   "cell_type": "code",
   "execution_count": 19,
   "id": "c71d5985",
   "metadata": {
    "ExecuteTime": {
     "end_time": "2021-08-25T15:57:06.746928Z",
     "start_time": "2021-08-25T15:57:06.733019Z"
    },
    "hidden": true
   },
   "outputs": [],
   "source": [
    "#df3.drop(columns=['name_orig', 'name_dest'], axis=1, inplace=True)"
   ]
  },
  {
   "cell_type": "markdown",
   "id": "0a81f1f0",
   "metadata": {
    "heading_collapsed": true
   },
   "source": [
    "# 4.0 EDA"
   ]
  },
  {
   "cell_type": "code",
   "execution_count": 20,
   "id": "5c8f70b6",
   "metadata": {
    "ExecuteTime": {
     "end_time": "2021-08-25T15:57:06.779048Z",
     "start_time": "2021-08-25T15:57:06.749503Z"
    },
    "hidden": true
   },
   "outputs": [],
   "source": [
    "df4 = df3.copy()"
   ]
  },
  {
   "cell_type": "markdown",
   "id": "4aa2c888",
   "metadata": {
    "hidden": true
   },
   "source": [
    "### Pandas Profiling"
   ]
  },
  {
   "cell_type": "code",
   "execution_count": 21,
   "id": "37330c0f",
   "metadata": {
    "ExecuteTime": {
     "end_time": "2021-08-25T15:57:07.660351Z",
     "start_time": "2021-08-25T15:57:06.779483Z"
    },
    "hidden": true
   },
   "outputs": [],
   "source": [
    "from pandas_profiling import ProfileReport"
   ]
  },
  {
   "cell_type": "code",
   "execution_count": 22,
   "id": "b952f2d3",
   "metadata": {
    "ExecuteTime": {
     "end_time": "2021-08-25T15:57:07.675470Z",
     "start_time": "2021-08-25T15:57:07.663374Z"
    },
    "hidden": true
   },
   "outputs": [],
   "source": [
    "#report = ProfileReport(df4, title='Pandas Profiling Report')"
   ]
  },
  {
   "cell_type": "code",
   "execution_count": 23,
   "id": "37a8404b",
   "metadata": {
    "ExecuteTime": {
     "end_time": "2021-08-25T15:57:07.690647Z",
     "start_time": "2021-08-25T15:57:07.681481Z"
    },
    "hidden": true
   },
   "outputs": [],
   "source": [
    "#report.to_file('report.html')"
   ]
  },
  {
   "cell_type": "markdown",
   "id": "794b42ed",
   "metadata": {
    "heading_collapsed": true,
    "hidden": true
   },
   "source": [
    "## 4.1 Univariate Analysis"
   ]
  },
  {
   "cell_type": "markdown",
   "id": "1313b5cb",
   "metadata": {
    "heading_collapsed": true,
    "hidden": true
   },
   "source": [
    "### 4.1.1 Response Variable"
   ]
  },
  {
   "cell_type": "code",
   "execution_count": 24,
   "id": "116fc35a",
   "metadata": {
    "ExecuteTime": {
     "end_time": "2021-08-25T15:57:07.879294Z",
     "start_time": "2021-08-25T15:57:07.692638Z"
    },
    "hidden": true
   },
   "outputs": [
    {
     "data": {
      "image/png": "[encoded data removed]",
      "text/plain": [
       "<Figure size 1296x648 with 1 Axes>"
      ]
     },
     "metadata": {},
     "output_type": "display_data"
    }
   ],
   "source": [
    "sns.countplot(df4['is_fraud'], edgecolor='k');"
   ]
  },
  {
   "cell_type": "markdown",
   "id": "c1808778",
   "metadata": {
    "hidden": true
   },
   "source": [
    "Como é perceptível a classe target é extremamente desbalanceada, os devidos tratamentos, se necessários, serão feitos em etapas futuras\n"
   ]
  },
  {
   "cell_type": "markdown",
   "id": "5f4edc0a",
   "metadata": {
    "heading_collapsed": true,
    "hidden": true
   },
   "source": [
    "### 4.1.2 Numerical variables"
   ]
  },
  {
   "cell_type": "code",
   "execution_count": 25,
   "id": "77381c6a",
   "metadata": {
    "ExecuteTime": {
     "end_time": "2021-08-25T15:57:10.052957Z",
     "start_time": "2021-08-25T15:57:07.881371Z"
    },
    "hidden": true
   },
   "outputs": [
    {
     "data": {
      "image/png": "[encoded data removed]",
      "text/plain": [
       "<Figure size 1440x720 with 12 Axes>"
      ]
     },
     "metadata": {},
     "output_type": "display_data"
    }
   ],
   "source": [
    "num_atributes = df4.select_dtypes(exclude='object')\n",
    "num_atributes.hist(figsize=(20,10), bins=25);\n",
    "plt.tight_layout()"
   ]
  },
  {
   "cell_type": "code",
   "execution_count": 26,
   "id": "ea59b486",
   "metadata": {
    "ExecuteTime": {
     "end_time": "2021-08-25T15:57:10.303488Z",
     "start_time": "2021-08-25T15:57:10.054864Z"
    },
    "hidden": true,
    "scrolled": false
   },
   "outputs": [
    {
     "data": {
      "text/plain": [
       "<AxesSubplot:xlabel='amount'>"
      ]
     },
     "execution_count": 26,
     "metadata": {},
     "output_type": "execute_result"
    },
    {
     "data": {
      "image/png": "[encoded data removed]",
      "text/plain": [
       "<Figure size 1296x648 with 1 Axes>"
      ]
     },
     "metadata": {},
     "output_type": "display_data"
    }
   ],
   "source": [
    "# amount - verificar valores acima de 52 milhoes\n",
    "sns.boxplot(df4['amount'])"
   ]
  },
  {
   "cell_type": "code",
   "execution_count": 27,
   "id": "05a6885c",
   "metadata": {
    "ExecuteTime": {
     "end_time": "2021-08-25T15:57:10.761750Z",
     "start_time": "2021-08-25T15:57:10.305638Z"
    },
    "hidden": true
   },
   "outputs": [
    {
     "data": {
      "image/png": "[encoded data removed]",
      "text/plain": [
       "<Figure size 1296x648 with 1 Axes>"
      ]
     },
     "metadata": {},
     "output_type": "display_data"
    }
   ],
   "source": [
    "# old balance org \n",
    "sns.boxplot(df4['old_balance_org']);"
   ]
  },
  {
   "cell_type": "markdown",
   "id": "e4343082",
   "metadata": {
    "hidden": true
   },
   "source": [
    "Os dois valores acima de 38 milhões foram detectados como fraude"
   ]
  },
  {
   "cell_type": "code",
   "execution_count": 28,
   "id": "3af3d2a8",
   "metadata": {
    "ExecuteTime": {
     "end_time": "2021-08-25T15:57:11.184465Z",
     "start_time": "2021-08-25T15:57:10.763835Z"
    },
    "hidden": true
   },
   "outputs": [
    {
     "data": {
      "image/png": "[encoded data removed]",
      "text/plain": [
       "<Figure size 1296x648 with 1 Axes>"
      ]
     },
     "metadata": {},
     "output_type": "display_data"
    }
   ],
   "source": [
    "# new balance org \n",
    "sns.boxplot(df4['new_balance_orig']);"
   ]
  },
  {
   "cell_type": "markdown",
   "id": "e45193fc",
   "metadata": {
    "hidden": true
   },
   "source": [
    "Os dois valores acima de 38 milhoes foram detectados como fraude"
   ]
  },
  {
   "cell_type": "code",
   "execution_count": 29,
   "id": "79afef97",
   "metadata": {
    "ExecuteTime": {
     "end_time": "2021-08-25T15:57:11.514407Z",
     "start_time": "2021-08-25T15:57:11.186555Z"
    },
    "hidden": true
   },
   "outputs": [
    {
     "data": {
      "image/png": "[encoded data removed]",
      "text/plain": [
       "<Figure size 1296x648 with 1 Axes>"
      ]
     },
     "metadata": {},
     "output_type": "display_data"
    }
   ],
   "source": [
    "# old balance dest\n",
    "sns.boxplot(df4['old_balance_dest']);"
   ]
  },
  {
   "cell_type": "code",
   "execution_count": 30,
   "id": "f73c24ac",
   "metadata": {
    "ExecuteTime": {
     "end_time": "2021-08-25T15:57:11.893965Z",
     "start_time": "2021-08-25T15:57:11.516401Z"
    },
    "hidden": true
   },
   "outputs": [
    {
     "data": {
      "image/png": "[encoded data removed]",
      "text/plain": [
       "<Figure size 1296x648 with 1 Axes>"
      ]
     },
     "metadata": {},
     "output_type": "display_data"
    }
   ],
   "source": [
    "# new balance dest\n",
    "sns.boxplot(df4['new_balance_dest']);"
   ]
  },
  {
   "cell_type": "markdown",
   "id": "e520c2dd",
   "metadata": {
    "hidden": true
   },
   "source": [
    "- Após uma melhor exploração dos dados, verifocu-se que os atrbutos old balance dest, new balance dest e old balance org possuem valores zeros na maioria dos casos de fraude, o que pode indicar alguma tendência de comportamento nesses casos."
   ]
  },
  {
   "cell_type": "markdown",
   "id": "a7da88aa",
   "metadata": {
    "hidden": true
   },
   "source": [
    "### 4.1.3 Categorical Variables"
   ]
  },
  {
   "cell_type": "code",
   "execution_count": 31,
   "id": "b70ed895",
   "metadata": {
    "ExecuteTime": {
     "end_time": "2021-08-25T15:57:12.303086Z",
     "start_time": "2021-08-25T15:57:11.895963Z"
    },
    "hidden": true
   },
   "outputs": [
    {
     "data": {
      "image/png": "[encoded data removed]",
      "text/plain": [
       "<Figure size 1296x648 with 1 Axes>"
      ]
     },
     "metadata": {},
     "output_type": "display_data"
    }
   ],
   "source": [
    "ax = sns.countplot(df4['type'], edgecolor='k');\n",
    "\n",
    "total = len(df4)\n",
    "for p in ax.patches:\n",
    "    percentage = f'{100 * p.get_height() / total:.1f}%\\n'\n",
    "    x = p.get_x() + p.get_width() / 2\n",
    "    y = p.get_height()\n",
    "    ax.annotate(percentage, (x, y))"
   ]
  },
  {
   "cell_type": "markdown",
   "id": "947f8865",
   "metadata": {
    "heading_collapsed": true,
    "hidden": true
   },
   "source": [
    "## 4.2 Bivariate Analysis"
   ]
  },
  {
   "cell_type": "markdown",
   "id": "4a8d3006",
   "metadata": {
    "hidden": true
   },
   "source": [
    "### H1. Valores de transações maiores de 2 milhões possuem em média 10% mais fruades.\n",
    "**Falsa** - Valores de transações menores de 2 milhões possuem 50% a mais de fraudes"
   ]
  },
  {
   "cell_type": "code",
   "execution_count": 32,
   "id": "256c1564",
   "metadata": {
    "ExecuteTime": {
     "end_time": "2021-08-25T15:57:12.427335Z",
     "start_time": "2021-08-25T15:57:12.304228Z"
    },
    "hidden": true
   },
   "outputs": [
    {
     "data": {
      "image/png": "[encoded data removed]",
      "text/plain": [
       "<Figure size 1296x648 with 1 Axes>"
      ]
     },
     "metadata": {},
     "output_type": "display_data"
    }
   ],
   "source": [
    "aux = df4.loc[df4['is_fraud'] == 1].copy()\n",
    "aux['amount'] = aux['amount'].apply(lambda x: 'more then 2MM' if x > 2000000 else 'less then 2MM')\n",
    "ax = sns.countplot(aux['amount'], edgecolor='k');\n",
    "\n",
    "total = len(aux)\n",
    "for p in ax.patches:\n",
    "    percentage = f'{100 * p.get_height() / total:.1f}%\\n'\n",
    "    x = p.get_x() + p.get_width() / 2\n",
    "    y = p.get_height()\n",
    "    ax.annotate(percentage, (x, y))"
   ]
  },
  {
   "cell_type": "markdown",
   "id": "b1083595",
   "metadata": {
    "hidden": true
   },
   "source": [
    "### H2. Operações do tipo CASH OUT tem em média 20% mais fraudes.\n",
    "**Falsa** - Operações do tipo CASH OUT possuem 3% a mais de fraudes. Obs: Apenas operações do tipo TRANSFER e CASH OUT possuem casos de fraude."
   ]
  },
  {
   "cell_type": "code",
   "execution_count": 33,
   "id": "33e45123",
   "metadata": {
    "ExecuteTime": {
     "end_time": "2021-08-25T15:57:12.551817Z",
     "start_time": "2021-08-25T15:57:12.428023Z"
    },
    "hidden": true
   },
   "outputs": [
    {
     "data": {
      "image/png": "[encoded data removed]",
      "text/plain": [
       "<Figure size 1296x648 with 1 Axes>"
      ]
     },
     "metadata": {},
     "output_type": "display_data"
    }
   ],
   "source": [
    "aux = df4.loc[df4['is_fraud'] == 1].copy()\n",
    "ax = sns.countplot(aux['type'], edgecolor='k');\n",
    "\n",
    "total = len(aux)\n",
    "for p in ax.patches:\n",
    "    percentage = f'{100 * p.get_height() / total:.1f}%\\n'\n",
    "    x = p.get_x() + p.get_width() / 2\n",
    "    y = p.get_height()\n",
    "    ax.annotate(percentage, (x, y))"
   ]
  },
  {
   "cell_type": "markdown",
   "id": "175aad42",
   "metadata": {
    "hidden": true
   },
   "source": [
    "É possível notar que todas as fraudes ocorreram apenas com esses dois tipos de operação "
   ]
  },
  {
   "cell_type": "markdown",
   "id": "71fc33a0",
   "metadata": {
    "hidden": true
   },
   "source": [
    "### H3. Operações realizadas nos 15 primeiros dias tem em media 30% mais fraudes.\n",
    "**Falsa** - Operações realizadas nos 15 primeiros dias possuem o mesmo número de fraudes das operações realizadas nos ultimos 15 dias."
   ]
  },
  {
   "cell_type": "code",
   "execution_count": 34,
   "id": "2a4a2159",
   "metadata": {
    "ExecuteTime": {
     "end_time": "2021-08-25T15:57:12.693245Z",
     "start_time": "2021-08-25T15:57:12.553741Z"
    },
    "hidden": true
   },
   "outputs": [
    {
     "data": {
      "image/png": "[encoded data removed]",
      "text/plain": [
       "<Figure size 1296x648 with 1 Axes>"
      ]
     },
     "metadata": {},
     "output_type": "display_data"
    }
   ],
   "source": [
    "aux = df4.loc[df4['is_fraud'] == 1].copy()\n",
    "aux['days'] = aux['days'].apply(lambda x: 'more then 15' if x > 15 else 'less then 15')\n",
    "ax = sns.countplot(aux['days'], edgecolor='k');\n",
    "\n",
    "total = len(aux)\n",
    "for p in ax.patches:\n",
    "    percentage = f'{100 * p.get_height() / total:.1f}%\\n'\n",
    "    x = p.get_x() + p.get_width() / 2\n",
    "    y = p.get_height()\n",
    "    ax.annotate(percentage, (x, y))"
   ]
  },
  {
   "cell_type": "markdown",
   "id": "30b38f9e",
   "metadata": {
    "hidden": true
   },
   "source": [
    "### H4. Clientes que realizam alguma opção de retirada de dinheiro da conta (CASH OUT, TRANSFER) e possuem saldo menor do que o valor retirado possuem em média um maior número de fraudes.\n",
    "**Falsa** - Clientes que realizam alguma opção de retirada de dinheiro da conta (CASH OUT, TRANSFER) e possuem saldo menor do que o valor retirado possuem menos ocorrencias de fraude."
   ]
  },
  {
   "cell_type": "code",
   "execution_count": 35,
   "id": "2779a2d3",
   "metadata": {
    "ExecuteTime": {
     "end_time": "2021-08-25T15:57:12.852452Z",
     "start_time": "2021-08-25T15:57:12.694659Z"
    },
    "hidden": true
   },
   "outputs": [
    {
     "data": {
      "image/png": "[encoded data removed]",
      "text/plain": [
       "<Figure size 1296x648 with 1 Axes>"
      ]
     },
     "metadata": {},
     "output_type": "display_data"
    }
   ],
   "source": [
    "aux = df4.loc[df4['is_fraud'] == 1].copy()\n",
    "aux['old_balance_org'] = aux[['old_balance_org','amount']].apply(lambda x: 'has more' if x['amount'] <= x['old_balance_org'] else 'has less', axis=1)\n",
    "ax = sns.countplot(aux['old_balance_org'], edgecolor='k')\n",
    "\n",
    "total = len(aux)\n",
    "for p in ax.patches:\n",
    "    percentage = f'{100 * p.get_height() / total:.1f}%\\n'\n",
    "    x = p.get_x() + p.get_width() / 2\n",
    "    y = p.get_height()\n",
    "    ax.annotate(percentage, (x, y))"
   ]
  },
  {
   "cell_type": "markdown",
   "id": "14160d08",
   "metadata": {
    "ExecuteTime": {
     "end_time": "2021-08-20T00:13:28.699908Z",
     "start_time": "2021-08-20T00:13:28.693872Z"
    },
    "hidden": true
   },
   "source": [
    "### H5. Clientes de destino que tinham saldo 0 e após uma transferência continuaram com saldo 0 tem em média 30% a mais de fraudes\n",
    "**Falsa** - Clientes de destino que tinham saldo 0 e após uma transferência continuaram com saldo 0 tem em média 3% menos fraudes"
   ]
  },
  {
   "cell_type": "code",
   "execution_count": 36,
   "id": "bf80f0d5",
   "metadata": {
    "ExecuteTime": {
     "end_time": "2021-08-25T15:57:13.118502Z",
     "start_time": "2021-08-25T15:57:12.853402Z"
    },
    "hidden": true,
    "scrolled": false
   },
   "outputs": [
    {
     "data": {
      "image/png": "[encoded data removed]",
      "text/plain": [
       "<Figure size 1296x648 with 1 Axes>"
      ]
     },
     "metadata": {},
     "output_type": "display_data"
    }
   ],
   "source": [
    "aux = df4.loc[df4['is_fraud'] == 1].copy()\n",
    "aux['diference_balance'] = aux[['old_balance_dest','new_balance_dest']].apply(lambda x: 'yes' if (x['old_balance_dest'] == 0) & (x['new_balance_dest'] == 0) else 'no', axis=1)\n",
    "ax = sns.countplot(aux['diference_balance'], edgecolor='k')\n",
    "total = len(aux)\n",
    "for p in ax.patches:\n",
    "    percentage = f'{100 * p.get_height() / total:.1f}%\\n'\n",
    "    x = p.get_x() + p.get_width() / 2\n",
    "    y = p.get_height()\n",
    "    ax.annotate(percentage, (x, y))"
   ]
  },
  {
   "cell_type": "markdown",
   "id": "f7d68caf",
   "metadata": {
    "heading_collapsed": true,
    "hidden": true
   },
   "source": [
    "## 4.3 Multivariate Analysis"
   ]
  },
  {
   "cell_type": "markdown",
   "id": "e28c29a4",
   "metadata": {
    "hidden": true
   },
   "source": [
    "### 4.3.1 Numerical Atributes"
   ]
  },
  {
   "cell_type": "code",
   "execution_count": 37,
   "id": "e1112740",
   "metadata": {
    "ExecuteTime": {
     "end_time": "2021-08-25T15:57:13.952922Z",
     "start_time": "2021-08-25T15:57:13.120700Z"
    },
    "hidden": true
   },
   "outputs": [
    {
     "data": {
      "text/plain": [
       "<AxesSubplot:>"
      ]
     },
     "execution_count": 37,
     "metadata": {},
     "output_type": "execute_result"
    },
    {
     "data": {
      "image/png": "[encoded data removed]",
      "text/plain": [
       "<Figure size 1296x648 with 2 Axes>"
      ]
     },
     "metadata": {},
     "output_type": "display_data"
    }
   ],
   "source": [
    "correlation = num_atributes.corr(method='pearson')\n",
    "sns.heatmap(correlation, annot=True)"
   ]
  },
  {
   "cell_type": "markdown",
   "id": "6f4f2479",
   "metadata": {
    "heading_collapsed": true
   },
   "source": [
    "# 5.0 Data Preparation"
   ]
  },
  {
   "cell_type": "code",
   "execution_count": 38,
   "id": "4b1985c7",
   "metadata": {
    "ExecuteTime": {
     "end_time": "2021-08-25T15:57:13.984324Z",
     "start_time": "2021-08-25T15:57:13.954258Z"
    },
    "hidden": true
   },
   "outputs": [],
   "source": [
    "df5 = df4.copy()"
   ]
  },
  {
   "cell_type": "markdown",
   "id": "0505336f",
   "metadata": {
    "hidden": true
   },
   "source": [
    "## 5.1 Split dataframe into train, test and validation"
   ]
  },
  {
   "cell_type": "code",
   "execution_count": 39,
   "id": "5d2a340d",
   "metadata": {
    "ExecuteTime": {
     "end_time": "2021-08-25T15:57:13.999477Z",
     "start_time": "2021-08-25T15:57:13.985698Z"
    },
    "hidden": true
   },
   "outputs": [],
   "source": [
    "from sklearn.model_selection import train_test_split"
   ]
  },
  {
   "cell_type": "code",
   "execution_count": 40,
   "id": "79456f62",
   "metadata": {
    "ExecuteTime": {
     "end_time": "2021-08-25T15:57:14.046360Z",
     "start_time": "2021-08-25T15:57:14.000381Z"
    },
    "hidden": true
   },
   "outputs": [],
   "source": [
    "X = df5.drop(['is_fraud', 'days', 'name_orig'], axis=1)\n",
    "y = df5['is_fraud'].copy()"
   ]
  },
  {
   "cell_type": "code",
   "execution_count": 41,
   "id": "4591069e",
   "metadata": {
    "ExecuteTime": {
     "end_time": "2021-08-25T15:57:14.299780Z",
     "start_time": "2021-08-25T15:57:14.047348Z"
    },
    "hidden": true
   },
   "outputs": [],
   "source": [
    "X_train, X_temp, y_train, y_temp = train_test_split(X,y, train_size=0.8, random_state=42, stratify=y)"
   ]
  },
  {
   "cell_type": "code",
   "execution_count": 42,
   "id": "0ef0842e",
   "metadata": {
    "ExecuteTime": {
     "end_time": "2021-08-25T15:57:14.361743Z",
     "start_time": "2021-08-25T15:57:14.301785Z"
    },
    "hidden": true
   },
   "outputs": [],
   "source": [
    "X_valid, X_test, y_valid, y_test = train_test_split(X_temp, y_temp, test_size=0.5, random_state=42, stratify=y_temp)"
   ]
  },
  {
   "cell_type": "markdown",
   "id": "d9ae3226",
   "metadata": {
    "hidden": true
   },
   "source": [
    "## 5.2 Rescaling"
   ]
  },
  {
   "cell_type": "code",
   "execution_count": 43,
   "id": "8ff7451b",
   "metadata": {
    "ExecuteTime": {
     "end_time": "2021-08-25T15:57:14.377632Z",
     "start_time": "2021-08-25T15:57:14.364846Z"
    },
    "hidden": true
   },
   "outputs": [],
   "source": [
    "from sklearn.preprocessing import MinMaxScaler, RobustScaler"
   ]
  },
  {
   "cell_type": "code",
   "execution_count": 44,
   "id": "5baa61a5",
   "metadata": {
    "ExecuteTime": {
     "end_time": "2021-08-25T15:57:14.547215Z",
     "start_time": "2021-08-25T15:57:14.378636Z"
    },
    "hidden": true
   },
   "outputs": [],
   "source": [
    "mm = MinMaxScaler()\n",
    "rs = RobustScaler()\n",
    "\n",
    "# amount\n",
    "X_train['amount'] = rs.fit_transform(X_train[['amount']].values)\n",
    "X_valid['amount'] = rs.fit_transform(X_valid[['amount']].values)\n",
    "\n",
    "# old balance org\n",
    "X_train['old_balance_org'] = rs.fit_transform(X_train[['old_balance_org']].values)\n",
    "X_valid['old_balance_org'] = rs.fit_transform(X_valid[['old_balance_org']].values)\n",
    "\n",
    "# new balance orig\n",
    "X_train['new_balance_orig'] = rs.fit_transform(X_train[['new_balance_orig']].values)\n",
    "X_valid['new_balance_orig'] = rs.fit_transform(X_valid[['new_balance_orig']].values)\n",
    "\n",
    "# old balance dest\n",
    "X_train['old_balance_dest'] = rs.fit_transform(X_train[['old_balance_dest']].values)\n",
    "X_valid['old_balance_dest'] = rs.fit_transform(X_valid[['old_balance_dest']].values)\n",
    "\n",
    "# new balance dest\n",
    "X_train['new_balance_dest'] = rs.fit_transform(X_train[['new_balance_dest']].values)\n",
    "X_valid['new_balance_dest'] = rs.fit_transform(X_valid[['new_balance_dest']].values)\n",
    "\n",
    "# dif balance orig\n",
    "X_train['dif_balance_orig'] = rs.fit_transform(X_train[['dif_balance_orig']].values)\n",
    "X_valid['dif_balance_orig'] = rs.fit_transform(X_valid[['dif_balance_orig']].values)\n",
    "\n",
    "# dif balance dest\n",
    "X_train['dif_balance_dest'] = rs.fit_transform(X_train[['dif_balance_dest']].values)\n",
    "X_valid['dif_balance_dest'] = rs.fit_transform(X_valid[['dif_balance_dest']].values)"
   ]
  },
  {
   "cell_type": "markdown",
   "id": "b8e3f9f0",
   "metadata": {
    "hidden": true
   },
   "source": [
    "## 5.3 Encoding"
   ]
  },
  {
   "cell_type": "code",
   "execution_count": 45,
   "id": "deaf200d",
   "metadata": {
    "ExecuteTime": {
     "end_time": "2021-08-25T15:57:14.562495Z",
     "start_time": "2021-08-25T15:57:14.548255Z"
    },
    "hidden": true
   },
   "outputs": [],
   "source": [
    "from sklearn.preprocessing import LabelEncoder"
   ]
  },
  {
   "cell_type": "code",
   "execution_count": 46,
   "id": "2d19231e",
   "metadata": {
    "ExecuteTime": {
     "end_time": "2021-08-25T15:57:16.218739Z",
     "start_time": "2021-08-25T15:57:14.563535Z"
    },
    "hidden": true
   },
   "outputs": [],
   "source": [
    "le = LabelEncoder()\n",
    "\n",
    "# type - frequency encoding\n",
    "fe_type_train = frequency_encoding(X_train, 'type')\n",
    "fe_type_valid = frequency_encoding(X_valid, 'type')\n",
    "X_train['type'] = X_train['type'].map(fe_type_train)\n",
    "X_valid['type'] = X_valid['type'].map(fe_type_valid)\n",
    "\n",
    "# step\n",
    "fe_step_train = frequency_encoding(X_train, 'step')\n",
    "fe_step_valid = frequency_encoding(X_valid, 'step')\n",
    "X_train['step'] = X_train['step'].map(fe_step_train)\n",
    "X_valid['step'] = X_valid['step'].map(fe_step_valid)\n",
    "\n",
    "# name dest\n",
    "X_train['name_dest'] = le.fit_transform(X_train[['name_dest']].values)\n",
    "X_valid['name_dest'] = le.fit_transform(X_valid[['name_dest']].values)\n",
    "\n",
    "# name dest - mim max scaler\n",
    "X_train['name_dest'] = mm.fit_transform(X_train[['name_dest']].values)\n",
    "X_valid['name_dest'] = mm.fit_transform(X_valid[['name_dest']].values)"
   ]
  },
  {
   "cell_type": "markdown",
   "id": "acdca386",
   "metadata": {
    "heading_collapsed": true
   },
   "source": [
    "# 6.0 Feature Selection"
   ]
  },
  {
   "cell_type": "markdown",
   "id": "ebb9cc0b",
   "metadata": {
    "heading_collapsed": true,
    "hidden": true
   },
   "source": [
    "## 6.1 Boruta as feature selector"
   ]
  },
  {
   "cell_type": "code",
   "execution_count": 47,
   "id": "87a0cf41",
   "metadata": {
    "ExecuteTime": {
     "end_time": "2021-08-25T15:57:16.234210Z",
     "start_time": "2021-08-25T15:57:16.219691Z"
    },
    "hidden": true
   },
   "outputs": [],
   "source": [
    "#from boruta import BorutaPy"
   ]
  },
  {
   "cell_type": "code",
   "execution_count": 48,
   "id": "8a0b12f6",
   "metadata": {
    "ExecuteTime": {
     "end_time": "2021-08-25T15:57:16.249882Z",
     "start_time": "2021-08-25T15:57:16.235671Z"
    },
    "hidden": true
   },
   "outputs": [],
   "source": [
    "#X_boruta = X_train.values\n",
    "#y_boruta = y_train.values.ravel()"
   ]
  },
  {
   "cell_type": "code",
   "execution_count": 49,
   "id": "995c8f8d",
   "metadata": {
    "ExecuteTime": {
     "end_time": "2021-08-25T15:57:16.265385Z",
     "start_time": "2021-08-25T15:57:16.250882Z"
    },
    "hidden": true
   },
   "outputs": [],
   "source": [
    "#rf = RandomForestClassifier(n_jobs=-1, class_weight='balanced')\n",
    "#boruta = BorutaPy(rf, n_estimators=1000, verbose=2, random_state=42)\n",
    "#boruta.fit(X_boruta, y_boruta)"
   ]
  },
  {
   "cell_type": "code",
   "execution_count": 50,
   "id": "ae4cbf22",
   "metadata": {
    "ExecuteTime": {
     "end_time": "2021-08-25T15:57:16.280315Z",
     "start_time": "2021-08-25T15:57:16.266567Z"
    },
    "hidden": true
   },
   "outputs": [],
   "source": [
    "#cols_selected = boruta.support_.tolist()"
   ]
  },
  {
   "cell_type": "code",
   "execution_count": 51,
   "id": "de77c4ce",
   "metadata": {
    "ExecuteTime": {
     "end_time": "2021-08-25T15:57:16.295410Z",
     "start_time": "2021-08-25T15:57:16.281324Z"
    },
    "hidden": true
   },
   "outputs": [],
   "source": [
    "#cols_selected = X_train.iloc[:, cols_selected].columns.to_list()"
   ]
  },
  {
   "cell_type": "code",
   "execution_count": 52,
   "id": "75b7e73c",
   "metadata": {
    "ExecuteTime": {
     "end_time": "2021-08-25T15:57:16.310982Z",
     "start_time": "2021-08-25T15:57:16.296572Z"
    },
    "hidden": true
   },
   "outputs": [],
   "source": [
    "#cols_selected"
   ]
  },
  {
   "cell_type": "code",
   "execution_count": 53,
   "id": "2fd01f08",
   "metadata": {
    "ExecuteTime": {
     "end_time": "2021-08-25T15:57:16.326261Z",
     "start_time": "2021-08-25T15:57:16.311897Z"
    },
    "hidden": true
   },
   "outputs": [],
   "source": [
    "cols_selected_boruta = ['step',\n",
    " 'type',\n",
    " 'amount',\n",
    " 'old_balance_org',\n",
    " 'new_balance_orig',\n",
    " 'name_dest',\n",
    " 'old_balance_dest',\n",
    " 'new_balance_dest',\n",
    " 'dif_balance_orig',\n",
    " 'dif_balance_dest']"
   ]
  },
  {
   "cell_type": "markdown",
   "id": "a6cbd022",
   "metadata": {
    "heading_collapsed": true,
    "hidden": true
   },
   "source": [
    "## 6.2 Feature Importance"
   ]
  },
  {
   "cell_type": "code",
   "execution_count": 54,
   "id": "05c3d2c8",
   "metadata": {
    "ExecuteTime": {
     "end_time": "2021-08-25T15:58:41.696185Z",
     "start_time": "2021-08-25T15:57:16.327381Z"
    },
    "hidden": true
   },
   "outputs": [],
   "source": [
    "rf = RandomForestClassifier()\n",
    "rf.fit(X_train, y_train)\n",
    "importance = rf.feature_importances_"
   ]
  },
  {
   "cell_type": "code",
   "execution_count": 55,
   "id": "df51f291",
   "metadata": {
    "ExecuteTime": {
     "end_time": "2021-08-25T15:58:41.917078Z",
     "start_time": "2021-08-25T15:58:41.696185Z"
    },
    "hidden": true,
    "scrolled": false
   },
   "outputs": [
    {
     "data": {
      "image/png": "[encoded data removed]",
      "text/plain": [
       "<Figure size 1296x648 with 1 Axes>"
      ]
     },
     "metadata": {},
     "output_type": "display_data"
    }
   ],
   "source": [
    "for i,v in enumerate(importance):\n",
    "    ('Feature: %0d, Score: %.5f' % (i,v))\n",
    "# plot feature importance\n",
    "feature_importance = pd.DataFrame({'feature':X_train.columns,\n",
    "                                  'feature_importance':importance}).sort_values('feature_importance', ascending=False).reset_index()\n",
    "sns.barplot(x='feature_importance', y='feature', data=feature_importance, orient='h', color='royalblue').set_title('Feature Importance');"
   ]
  },
  {
   "cell_type": "markdown",
   "id": "32df716f",
   "metadata": {
    "hidden": true
   },
   "source": [
    "Usando uma combinação das features encontradas pelo beruta, pelo feature importance e pela EDA realizada anteirormente, as features selecionadas para utilização nos modelos foram as seguintes:"
   ]
  },
  {
   "cell_type": "code",
   "execution_count": 56,
   "id": "7bbb1331",
   "metadata": {
    "ExecuteTime": {
     "end_time": "2021-08-25T15:58:41.933001Z",
     "start_time": "2021-08-25T15:58:41.918161Z"
    },
    "hidden": true
   },
   "outputs": [],
   "source": [
    "cols_selected = ['step', 'dif_balance_orig', 'dif_balance_dest','old_balance_org','new_balance_dest', 'amount', 'old_balance_dest','type','new_balance_orig']"
   ]
  },
  {
   "cell_type": "markdown",
   "id": "6474551b",
   "metadata": {},
   "source": [
    "# 7.0 Machine Learning Modeling"
   ]
  },
  {
   "cell_type": "code",
   "execution_count": 57,
   "id": "1daf29fa",
   "metadata": {
    "ExecuteTime": {
     "end_time": "2021-08-25T15:58:41.963657Z",
     "start_time": "2021-08-25T15:58:41.934172Z"
    }
   },
   "outputs": [],
   "source": [
    "X_train = X_train[cols_selected]\n",
    "X_valid = X_valid[cols_selected]"
   ]
  },
  {
   "cell_type": "markdown",
   "id": "170dd589",
   "metadata": {
    "heading_collapsed": true
   },
   "source": [
    "## 7.1 Baseline Model"
   ]
  },
  {
   "cell_type": "code",
   "execution_count": 57,
   "id": "e826d26c",
   "metadata": {
    "ExecuteTime": {
     "end_time": "2021-08-25T13:32:00.711695Z",
     "start_time": "2021-08-25T13:32:00.701706Z"
    },
    "hidden": true
   },
   "outputs": [],
   "source": [
    "from sklearn.dummy import DummyClassifier"
   ]
  },
  {
   "cell_type": "code",
   "execution_count": 58,
   "id": "5819fd39",
   "metadata": {
    "ExecuteTime": {
     "end_time": "2021-08-25T13:32:01.082780Z",
     "start_time": "2021-08-25T13:32:01.059781Z"
    },
    "hidden": true
   },
   "outputs": [],
   "source": [
    "dummy = DummyClassifier()\n",
    "dummy.fit(X_train, y_train)\n",
    "pred_dummy = dummy.predict(X_valid)"
   ]
  },
  {
   "cell_type": "markdown",
   "id": "d8372f87",
   "metadata": {
    "hidden": true
   },
   "source": [
    "### Performance"
   ]
  },
  {
   "cell_type": "code",
   "execution_count": 59,
   "id": "b41b754e",
   "metadata": {
    "ExecuteTime": {
     "end_time": "2021-08-25T13:32:03.222961Z",
     "start_time": "2021-08-25T13:32:03.153366Z"
    },
    "hidden": true
   },
   "outputs": [
    {
     "data": {
      "text/html": [
       "<div>\n",
       "<style scoped>\n",
       "    .dataframe tbody tr th:only-of-type {\n",
       "        vertical-align: middle;\n",
       "    }\n",
       "\n",
       "    .dataframe tbody tr th {\n",
       "        vertical-align: top;\n",
       "    }\n",
       "\n",
       "    .dataframe thead th {\n",
       "        text-align: right;\n",
       "    }\n",
       "</style>\n",
       "<table border=\"1\" class=\"dataframe\">\n",
       "  <thead>\n",
       "    <tr style=\"text-align: right;\">\n",
       "      <th></th>\n",
       "      <th>Balanced Accuracy</th>\n",
       "      <th>Precision</th>\n",
       "      <th>Recall</th>\n",
       "      <th>F1</th>\n",
       "    </tr>\n",
       "  </thead>\n",
       "  <tbody>\n",
       "    <tr>\n",
       "      <th>dummy</th>\n",
       "      <td>0.500</td>\n",
       "      <td>0.000</td>\n",
       "      <td>0.000</td>\n",
       "      <td>0.000</td>\n",
       "    </tr>\n",
       "  </tbody>\n",
       "</table>\n",
       "</div>"
      ],
      "text/plain": [
       "       Balanced Accuracy  Precision  Recall    F1\n",
       "dummy              0.500      0.000   0.000 0.000"
      ]
     },
     "execution_count": 59,
     "metadata": {},
     "output_type": "execute_result"
    }
   ],
   "source": [
    "dummy_result = ml_metrics('dummy', y_valid, pred_dummy)\n",
    "dummy_result"
   ]
  },
  {
   "cell_type": "markdown",
   "id": "54f9dd40",
   "metadata": {
    "hidden": true
   },
   "source": [
    "### Cross Validation"
   ]
  },
  {
   "cell_type": "code",
   "execution_count": 60,
   "id": "1e747ffc",
   "metadata": {
    "ExecuteTime": {
     "end_time": "2021-08-25T13:32:04.709722Z",
     "start_time": "2021-08-25T13:32:04.195166Z"
    },
    "hidden": true
   },
   "outputs": [
    {
     "data": {
      "text/html": [
       "<div>\n",
       "<style scoped>\n",
       "    .dataframe tbody tr th:only-of-type {\n",
       "        vertical-align: middle;\n",
       "    }\n",
       "\n",
       "    .dataframe tbody tr th {\n",
       "        vertical-align: top;\n",
       "    }\n",
       "\n",
       "    .dataframe thead th {\n",
       "        text-align: right;\n",
       "    }\n",
       "</style>\n",
       "<table border=\"1\" class=\"dataframe\">\n",
       "  <thead>\n",
       "    <tr style=\"text-align: right;\">\n",
       "      <th></th>\n",
       "      <th>Balanced Accuracy</th>\n",
       "      <th>Precision</th>\n",
       "      <th>Recall</th>\n",
       "      <th>F1</th>\n",
       "    </tr>\n",
       "  </thead>\n",
       "  <tbody>\n",
       "    <tr>\n",
       "      <th>Dummy_CV</th>\n",
       "      <td>0.5 +/- 0.0</td>\n",
       "      <td>0.0 +/- 0.0</td>\n",
       "      <td>0.0 +/- 0.0</td>\n",
       "      <td>0.0 +/- 0.0</td>\n",
       "    </tr>\n",
       "  </tbody>\n",
       "</table>\n",
       "</div>"
      ],
      "text/plain": [
       "         Balanced Accuracy    Precision       Recall           F1\n",
       "Dummy_CV       0.5 +/- 0.0  0.0 +/- 0.0  0.0 +/- 0.0  0.0 +/- 0.0"
      ]
     },
     "execution_count": 60,
     "metadata": {},
     "output_type": "execute_result"
    }
   ],
   "source": [
    "dummy_result_cv = cross_validation('Dummy_CV', DummyClassifier(), X_train, y_train)\n",
    "dummy_result_cv"
   ]
  },
  {
   "cell_type": "markdown",
   "id": "ba388fd5",
   "metadata": {
    "heading_collapsed": true
   },
   "source": [
    "## 7.2 Logistic Regression"
   ]
  },
  {
   "cell_type": "code",
   "execution_count": 61,
   "id": "7b91ed56",
   "metadata": {
    "ExecuteTime": {
     "end_time": "2021-08-25T13:32:15.425736Z",
     "start_time": "2021-08-25T13:32:15.412620Z"
    },
    "hidden": true
   },
   "outputs": [],
   "source": [
    "from sklearn.linear_model import LogisticRegression"
   ]
  },
  {
   "cell_type": "code",
   "execution_count": 62,
   "id": "d3a11e6e",
   "metadata": {
    "ExecuteTime": {
     "end_time": "2021-08-25T13:32:18.112551Z",
     "start_time": "2021-08-25T13:32:15.841352Z"
    },
    "hidden": true
   },
   "outputs": [],
   "source": [
    "lg = LogisticRegression(class_weight='balanced')\n",
    "lg.fit(X_train, y_train)\n",
    "pred_lr = lg.predict(X_valid)\n",
    "pred_proba_lr = lg.predict_proba(X_valid)"
   ]
  },
  {
   "cell_type": "markdown",
   "id": "11c8946d",
   "metadata": {
    "hidden": true
   },
   "source": [
    "### Performance"
   ]
  },
  {
   "cell_type": "code",
   "execution_count": 63,
   "id": "8fb91425",
   "metadata": {
    "ExecuteTime": {
     "end_time": "2021-08-25T13:32:18.189306Z",
     "start_time": "2021-08-25T13:32:18.114089Z"
    },
    "hidden": true,
    "scrolled": true
   },
   "outputs": [
    {
     "data": {
      "text/html": [
       "<div>\n",
       "<style scoped>\n",
       "    .dataframe tbody tr th:only-of-type {\n",
       "        vertical-align: middle;\n",
       "    }\n",
       "\n",
       "    .dataframe tbody tr th {\n",
       "        vertical-align: top;\n",
       "    }\n",
       "\n",
       "    .dataframe thead th {\n",
       "        text-align: right;\n",
       "    }\n",
       "</style>\n",
       "<table border=\"1\" class=\"dataframe\">\n",
       "  <thead>\n",
       "    <tr style=\"text-align: right;\">\n",
       "      <th></th>\n",
       "      <th>Balanced Accuracy</th>\n",
       "      <th>Precision</th>\n",
       "      <th>Recall</th>\n",
       "      <th>F1</th>\n",
       "    </tr>\n",
       "  </thead>\n",
       "  <tbody>\n",
       "    <tr>\n",
       "      <th>LogisticRegression</th>\n",
       "      <td>0.940</td>\n",
       "      <td>0.030</td>\n",
       "      <td>0.910</td>\n",
       "      <td>0.070</td>\n",
       "    </tr>\n",
       "  </tbody>\n",
       "</table>\n",
       "</div>"
      ],
      "text/plain": [
       "                    Balanced Accuracy  Precision  Recall    F1\n",
       "LogisticRegression              0.940      0.030   0.910 0.070"
      ]
     },
     "execution_count": 63,
     "metadata": {},
     "output_type": "execute_result"
    }
   ],
   "source": [
    "logistic_regression_result = ml_metrics('LogisticRegression', y_valid, pred_lr)\n",
    "logistic_regression_result"
   ]
  },
  {
   "cell_type": "markdown",
   "id": "6423047e",
   "metadata": {
    "hidden": true
   },
   "source": [
    "### Cross Validation"
   ]
  },
  {
   "cell_type": "code",
   "execution_count": 64,
   "id": "8aef7a70",
   "metadata": {
    "ExecuteTime": {
     "end_time": "2021-08-25T13:32:40.327411Z",
     "start_time": "2021-08-25T13:32:25.375703Z"
    },
    "hidden": true
   },
   "outputs": [
    {
     "data": {
      "text/html": [
       "<div>\n",
       "<style scoped>\n",
       "    .dataframe tbody tr th:only-of-type {\n",
       "        vertical-align: middle;\n",
       "    }\n",
       "\n",
       "    .dataframe tbody tr th {\n",
       "        vertical-align: top;\n",
       "    }\n",
       "\n",
       "    .dataframe thead th {\n",
       "        text-align: right;\n",
       "    }\n",
       "</style>\n",
       "<table border=\"1\" class=\"dataframe\">\n",
       "  <thead>\n",
       "    <tr style=\"text-align: right;\">\n",
       "      <th></th>\n",
       "      <th>Balanced Accuracy</th>\n",
       "      <th>Precision</th>\n",
       "      <th>Recall</th>\n",
       "      <th>F1</th>\n",
       "    </tr>\n",
       "  </thead>\n",
       "  <tbody>\n",
       "    <tr>\n",
       "      <th>LogisticRegression_CV</th>\n",
       "      <td>0.94 +/- 0.01</td>\n",
       "      <td>0.03 +/- 0.0</td>\n",
       "      <td>0.92 +/- 0.02</td>\n",
       "      <td>0.06 +/- 0.0</td>\n",
       "    </tr>\n",
       "  </tbody>\n",
       "</table>\n",
       "</div>"
      ],
      "text/plain": [
       "                      Balanced Accuracy     Precision         Recall            F1\n",
       "LogisticRegression_CV     0.94 +/- 0.01  0.03 +/- 0.0  0.92 +/- 0.02  0.06 +/- 0.0"
      ]
     },
     "execution_count": 64,
     "metadata": {},
     "output_type": "execute_result"
    }
   ],
   "source": [
    "logistic_regression_result_cv = cross_validation('LogisticRegression_CV', LogisticRegression(class_weight='balanced'), X_train, y_train)\n",
    "logistic_regression_result_cv"
   ]
  },
  {
   "cell_type": "markdown",
   "id": "4fff94a8",
   "metadata": {
    "ExecuteTime": {
     "end_time": "2021-08-24T01:15:38.209926Z",
     "start_time": "2021-08-24T01:15:38.202849Z"
    },
    "hidden": true
   },
   "source": [
    "### Confusion Matrix / Precison-Recall Curve"
   ]
  },
  {
   "cell_type": "code",
   "execution_count": 235,
   "id": "14f147b4",
   "metadata": {
    "ExecuteTime": {
     "end_time": "2021-08-25T02:05:31.376897Z",
     "start_time": "2021-08-25T02:05:31.155199Z"
    },
    "hidden": true
   },
   "outputs": [
    {
     "data": {
      "image/png": "[encoded data removed]",
      "text/plain": [
       "<Figure size 1296x648 with 2 Axes>"
      ]
     },
     "metadata": {},
     "output_type": "display_data"
    }
   ],
   "source": [
    "scikitplot.metrics.plot_confusion_matrix( y_valid, pred_lr);"
   ]
  },
  {
   "cell_type": "code",
   "execution_count": 65,
   "id": "d0660e2a",
   "metadata": {
    "ExecuteTime": {
     "end_time": "2021-08-25T13:32:50.256710Z",
     "start_time": "2021-08-25T13:32:50.235679Z"
    },
    "hidden": true
   },
   "outputs": [
    {
     "name": "stdout",
     "output_type": "stream",
     "text": [
      "Best Threshold=1.000000, F-Score=0.642\n"
     ]
    }
   ],
   "source": [
    "# finding best threshold\n",
    "probs_lr = pred_proba_lr[:, 1]\n",
    "precision, recall, thresholds = precision_recall_curve(y_valid, probs_lr)\n",
    "fscore = (2 * precision * recall) / (precision + recall)\n",
    "ix = argmax(fscore)\n",
    "best_threshold(fscore, thresholds)"
   ]
  },
  {
   "cell_type": "code",
   "execution_count": 66,
   "id": "fda784b6",
   "metadata": {
    "ExecuteTime": {
     "end_time": "2021-08-25T13:33:04.153356Z",
     "start_time": "2021-08-25T13:33:03.658552Z"
    },
    "hidden": true,
    "scrolled": false
   },
   "outputs": [
    {
     "data": {
      "text/plain": [
       "<matplotlib.legend.Legend at 0x29880b8a640>"
      ]
     },
     "execution_count": 66,
     "metadata": {},
     "output_type": "execute_result"
    },
    {
     "data": {
      "image/png": "[encoded data removed]",
      "text/plain": [
       "<Figure size 1296x648 with 1 Axes>"
      ]
     },
     "metadata": {},
     "output_type": "display_data"
    }
   ],
   "source": [
    "scikitplot.metrics.plot_precision_recall(y_valid, pred_proba_lr);\n",
    "plt.scatter(recall[ix], precision[ix], marker='o', color='black', label='Best Threshold')\n",
    "plt.legend()"
   ]
  },
  {
   "cell_type": "code",
   "execution_count": 67,
   "id": "46fb69e0",
   "metadata": {
    "ExecuteTime": {
     "end_time": "2021-08-25T13:33:14.302009Z",
     "start_time": "2021-08-25T13:33:14.287009Z"
    },
    "hidden": true
   },
   "outputs": [],
   "source": [
    "# predicting with best threshold\n",
    "pred_proba_lr_threshold = (lg.predict_proba(X_valid)[:,1] >= 1.000000).astype(bool)"
   ]
  },
  {
   "cell_type": "code",
   "execution_count": 68,
   "id": "0a22d8ce",
   "metadata": {
    "ExecuteTime": {
     "end_time": "2021-08-25T13:33:17.053608Z",
     "start_time": "2021-08-25T13:33:16.904019Z"
    },
    "hidden": true
   },
   "outputs": [
    {
     "data": {
      "text/html": [
       "<div>\n",
       "<style scoped>\n",
       "    .dataframe tbody tr th:only-of-type {\n",
       "        vertical-align: middle;\n",
       "    }\n",
       "\n",
       "    .dataframe tbody tr th {\n",
       "        vertical-align: top;\n",
       "    }\n",
       "\n",
       "    .dataframe thead th {\n",
       "        text-align: right;\n",
       "    }\n",
       "</style>\n",
       "<table border=\"1\" class=\"dataframe\">\n",
       "  <thead>\n",
       "    <tr style=\"text-align: right;\">\n",
       "      <th></th>\n",
       "      <th>Balanced Accuracy</th>\n",
       "      <th>Precision</th>\n",
       "      <th>Recall</th>\n",
       "      <th>F1</th>\n",
       "    </tr>\n",
       "  </thead>\n",
       "  <tbody>\n",
       "    <tr>\n",
       "      <th>LogisticRegression</th>\n",
       "      <td>0.660</td>\n",
       "      <td>0.930</td>\n",
       "      <td>0.330</td>\n",
       "      <td>0.490</td>\n",
       "    </tr>\n",
       "  </tbody>\n",
       "</table>\n",
       "</div>"
      ],
      "text/plain": [
       "                    Balanced Accuracy  Precision  Recall    F1\n",
       "LogisticRegression              0.660      0.930   0.330 0.490"
      ]
     },
     "execution_count": 68,
     "metadata": {},
     "output_type": "execute_result"
    }
   ],
   "source": [
    "# results with best threshold\n",
    "logistic_regression_threshold_result = ml_metrics('LogisticRegression', y_valid, pred_proba_lr_threshold)\n",
    "logistic_regression_threshold_result"
   ]
  },
  {
   "cell_type": "code",
   "execution_count": 69,
   "id": "c0988a3c",
   "metadata": {
    "ExecuteTime": {
     "end_time": "2021-08-25T13:33:43.563705Z",
     "start_time": "2021-08-25T13:33:27.276945Z"
    },
    "hidden": true
   },
   "outputs": [
    {
     "data": {
      "text/html": [
       "<div>\n",
       "<style scoped>\n",
       "    .dataframe tbody tr th:only-of-type {\n",
       "        vertical-align: middle;\n",
       "    }\n",
       "\n",
       "    .dataframe tbody tr th {\n",
       "        vertical-align: top;\n",
       "    }\n",
       "\n",
       "    .dataframe thead th {\n",
       "        text-align: right;\n",
       "    }\n",
       "</style>\n",
       "<table border=\"1\" class=\"dataframe\">\n",
       "  <thead>\n",
       "    <tr style=\"text-align: right;\">\n",
       "      <th></th>\n",
       "      <th>Balanced Accuracy</th>\n",
       "      <th>Precision</th>\n",
       "      <th>Recall</th>\n",
       "      <th>F1</th>\n",
       "    </tr>\n",
       "  </thead>\n",
       "  <tbody>\n",
       "    <tr>\n",
       "      <th>LogisticRegression_CV</th>\n",
       "      <td>0.65 +/- 0.02</td>\n",
       "      <td>0.97 +/- 0.02</td>\n",
       "      <td>0.3 +/- 0.03</td>\n",
       "      <td>0.46 +/- 0.04</td>\n",
       "    </tr>\n",
       "  </tbody>\n",
       "</table>\n",
       "</div>"
      ],
      "text/plain": [
       "                      Balanced Accuracy      Precision        Recall             F1\n",
       "LogisticRegression_CV     0.65 +/- 0.02  0.97 +/- 0.02  0.3 +/- 0.03  0.46 +/- 0.04"
      ]
     },
     "execution_count": 69,
     "metadata": {},
     "output_type": "execute_result"
    }
   ],
   "source": [
    "# cross validation best threshold\n",
    "logistic_regression_result_threshold_cv = cross_validation_threshold('LogisticRegression_CV', LogisticRegression(class_weight='balanced'), X_train, y_train, 1.000000)\n",
    "logistic_regression_result_threshold_cv"
   ]
  },
  {
   "cell_type": "markdown",
   "id": "a9e7995e",
   "metadata": {
    "heading_collapsed": true
   },
   "source": [
    "## 7.3 KNN"
   ]
  },
  {
   "cell_type": "code",
   "execution_count": 71,
   "id": "84a0ac8d",
   "metadata": {
    "ExecuteTime": {
     "end_time": "2021-08-25T13:34:19.841566Z",
     "start_time": "2021-08-25T13:34:19.828496Z"
    },
    "hidden": true
   },
   "outputs": [],
   "source": [
    "from sklearn.neighbors import KNeighborsClassifier"
   ]
  },
  {
   "cell_type": "code",
   "execution_count": 72,
   "id": "13afe33c",
   "metadata": {
    "ExecuteTime": {
     "end_time": "2021-08-25T13:35:13.650666Z",
     "start_time": "2021-08-25T13:34:20.145079Z"
    },
    "hidden": true
   },
   "outputs": [],
   "source": [
    "knn = KNeighborsClassifier()\n",
    "knn.fit(X_train, y_train)\n",
    "pred_knn = knn.predict(X_valid)\n",
    "pred_proba_knn = knn.predict_proba(X_valid)"
   ]
  },
  {
   "cell_type": "markdown",
   "id": "0ea2f509",
   "metadata": {
    "hidden": true
   },
   "source": [
    "### Performance"
   ]
  },
  {
   "cell_type": "code",
   "execution_count": 73,
   "id": "4fd3a3be",
   "metadata": {
    "ExecuteTime": {
     "end_time": "2021-08-25T13:35:13.712446Z",
     "start_time": "2021-08-25T13:35:13.650666Z"
    },
    "hidden": true
   },
   "outputs": [
    {
     "data": {
      "text/html": [
       "<div>\n",
       "<style scoped>\n",
       "    .dataframe tbody tr th:only-of-type {\n",
       "        vertical-align: middle;\n",
       "    }\n",
       "\n",
       "    .dataframe tbody tr th {\n",
       "        vertical-align: top;\n",
       "    }\n",
       "\n",
       "    .dataframe thead th {\n",
       "        text-align: right;\n",
       "    }\n",
       "</style>\n",
       "<table border=\"1\" class=\"dataframe\">\n",
       "  <thead>\n",
       "    <tr style=\"text-align: right;\">\n",
       "      <th></th>\n",
       "      <th>Balanced Accuracy</th>\n",
       "      <th>Precision</th>\n",
       "      <th>Recall</th>\n",
       "      <th>F1</th>\n",
       "    </tr>\n",
       "  </thead>\n",
       "  <tbody>\n",
       "    <tr>\n",
       "      <th>KNN</th>\n",
       "      <td>0.820</td>\n",
       "      <td>0.840</td>\n",
       "      <td>0.630</td>\n",
       "      <td>0.720</td>\n",
       "    </tr>\n",
       "  </tbody>\n",
       "</table>\n",
       "</div>"
      ],
      "text/plain": [
       "     Balanced Accuracy  Precision  Recall    F1\n",
       "KNN              0.820      0.840   0.630 0.720"
      ]
     },
     "execution_count": 73,
     "metadata": {},
     "output_type": "execute_result"
    }
   ],
   "source": [
    "knn_result = ml_metrics('KNN', y_valid, pred_knn)\n",
    "knn_result"
   ]
  },
  {
   "cell_type": "markdown",
   "id": "0a4bef2f",
   "metadata": {
    "hidden": true
   },
   "source": [
    "### Cross Validation"
   ]
  },
  {
   "cell_type": "code",
   "execution_count": 74,
   "id": "74bf5a23",
   "metadata": {
    "ExecuteTime": {
     "end_time": "2021-08-25T13:37:50.436280Z",
     "start_time": "2021-08-25T13:35:13.713706Z"
    },
    "hidden": true
   },
   "outputs": [
    {
     "data": {
      "text/html": [
       "<div>\n",
       "<style scoped>\n",
       "    .dataframe tbody tr th:only-of-type {\n",
       "        vertical-align: middle;\n",
       "    }\n",
       "\n",
       "    .dataframe tbody tr th {\n",
       "        vertical-align: top;\n",
       "    }\n",
       "\n",
       "    .dataframe thead th {\n",
       "        text-align: right;\n",
       "    }\n",
       "</style>\n",
       "<table border=\"1\" class=\"dataframe\">\n",
       "  <thead>\n",
       "    <tr style=\"text-align: right;\">\n",
       "      <th></th>\n",
       "      <th>Balanced Accuracy</th>\n",
       "      <th>Precision</th>\n",
       "      <th>Recall</th>\n",
       "      <th>F1</th>\n",
       "    </tr>\n",
       "  </thead>\n",
       "  <tbody>\n",
       "    <tr>\n",
       "      <th>KNN_CV</th>\n",
       "      <td>0.8 +/- 0.0</td>\n",
       "      <td>0.85 +/- 0.01</td>\n",
       "      <td>0.6 +/- 0.01</td>\n",
       "      <td>0.7 +/- 0.01</td>\n",
       "    </tr>\n",
       "  </tbody>\n",
       "</table>\n",
       "</div>"
      ],
      "text/plain": [
       "       Balanced Accuracy      Precision        Recall            F1\n",
       "KNN_CV       0.8 +/- 0.0  0.85 +/- 0.01  0.6 +/- 0.01  0.7 +/- 0.01"
      ]
     },
     "execution_count": 74,
     "metadata": {},
     "output_type": "execute_result"
    }
   ],
   "source": [
    "knn_result_cv = cross_validation('KNN_CV', KNeighborsClassifier(), X_train, y_train)\n",
    "knn_result_cv"
   ]
  },
  {
   "cell_type": "markdown",
   "id": "6a8ddafd",
   "metadata": {
    "hidden": true
   },
   "source": [
    "### Confusion Matrix / Precison-Recall Curve"
   ]
  },
  {
   "cell_type": "code",
   "execution_count": 123,
   "id": "a5183d47",
   "metadata": {
    "ExecuteTime": {
     "end_time": "2021-08-24T19:19:48.189625Z",
     "start_time": "2021-08-24T19:19:48.006448Z"
    },
    "hidden": true
   },
   "outputs": [
    {
     "data": {
      "image/png": "[encoded data removed]",
      "text/plain": [
       "<Figure size 1296x648 with 2 Axes>"
      ]
     },
     "metadata": {},
     "output_type": "display_data"
    }
   ],
   "source": [
    "scikitplot.metrics.plot_confusion_matrix( y_valid, pred_knn);"
   ]
  },
  {
   "cell_type": "code",
   "execution_count": 75,
   "id": "74c86b58",
   "metadata": {
    "ExecuteTime": {
     "end_time": "2021-08-25T13:59:53.245186Z",
     "start_time": "2021-08-25T13:59:53.230147Z"
    },
    "hidden": true
   },
   "outputs": [
    {
     "name": "stdout",
     "output_type": "stream",
     "text": [
      "Best Threshold=0.600000, F-Score=0.722\n"
     ]
    }
   ],
   "source": [
    "# finding best threshold\n",
    "probs_knn = pred_proba_knn[:, 1]\n",
    "precision, recall, thresholds = precision_recall_curve(y_valid, probs_knn)\n",
    "fscore = (2 * precision * recall) / (precision + recall)\n",
    "ix = argmax(fscore)\n",
    "best_threshold(fscore, thresholds)"
   ]
  },
  {
   "cell_type": "code",
   "execution_count": 76,
   "id": "2d1d3f16",
   "metadata": {
    "ExecuteTime": {
     "end_time": "2021-08-25T14:00:01.683413Z",
     "start_time": "2021-08-25T14:00:01.448402Z"
    },
    "hidden": true
   },
   "outputs": [
    {
     "data": {
      "text/plain": [
       "<matplotlib.legend.Legend at 0x2988054d100>"
      ]
     },
     "execution_count": 76,
     "metadata": {},
     "output_type": "execute_result"
    },
    {
     "data": {
      "image/png": "[encoded data removed]",
      "text/plain": [
       "<Figure size 1296x648 with 1 Axes>"
      ]
     },
     "metadata": {},
     "output_type": "display_data"
    }
   ],
   "source": [
    "scikitplot.metrics.plot_precision_recall(y_valid, pred_proba_knn);\n",
    "plt.scatter(recall[ix], precision[ix], marker='o', color='black', label='Best')\n",
    "plt.legend()"
   ]
  },
  {
   "cell_type": "code",
   "execution_count": 77,
   "id": "0ef66b1c",
   "metadata": {
    "ExecuteTime": {
     "end_time": "2021-08-25T14:00:07.041800Z",
     "start_time": "2021-08-25T14:00:04.417700Z"
    },
    "hidden": true
   },
   "outputs": [],
   "source": [
    "# predicting with best threshold\n",
    "pred_proba_knn_threshold = (knn.predict_proba(X_valid)[:,1] >= 0.600000).astype(bool)"
   ]
  },
  {
   "cell_type": "code",
   "execution_count": 78,
   "id": "07418d6a",
   "metadata": {
    "ExecuteTime": {
     "end_time": "2021-08-25T14:00:07.198160Z",
     "start_time": "2021-08-25T14:00:07.041800Z"
    },
    "hidden": true
   },
   "outputs": [
    {
     "data": {
      "text/html": [
       "<div>\n",
       "<style scoped>\n",
       "    .dataframe tbody tr th:only-of-type {\n",
       "        vertical-align: middle;\n",
       "    }\n",
       "\n",
       "    .dataframe tbody tr th {\n",
       "        vertical-align: top;\n",
       "    }\n",
       "\n",
       "    .dataframe thead th {\n",
       "        text-align: right;\n",
       "    }\n",
       "</style>\n",
       "<table border=\"1\" class=\"dataframe\">\n",
       "  <thead>\n",
       "    <tr style=\"text-align: right;\">\n",
       "      <th></th>\n",
       "      <th>Balanced Accuracy</th>\n",
       "      <th>Precision</th>\n",
       "      <th>Recall</th>\n",
       "      <th>F1</th>\n",
       "    </tr>\n",
       "  </thead>\n",
       "  <tbody>\n",
       "    <tr>\n",
       "      <th>KNN</th>\n",
       "      <td>0.820</td>\n",
       "      <td>0.840</td>\n",
       "      <td>0.630</td>\n",
       "      <td>0.720</td>\n",
       "    </tr>\n",
       "  </tbody>\n",
       "</table>\n",
       "</div>"
      ],
      "text/plain": [
       "     Balanced Accuracy  Precision  Recall    F1\n",
       "KNN              0.820      0.840   0.630 0.720"
      ]
     },
     "execution_count": 78,
     "metadata": {},
     "output_type": "execute_result"
    }
   ],
   "source": [
    "# results with best threshold\n",
    "knn_threshold_result = ml_metrics('KNN', y_valid, pred_proba_knn_threshold)\n",
    "knn_threshold_result"
   ]
  },
  {
   "cell_type": "code",
   "execution_count": 79,
   "id": "5f2c4a7e",
   "metadata": {
    "ExecuteTime": {
     "end_time": "2021-08-25T14:02:37.209276Z",
     "start_time": "2021-08-25T14:00:07.281827Z"
    },
    "hidden": true
   },
   "outputs": [
    {
     "data": {
      "text/html": [
       "<div>\n",
       "<style scoped>\n",
       "    .dataframe tbody tr th:only-of-type {\n",
       "        vertical-align: middle;\n",
       "    }\n",
       "\n",
       "    .dataframe tbody tr th {\n",
       "        vertical-align: top;\n",
       "    }\n",
       "\n",
       "    .dataframe thead th {\n",
       "        text-align: right;\n",
       "    }\n",
       "</style>\n",
       "<table border=\"1\" class=\"dataframe\">\n",
       "  <thead>\n",
       "    <tr style=\"text-align: right;\">\n",
       "      <th></th>\n",
       "      <th>Balanced Accuracy</th>\n",
       "      <th>Precision</th>\n",
       "      <th>Recall</th>\n",
       "      <th>F1</th>\n",
       "    </tr>\n",
       "  </thead>\n",
       "  <tbody>\n",
       "    <tr>\n",
       "      <th>KNN_CV</th>\n",
       "      <td>0.8 +/- 0.0</td>\n",
       "      <td>0.85 +/- 0.01</td>\n",
       "      <td>0.6 +/- 0.01</td>\n",
       "      <td>0.7 +/- 0.01</td>\n",
       "    </tr>\n",
       "  </tbody>\n",
       "</table>\n",
       "</div>"
      ],
      "text/plain": [
       "       Balanced Accuracy      Precision        Recall            F1\n",
       "KNN_CV       0.8 +/- 0.0  0.85 +/- 0.01  0.6 +/- 0.01  0.7 +/- 0.01"
      ]
     },
     "execution_count": 79,
     "metadata": {},
     "output_type": "execute_result"
    }
   ],
   "source": [
    "# cross validation best threshold\n",
    "knn_result_threshold_cv = cross_validation_threshold('KNN_CV', KNeighborsClassifier(), X_train, y_train, 0.600000)\n",
    "knn_result_threshold_cv"
   ]
  },
  {
   "cell_type": "markdown",
   "id": "dafc2f30",
   "metadata": {
    "heading_collapsed": true
   },
   "source": [
    "## 7.4 ADA Boosting"
   ]
  },
  {
   "cell_type": "code",
   "execution_count": 109,
   "id": "0f4e2582",
   "metadata": {
    "ExecuteTime": {
     "end_time": "2021-08-25T15:13:30.986373Z",
     "start_time": "2021-08-25T15:13:30.976101Z"
    },
    "hidden": true
   },
   "outputs": [],
   "source": [
    "from sklearn.ensemble import AdaBoostClassifier"
   ]
  },
  {
   "cell_type": "code",
   "execution_count": 110,
   "id": "49c0b097",
   "metadata": {
    "ExecuteTime": {
     "end_time": "2021-08-25T15:14:12.808840Z",
     "start_time": "2021-08-25T15:13:31.367082Z"
    },
    "hidden": true
   },
   "outputs": [],
   "source": [
    "ada = AdaBoostClassifier(n_estimators=100)\n",
    "ada.fit(X_train, y_train)\n",
    "pred_ada = ada.predict(X_valid)\n",
    "pred_proba_ada = ada.predict_proba(X_valid)"
   ]
  },
  {
   "cell_type": "markdown",
   "id": "15a3048a",
   "metadata": {
    "hidden": true
   },
   "source": [
    "### Performance"
   ]
  },
  {
   "cell_type": "code",
   "execution_count": 111,
   "id": "09a2ef58",
   "metadata": {
    "ExecuteTime": {
     "end_time": "2021-08-25T15:14:12.872125Z",
     "start_time": "2021-08-25T15:14:12.808840Z"
    },
    "hidden": true
   },
   "outputs": [
    {
     "data": {
      "text/html": [
       "<div>\n",
       "<style scoped>\n",
       "    .dataframe tbody tr th:only-of-type {\n",
       "        vertical-align: middle;\n",
       "    }\n",
       "\n",
       "    .dataframe tbody tr th {\n",
       "        vertical-align: top;\n",
       "    }\n",
       "\n",
       "    .dataframe thead th {\n",
       "        text-align: right;\n",
       "    }\n",
       "</style>\n",
       "<table border=\"1\" class=\"dataframe\">\n",
       "  <thead>\n",
       "    <tr style=\"text-align: right;\">\n",
       "      <th></th>\n",
       "      <th>Balanced Accuracy</th>\n",
       "      <th>Precision</th>\n",
       "      <th>Recall</th>\n",
       "      <th>F1</th>\n",
       "    </tr>\n",
       "  </thead>\n",
       "  <tbody>\n",
       "    <tr>\n",
       "      <th>AdaBoost</th>\n",
       "      <td>0.810</td>\n",
       "      <td>0.980</td>\n",
       "      <td>0.620</td>\n",
       "      <td>0.760</td>\n",
       "    </tr>\n",
       "  </tbody>\n",
       "</table>\n",
       "</div>"
      ],
      "text/plain": [
       "          Balanced Accuracy  Precision  Recall    F1\n",
       "AdaBoost              0.810      0.980   0.620 0.760"
      ]
     },
     "execution_count": 111,
     "metadata": {},
     "output_type": "execute_result"
    }
   ],
   "source": [
    "ada_result = ml_metrics('AdaBoost', y_valid, pred_ada)\n",
    "ada_result"
   ]
  },
  {
   "cell_type": "markdown",
   "id": "4d24e848",
   "metadata": {
    "hidden": true
   },
   "source": [
    "### Cross Validation"
   ]
  },
  {
   "cell_type": "code",
   "execution_count": 112,
   "id": "9e2f7377",
   "metadata": {
    "ExecuteTime": {
     "end_time": "2021-08-25T15:17:04.712579Z",
     "start_time": "2021-08-25T15:14:12.873055Z"
    },
    "hidden": true
   },
   "outputs": [
    {
     "data": {
      "text/html": [
       "<div>\n",
       "<style scoped>\n",
       "    .dataframe tbody tr th:only-of-type {\n",
       "        vertical-align: middle;\n",
       "    }\n",
       "\n",
       "    .dataframe tbody tr th {\n",
       "        vertical-align: top;\n",
       "    }\n",
       "\n",
       "    .dataframe thead th {\n",
       "        text-align: right;\n",
       "    }\n",
       "</style>\n",
       "<table border=\"1\" class=\"dataframe\">\n",
       "  <thead>\n",
       "    <tr style=\"text-align: right;\">\n",
       "      <th></th>\n",
       "      <th>Balanced Accuracy</th>\n",
       "      <th>Precision</th>\n",
       "      <th>Recall</th>\n",
       "      <th>F1</th>\n",
       "    </tr>\n",
       "  </thead>\n",
       "  <tbody>\n",
       "    <tr>\n",
       "      <th>AdaBoost_CV</th>\n",
       "      <td>0.88 +/- 0.02</td>\n",
       "      <td>0.97 +/- 0.01</td>\n",
       "      <td>0.77 +/- 0.04</td>\n",
       "      <td>0.85 +/- 0.02</td>\n",
       "    </tr>\n",
       "  </tbody>\n",
       "</table>\n",
       "</div>"
      ],
      "text/plain": [
       "            Balanced Accuracy      Precision         Recall             F1\n",
       "AdaBoost_CV     0.88 +/- 0.02  0.97 +/- 0.01  0.77 +/- 0.04  0.85 +/- 0.02"
      ]
     },
     "execution_count": 112,
     "metadata": {},
     "output_type": "execute_result"
    }
   ],
   "source": [
    "ada_result_cv = cross_validation('AdaBoost_CV', AdaBoostClassifier(n_estimators=100), X_train, y_train)\n",
    "ada_result_cv"
   ]
  },
  {
   "cell_type": "markdown",
   "id": "fc5d24b3",
   "metadata": {
    "hidden": true
   },
   "source": [
    "### Confusion Matrix / Precison-Recall Curve"
   ]
  },
  {
   "cell_type": "code",
   "execution_count": 113,
   "id": "d1cf954d",
   "metadata": {
    "ExecuteTime": {
     "end_time": "2021-08-25T15:17:04.888217Z",
     "start_time": "2021-08-25T15:17:04.712579Z"
    },
    "hidden": true,
    "scrolled": false
   },
   "outputs": [
    {
     "data": {
      "image/png": "[encoded data removed]",
      "text/plain": [
       "<Figure size 1296x648 with 2 Axes>"
      ]
     },
     "metadata": {},
     "output_type": "display_data"
    }
   ],
   "source": [
    "scikitplot.metrics.plot_confusion_matrix( y_valid, pred_ada);"
   ]
  },
  {
   "cell_type": "code",
   "execution_count": 114,
   "id": "867dfcae",
   "metadata": {
    "ExecuteTime": {
     "end_time": "2021-08-25T15:17:48.681095Z",
     "start_time": "2021-08-25T15:17:48.669024Z"
    },
    "hidden": true
   },
   "outputs": [
    {
     "name": "stdout",
     "output_type": "stream",
     "text": [
      "Best Threshold=0.498251, F-Score=0.786\n"
     ]
    }
   ],
   "source": [
    "# finding best threshold\n",
    "probs_ada = pred_proba_ada[:, 1]\n",
    "precision, recall, thresholds = precision_recall_curve(y_valid, probs_ada)\n",
    "fscore = (2 * precision * recall) / (precision + recall)\n",
    "ix = argmax(fscore)\n",
    "best_threshold(fscore, thresholds)"
   ]
  },
  {
   "cell_type": "code",
   "execution_count": 115,
   "id": "70f6a53b",
   "metadata": {
    "ExecuteTime": {
     "end_time": "2021-08-25T15:17:54.026809Z",
     "start_time": "2021-08-25T15:17:53.740716Z"
    },
    "hidden": true
   },
   "outputs": [
    {
     "data": {
      "text/plain": [
       "<matplotlib.legend.Legend at 0x298861cb7c0>"
      ]
     },
     "execution_count": 115,
     "metadata": {},
     "output_type": "execute_result"
    },
    {
     "data": {
      "image/png": "[encoded data removed]",
      "text/plain": [
       "<Figure size 1296x648 with 1 Axes>"
      ]
     },
     "metadata": {},
     "output_type": "display_data"
    }
   ],
   "source": [
    "scikitplot.metrics.plot_precision_recall(y_valid, pred_proba_ada);\n",
    "plt.scatter(recall[ix], precision[ix], marker='o', color='black', label='Best Threshold')\n",
    "plt.legend()"
   ]
  },
  {
   "cell_type": "code",
   "execution_count": 116,
   "id": "2bb62966",
   "metadata": {
    "ExecuteTime": {
     "end_time": "2021-08-25T15:18:00.579328Z",
     "start_time": "2021-08-25T15:17:59.999107Z"
    },
    "hidden": true
   },
   "outputs": [],
   "source": [
    "# predicting with best threshold\n",
    "pred_proba_ada_threshold  = (ada.predict_proba(X_valid)[:,1] >= 0.498251).astype(bool)"
   ]
  },
  {
   "cell_type": "code",
   "execution_count": 117,
   "id": "796722e3",
   "metadata": {
    "ExecuteTime": {
     "end_time": "2021-08-25T15:18:02.234538Z",
     "start_time": "2021-08-25T15:18:02.080669Z"
    },
    "hidden": true
   },
   "outputs": [
    {
     "data": {
      "text/html": [
       "<div>\n",
       "<style scoped>\n",
       "    .dataframe tbody tr th:only-of-type {\n",
       "        vertical-align: middle;\n",
       "    }\n",
       "\n",
       "    .dataframe tbody tr th {\n",
       "        vertical-align: top;\n",
       "    }\n",
       "\n",
       "    .dataframe thead th {\n",
       "        text-align: right;\n",
       "    }\n",
       "</style>\n",
       "<table border=\"1\" class=\"dataframe\">\n",
       "  <thead>\n",
       "    <tr style=\"text-align: right;\">\n",
       "      <th></th>\n",
       "      <th>Balanced Accuracy</th>\n",
       "      <th>Precision</th>\n",
       "      <th>Recall</th>\n",
       "      <th>F1</th>\n",
       "    </tr>\n",
       "  </thead>\n",
       "  <tbody>\n",
       "    <tr>\n",
       "      <th>AdaBoost</th>\n",
       "      <td>0.840</td>\n",
       "      <td>0.950</td>\n",
       "      <td>0.670</td>\n",
       "      <td>0.790</td>\n",
       "    </tr>\n",
       "  </tbody>\n",
       "</table>\n",
       "</div>"
      ],
      "text/plain": [
       "          Balanced Accuracy  Precision  Recall    F1\n",
       "AdaBoost              0.840      0.950   0.670 0.790"
      ]
     },
     "execution_count": 117,
     "metadata": {},
     "output_type": "execute_result"
    }
   ],
   "source": [
    "# results with best threshold\n",
    "ada_threshold_result = ml_metrics('AdaBoost', y_valid, pred_proba_ada_threshold)\n",
    "ada_threshold_result"
   ]
  },
  {
   "cell_type": "code",
   "execution_count": 118,
   "id": "32d762b3",
   "metadata": {
    "ExecuteTime": {
     "end_time": "2021-08-25T15:20:54.658964Z",
     "start_time": "2021-08-25T15:18:05.476968Z"
    },
    "hidden": true
   },
   "outputs": [
    {
     "data": {
      "text/html": [
       "<div>\n",
       "<style scoped>\n",
       "    .dataframe tbody tr th:only-of-type {\n",
       "        vertical-align: middle;\n",
       "    }\n",
       "\n",
       "    .dataframe tbody tr th {\n",
       "        vertical-align: top;\n",
       "    }\n",
       "\n",
       "    .dataframe thead th {\n",
       "        text-align: right;\n",
       "    }\n",
       "</style>\n",
       "<table border=\"1\" class=\"dataframe\">\n",
       "  <thead>\n",
       "    <tr style=\"text-align: right;\">\n",
       "      <th></th>\n",
       "      <th>Balanced Accuracy</th>\n",
       "      <th>Precision</th>\n",
       "      <th>Recall</th>\n",
       "      <th>F1</th>\n",
       "    </tr>\n",
       "  </thead>\n",
       "  <tbody>\n",
       "    <tr>\n",
       "      <th>AdaBoost</th>\n",
       "      <td>0.87 +/- 0.02</td>\n",
       "      <td>0.97 +/- 0.01</td>\n",
       "      <td>0.75 +/- 0.03</td>\n",
       "      <td>0.85 +/- 0.02</td>\n",
       "    </tr>\n",
       "  </tbody>\n",
       "</table>\n",
       "</div>"
      ],
      "text/plain": [
       "         Balanced Accuracy      Precision         Recall             F1\n",
       "AdaBoost     0.87 +/- 0.02  0.97 +/- 0.01  0.75 +/- 0.03  0.85 +/- 0.02"
      ]
     },
     "execution_count": 118,
     "metadata": {},
     "output_type": "execute_result"
    }
   ],
   "source": [
    "# cross validation best threshold\n",
    "ada_result_threshold_cv = cross_validation_threshold('AdaBoost', AdaBoostClassifier(n_estimators=100), X_train, y_train, 0.500896)\n",
    "ada_result_threshold_cv"
   ]
  },
  {
   "cell_type": "markdown",
   "id": "37d25c21",
   "metadata": {
    "heading_collapsed": true
   },
   "source": [
    "## 7.5 LightGBM"
   ]
  },
  {
   "cell_type": "code",
   "execution_count": 63,
   "id": "c94ee01d",
   "metadata": {
    "ExecuteTime": {
     "end_time": "2021-08-25T16:04:01.724568Z",
     "start_time": "2021-08-25T16:04:01.696282Z"
    },
    "hidden": true
   },
   "outputs": [],
   "source": [
    "from lightgbm import LGBMClassifier "
   ]
  },
  {
   "cell_type": "code",
   "execution_count": 81,
   "id": "2bd03ec0",
   "metadata": {
    "ExecuteTime": {
     "end_time": "2021-08-25T14:33:41.974030Z",
     "start_time": "2021-08-25T14:33:40.585881Z"
    },
    "hidden": true
   },
   "outputs": [],
   "source": [
    "lgb = LGBMClassifier(objective='binary', class_weight='balanced')\n",
    "lgb.fit(X_train, y_train)\n",
    "pred_lgbm = lgb.predict(X_valid)\n",
    "pred_proba_lgbm = lgb.predict_proba(X_valid)"
   ]
  },
  {
   "cell_type": "markdown",
   "id": "381d2256",
   "metadata": {
    "hidden": true
   },
   "source": [
    "### Performance"
   ]
  },
  {
   "cell_type": "code",
   "execution_count": 82,
   "id": "d6a087e1",
   "metadata": {
    "ExecuteTime": {
     "end_time": "2021-08-25T14:33:44.243903Z",
     "start_time": "2021-08-25T14:33:44.172318Z"
    },
    "hidden": true,
    "scrolled": true
   },
   "outputs": [
    {
     "data": {
      "text/html": [
       "<div>\n",
       "<style scoped>\n",
       "    .dataframe tbody tr th:only-of-type {\n",
       "        vertical-align: middle;\n",
       "    }\n",
       "\n",
       "    .dataframe tbody tr th {\n",
       "        vertical-align: top;\n",
       "    }\n",
       "\n",
       "    .dataframe thead th {\n",
       "        text-align: right;\n",
       "    }\n",
       "</style>\n",
       "<table border=\"1\" class=\"dataframe\">\n",
       "  <thead>\n",
       "    <tr style=\"text-align: right;\">\n",
       "      <th></th>\n",
       "      <th>Balanced Accuracy</th>\n",
       "      <th>Precision</th>\n",
       "      <th>Recall</th>\n",
       "      <th>F1</th>\n",
       "    </tr>\n",
       "  </thead>\n",
       "  <tbody>\n",
       "    <tr>\n",
       "      <th>LightGBM</th>\n",
       "      <td>0.960</td>\n",
       "      <td>0.590</td>\n",
       "      <td>0.930</td>\n",
       "      <td>0.720</td>\n",
       "    </tr>\n",
       "  </tbody>\n",
       "</table>\n",
       "</div>"
      ],
      "text/plain": [
       "          Balanced Accuracy  Precision  Recall    F1\n",
       "LightGBM              0.960      0.590   0.930 0.720"
      ]
     },
     "execution_count": 82,
     "metadata": {},
     "output_type": "execute_result"
    }
   ],
   "source": [
    "lgbm_result = ml_metrics('LightGBM', y_valid, pred_lgbm)\n",
    "lgbm_result"
   ]
  },
  {
   "cell_type": "markdown",
   "id": "a83f9880",
   "metadata": {
    "hidden": true
   },
   "source": [
    "### Cross Validation"
   ]
  },
  {
   "cell_type": "code",
   "execution_count": 83,
   "id": "e9026031",
   "metadata": {
    "ExecuteTime": {
     "end_time": "2021-08-25T14:33:55.597919Z",
     "start_time": "2021-08-25T14:33:49.392379Z"
    },
    "hidden": true
   },
   "outputs": [
    {
     "data": {
      "text/html": [
       "<div>\n",
       "<style scoped>\n",
       "    .dataframe tbody tr th:only-of-type {\n",
       "        vertical-align: middle;\n",
       "    }\n",
       "\n",
       "    .dataframe tbody tr th {\n",
       "        vertical-align: top;\n",
       "    }\n",
       "\n",
       "    .dataframe thead th {\n",
       "        text-align: right;\n",
       "    }\n",
       "</style>\n",
       "<table border=\"1\" class=\"dataframe\">\n",
       "  <thead>\n",
       "    <tr style=\"text-align: right;\">\n",
       "      <th></th>\n",
       "      <th>Balanced Accuracy</th>\n",
       "      <th>Precision</th>\n",
       "      <th>Recall</th>\n",
       "      <th>F1</th>\n",
       "    </tr>\n",
       "  </thead>\n",
       "  <tbody>\n",
       "    <tr>\n",
       "      <th>LightGBM_CV</th>\n",
       "      <td>0.96 +/- 0.02</td>\n",
       "      <td>0.69 +/- 0.03</td>\n",
       "      <td>0.93 +/- 0.03</td>\n",
       "      <td>0.79 +/- 0.01</td>\n",
       "    </tr>\n",
       "  </tbody>\n",
       "</table>\n",
       "</div>"
      ],
      "text/plain": [
       "            Balanced Accuracy      Precision         Recall             F1\n",
       "LightGBM_CV     0.96 +/- 0.02  0.69 +/- 0.03  0.93 +/- 0.03  0.79 +/- 0.01"
      ]
     },
     "execution_count": 83,
     "metadata": {},
     "output_type": "execute_result"
    }
   ],
   "source": [
    "lgbm_result_cv = cross_validation('LightGBM_CV', LGBMClassifier(objective='binary', class_weight='balanced'), X_train, y_train)\n",
    "lgbm_result_cv"
   ]
  },
  {
   "cell_type": "markdown",
   "id": "71cc5491",
   "metadata": {
    "hidden": true
   },
   "source": [
    "### Confusion Matrix / Precison-Recall Curve"
   ]
  },
  {
   "cell_type": "code",
   "execution_count": 89,
   "id": "1c0cbbbf",
   "metadata": {
    "ExecuteTime": {
     "end_time": "2021-08-25T14:34:46.119216Z",
     "start_time": "2021-08-25T14:34:45.948029Z"
    },
    "hidden": true
   },
   "outputs": [
    {
     "data": {
      "image/png": "[encoded data removed]",
      "text/plain": [
       "<Figure size 1296x648 with 2 Axes>"
      ]
     },
     "metadata": {},
     "output_type": "display_data"
    }
   ],
   "source": [
    "scikitplot.metrics.plot_confusion_matrix( y_valid, pred_lgbm);"
   ]
  },
  {
   "cell_type": "code",
   "execution_count": 84,
   "id": "9ccad71b",
   "metadata": {
    "ExecuteTime": {
     "end_time": "2021-08-25T14:34:02.683893Z",
     "start_time": "2021-08-25T14:34:02.660778Z"
    },
    "hidden": true
   },
   "outputs": [
    {
     "name": "stdout",
     "output_type": "stream",
     "text": [
      "Best Threshold=0.985354, F-Score=0.892\n"
     ]
    }
   ],
   "source": [
    "# finding best threshold\n",
    "probs_lgbm = pred_proba_lgbm[:, 1]\n",
    "precision, recall, thresholds = precision_recall_curve(y_valid, probs_lgbm)\n",
    "fscore = (2 * precision * recall) / (precision + recall)\n",
    "ix = argmax(fscore)\n",
    "best_threshold(fscore, thresholds)"
   ]
  },
  {
   "cell_type": "code",
   "execution_count": 85,
   "id": "365f3c2b",
   "metadata": {
    "ExecuteTime": {
     "end_time": "2021-08-25T14:34:09.320708Z",
     "start_time": "2021-08-25T14:34:09.042495Z"
    },
    "hidden": true
   },
   "outputs": [
    {
     "data": {
      "text/plain": [
       "<matplotlib.legend.Legend at 0x29881021250>"
      ]
     },
     "execution_count": 85,
     "metadata": {},
     "output_type": "execute_result"
    },
    {
     "data": {
      "image/png": "[encoded data removed]",
      "text/plain": [
       "<Figure size 1296x648 with 1 Axes>"
      ]
     },
     "metadata": {},
     "output_type": "display_data"
    }
   ],
   "source": [
    "scikitplot.metrics.plot_precision_recall(y_valid, pred_proba_lgbm);\n",
    "plt.scatter(recall[ix], precision[ix], marker='o', color='black', label='Best Threshold')\n",
    "plt.legend()"
   ]
  },
  {
   "cell_type": "code",
   "execution_count": 86,
   "id": "cf53a93f",
   "metadata": {
    "ExecuteTime": {
     "end_time": "2021-08-25T14:34:18.412704Z",
     "start_time": "2021-08-25T14:34:18.303270Z"
    },
    "hidden": true
   },
   "outputs": [],
   "source": [
    "# predicting with best threshold\n",
    "pred_proba_lgbm_threshold = (lgb.predict_proba(X_valid)[:,1] >= 0.985354).astype(bool)"
   ]
  },
  {
   "cell_type": "code",
   "execution_count": 87,
   "id": "0de6f89c",
   "metadata": {
    "ExecuteTime": {
     "end_time": "2021-08-25T14:34:20.457417Z",
     "start_time": "2021-08-25T14:34:20.294904Z"
    },
    "hidden": true
   },
   "outputs": [
    {
     "data": {
      "text/html": [
       "<div>\n",
       "<style scoped>\n",
       "    .dataframe tbody tr th:only-of-type {\n",
       "        vertical-align: middle;\n",
       "    }\n",
       "\n",
       "    .dataframe tbody tr th {\n",
       "        vertical-align: top;\n",
       "    }\n",
       "\n",
       "    .dataframe thead th {\n",
       "        text-align: right;\n",
       "    }\n",
       "</style>\n",
       "<table border=\"1\" class=\"dataframe\">\n",
       "  <thead>\n",
       "    <tr style=\"text-align: right;\">\n",
       "      <th></th>\n",
       "      <th>Balanced Accuracy</th>\n",
       "      <th>Precision</th>\n",
       "      <th>Recall</th>\n",
       "      <th>F1</th>\n",
       "    </tr>\n",
       "  </thead>\n",
       "  <tbody>\n",
       "    <tr>\n",
       "      <th>LightGBM</th>\n",
       "      <td>0.930</td>\n",
       "      <td>0.930</td>\n",
       "      <td>0.850</td>\n",
       "      <td>0.890</td>\n",
       "    </tr>\n",
       "  </tbody>\n",
       "</table>\n",
       "</div>"
      ],
      "text/plain": [
       "          Balanced Accuracy  Precision  Recall    F1\n",
       "LightGBM              0.930      0.930   0.850 0.890"
      ]
     },
     "execution_count": 87,
     "metadata": {},
     "output_type": "execute_result"
    }
   ],
   "source": [
    "# results with best threshold\n",
    "lgbm_threshold_result = ml_metrics('LightGBM', y_valid, pred_proba_lgbm_threshold)\n",
    "lgbm_threshold_result"
   ]
  },
  {
   "cell_type": "code",
   "execution_count": 88,
   "id": "8fa94926",
   "metadata": {
    "ExecuteTime": {
     "end_time": "2021-08-25T14:34:37.062775Z",
     "start_time": "2021-08-25T14:34:30.212743Z"
    },
    "hidden": true
   },
   "outputs": [
    {
     "data": {
      "text/html": [
       "<div>\n",
       "<style scoped>\n",
       "    .dataframe tbody tr th:only-of-type {\n",
       "        vertical-align: middle;\n",
       "    }\n",
       "\n",
       "    .dataframe tbody tr th {\n",
       "        vertical-align: top;\n",
       "    }\n",
       "\n",
       "    .dataframe thead th {\n",
       "        text-align: right;\n",
       "    }\n",
       "</style>\n",
       "<table border=\"1\" class=\"dataframe\">\n",
       "  <thead>\n",
       "    <tr style=\"text-align: right;\">\n",
       "      <th></th>\n",
       "      <th>Balanced Accuracy</th>\n",
       "      <th>Precision</th>\n",
       "      <th>Recall</th>\n",
       "      <th>F1</th>\n",
       "    </tr>\n",
       "  </thead>\n",
       "  <tbody>\n",
       "    <tr>\n",
       "      <th>LightGBM_CV</th>\n",
       "      <td>0.94 +/- 0.01</td>\n",
       "      <td>0.96 +/- 0.02</td>\n",
       "      <td>0.87 +/- 0.02</td>\n",
       "      <td>0.91 +/- 0.02</td>\n",
       "    </tr>\n",
       "  </tbody>\n",
       "</table>\n",
       "</div>"
      ],
      "text/plain": [
       "            Balanced Accuracy      Precision         Recall             F1\n",
       "LightGBM_CV     0.94 +/- 0.01  0.96 +/- 0.02  0.87 +/- 0.02  0.91 +/- 0.02"
      ]
     },
     "execution_count": 88,
     "metadata": {},
     "output_type": "execute_result"
    }
   ],
   "source": [
    "# cross validation best threshold\n",
    "lgbm_result_threshold_cv = cross_validation_threshold('LightGBM_CV', LGBMClassifier(objective='binary', class_weight='balanced'), X_train, y_train, 0.985354)\n",
    "lgbm_result_threshold_cv"
   ]
  },
  {
   "cell_type": "markdown",
   "id": "02a77c7f",
   "metadata": {
    "heading_collapsed": true
   },
   "source": [
    "## 7.6 Random Forest"
   ]
  },
  {
   "cell_type": "code",
   "execution_count": 90,
   "id": "bc1d428e",
   "metadata": {
    "ExecuteTime": {
     "end_time": "2021-08-25T14:36:19.506804Z",
     "start_time": "2021-08-25T14:35:02.546378Z"
    },
    "hidden": true
   },
   "outputs": [],
   "source": [
    "rf = RandomForestClassifier(class_weight='balanced', n_estimators=500, n_jobs=-1)\n",
    "rf.fit(X_train, y_train)\n",
    "pred_rf = rf.predict(X_valid)\n",
    "pred_proba_rf = rf.predict_proba(X_valid)"
   ]
  },
  {
   "cell_type": "markdown",
   "id": "8fa3272c",
   "metadata": {
    "hidden": true
   },
   "source": [
    "### Performance"
   ]
  },
  {
   "cell_type": "code",
   "execution_count": 91,
   "id": "e7203101",
   "metadata": {
    "ExecuteTime": {
     "end_time": "2021-08-25T14:36:19.586245Z",
     "start_time": "2021-08-25T14:36:19.508504Z"
    },
    "hidden": true,
    "scrolled": true
   },
   "outputs": [
    {
     "data": {
      "text/html": [
       "<div>\n",
       "<style scoped>\n",
       "    .dataframe tbody tr th:only-of-type {\n",
       "        vertical-align: middle;\n",
       "    }\n",
       "\n",
       "    .dataframe tbody tr th {\n",
       "        vertical-align: top;\n",
       "    }\n",
       "\n",
       "    .dataframe thead th {\n",
       "        text-align: right;\n",
       "    }\n",
       "</style>\n",
       "<table border=\"1\" class=\"dataframe\">\n",
       "  <thead>\n",
       "    <tr style=\"text-align: right;\">\n",
       "      <th></th>\n",
       "      <th>Balanced Accuracy</th>\n",
       "      <th>Precision</th>\n",
       "      <th>Recall</th>\n",
       "      <th>F1</th>\n",
       "    </tr>\n",
       "  </thead>\n",
       "  <tbody>\n",
       "    <tr>\n",
       "      <th>Random Forest</th>\n",
       "      <td>0.880</td>\n",
       "      <td>1.000</td>\n",
       "      <td>0.770</td>\n",
       "      <td>0.870</td>\n",
       "    </tr>\n",
       "  </tbody>\n",
       "</table>\n",
       "</div>"
      ],
      "text/plain": [
       "               Balanced Accuracy  Precision  Recall    F1\n",
       "Random Forest              0.880      1.000   0.770 0.870"
      ]
     },
     "execution_count": 91,
     "metadata": {},
     "output_type": "execute_result"
    }
   ],
   "source": [
    "rf_result = ml_metrics('Random Forest', y_valid, pred_rf)\n",
    "rf_result"
   ]
  },
  {
   "cell_type": "markdown",
   "id": "737054a9",
   "metadata": {
    "hidden": true
   },
   "source": [
    "### Cross Validation"
   ]
  },
  {
   "cell_type": "code",
   "execution_count": 92,
   "id": "5d31fffe",
   "metadata": {
    "ExecuteTime": {
     "end_time": "2021-08-25T14:41:46.900423Z",
     "start_time": "2021-08-25T14:36:19.587245Z"
    },
    "hidden": true
   },
   "outputs": [
    {
     "data": {
      "text/html": [
       "<div>\n",
       "<style scoped>\n",
       "    .dataframe tbody tr th:only-of-type {\n",
       "        vertical-align: middle;\n",
       "    }\n",
       "\n",
       "    .dataframe tbody tr th {\n",
       "        vertical-align: top;\n",
       "    }\n",
       "\n",
       "    .dataframe thead th {\n",
       "        text-align: right;\n",
       "    }\n",
       "</style>\n",
       "<table border=\"1\" class=\"dataframe\">\n",
       "  <thead>\n",
       "    <tr style=\"text-align: right;\">\n",
       "      <th></th>\n",
       "      <th>Balanced Accuracy</th>\n",
       "      <th>Precision</th>\n",
       "      <th>Recall</th>\n",
       "      <th>F1</th>\n",
       "    </tr>\n",
       "  </thead>\n",
       "  <tbody>\n",
       "    <tr>\n",
       "      <th>Random Forest CV</th>\n",
       "      <td>0.91 +/- 0.01</td>\n",
       "      <td>0.99 +/- 0.01</td>\n",
       "      <td>0.82 +/- 0.01</td>\n",
       "      <td>0.9 +/- 0.01</td>\n",
       "    </tr>\n",
       "  </tbody>\n",
       "</table>\n",
       "</div>"
      ],
      "text/plain": [
       "                 Balanced Accuracy      Precision         Recall            F1\n",
       "Random Forest CV     0.91 +/- 0.01  0.99 +/- 0.01  0.82 +/- 0.01  0.9 +/- 0.01"
      ]
     },
     "execution_count": 92,
     "metadata": {},
     "output_type": "execute_result"
    }
   ],
   "source": [
    "rf_result_cv = cross_validation('Random Forest CV', RandomForestClassifier(class_weight='balanced', n_estimators=500, n_jobs=-1), X_train, y_train)\n",
    "rf_result_cv"
   ]
  },
  {
   "cell_type": "markdown",
   "id": "158d5e95",
   "metadata": {
    "hidden": true
   },
   "source": [
    "### Confusion Matrix / Precison-Recall Curve"
   ]
  },
  {
   "cell_type": "code",
   "execution_count": 93,
   "id": "46da4af1",
   "metadata": {
    "ExecuteTime": {
     "end_time": "2021-08-25T14:42:45.724690Z",
     "start_time": "2021-08-25T14:42:45.537886Z"
    },
    "hidden": true
   },
   "outputs": [
    {
     "data": {
      "image/png": "[encoded data removed]",
      "text/plain": [
       "<Figure size 1296x648 with 2 Axes>"
      ]
     },
     "metadata": {},
     "output_type": "display_data"
    }
   ],
   "source": [
    "scikitplot.metrics.plot_confusion_matrix( y_valid, pred_rf);"
   ]
  },
  {
   "cell_type": "code",
   "execution_count": 94,
   "id": "444bf54c",
   "metadata": {
    "ExecuteTime": {
     "end_time": "2021-08-25T14:42:54.237151Z",
     "start_time": "2021-08-25T14:42:54.216743Z"
    },
    "hidden": true
   },
   "outputs": [
    {
     "name": "stdout",
     "output_type": "stream",
     "text": [
      "Best Threshold=0.354000, F-Score=0.889\n"
     ]
    }
   ],
   "source": [
    "# finding best threshold\n",
    "probs_rf = pred_proba_rf[:, 1]\n",
    "precision, recall, thresholds = precision_recall_curve(y_valid, probs_rf)\n",
    "fscore = (2 * precision * recall) / (precision + recall)\n",
    "ix = argmax(fscore)\n",
    "best_threshold(fscore, thresholds)"
   ]
  },
  {
   "cell_type": "code",
   "execution_count": 95,
   "id": "52104dcf",
   "metadata": {
    "ExecuteTime": {
     "end_time": "2021-08-25T14:42:59.001715Z",
     "start_time": "2021-08-25T14:42:58.762798Z"
    },
    "hidden": true
   },
   "outputs": [
    {
     "data": {
      "text/plain": [
       "<matplotlib.legend.Legend at 0x2988e1216d0>"
      ]
     },
     "execution_count": 95,
     "metadata": {},
     "output_type": "execute_result"
    },
    {
     "data": {
      "image/png": "[encoded data removed]",
      "text/plain": [
       "<Figure size 1296x648 with 1 Axes>"
      ]
     },
     "metadata": {},
     "output_type": "display_data"
    }
   ],
   "source": [
    "scikitplot.metrics.plot_precision_recall(y_valid, pred_proba_rf);\n",
    "plt.scatter(recall[ix], precision[ix], marker='o', color='black', label='Best Threshold')\n",
    "plt.legend()"
   ]
  },
  {
   "cell_type": "code",
   "execution_count": 96,
   "id": "0b33c222",
   "metadata": {
    "ExecuteTime": {
     "end_time": "2021-08-25T14:43:16.920101Z",
     "start_time": "2021-08-25T14:43:16.422347Z"
    },
    "hidden": true
   },
   "outputs": [],
   "source": [
    "# predicting with best threshold\n",
    "pred_proba_rf_threshold = (rf.predict_proba(X_valid)[:,1] >= 0.354000).astype(bool)"
   ]
  },
  {
   "cell_type": "code",
   "execution_count": 97,
   "id": "8715c585",
   "metadata": {
    "ExecuteTime": {
     "end_time": "2021-08-25T14:43:18.637470Z",
     "start_time": "2021-08-25T14:43:18.481687Z"
    },
    "hidden": true
   },
   "outputs": [
    {
     "data": {
      "text/html": [
       "<div>\n",
       "<style scoped>\n",
       "    .dataframe tbody tr th:only-of-type {\n",
       "        vertical-align: middle;\n",
       "    }\n",
       "\n",
       "    .dataframe tbody tr th {\n",
       "        vertical-align: top;\n",
       "    }\n",
       "\n",
       "    .dataframe thead th {\n",
       "        text-align: right;\n",
       "    }\n",
       "</style>\n",
       "<table border=\"1\" class=\"dataframe\">\n",
       "  <thead>\n",
       "    <tr style=\"text-align: right;\">\n",
       "      <th></th>\n",
       "      <th>Balanced Accuracy</th>\n",
       "      <th>Precision</th>\n",
       "      <th>Recall</th>\n",
       "      <th>F1</th>\n",
       "    </tr>\n",
       "  </thead>\n",
       "  <tbody>\n",
       "    <tr>\n",
       "      <th>Random Forest</th>\n",
       "      <td>0.910</td>\n",
       "      <td>0.960</td>\n",
       "      <td>0.830</td>\n",
       "      <td>0.890</td>\n",
       "    </tr>\n",
       "  </tbody>\n",
       "</table>\n",
       "</div>"
      ],
      "text/plain": [
       "               Balanced Accuracy  Precision  Recall    F1\n",
       "Random Forest              0.910      0.960   0.830 0.890"
      ]
     },
     "execution_count": 97,
     "metadata": {},
     "output_type": "execute_result"
    }
   ],
   "source": [
    "# results with best threshold\n",
    "rf_threshold_result = ml_metrics('Random Forest', y_valid, pred_proba_rf_threshold)\n",
    "rf_threshold_result"
   ]
  },
  {
   "cell_type": "code",
   "execution_count": 98,
   "id": "eda1f8ed",
   "metadata": {
    "ExecuteTime": {
     "end_time": "2021-08-25T14:48:32.683867Z",
     "start_time": "2021-08-25T14:43:25.592003Z"
    },
    "hidden": true
   },
   "outputs": [
    {
     "data": {
      "text/html": [
       "<div>\n",
       "<style scoped>\n",
       "    .dataframe tbody tr th:only-of-type {\n",
       "        vertical-align: middle;\n",
       "    }\n",
       "\n",
       "    .dataframe tbody tr th {\n",
       "        vertical-align: top;\n",
       "    }\n",
       "\n",
       "    .dataframe thead th {\n",
       "        text-align: right;\n",
       "    }\n",
       "</style>\n",
       "<table border=\"1\" class=\"dataframe\">\n",
       "  <thead>\n",
       "    <tr style=\"text-align: right;\">\n",
       "      <th></th>\n",
       "      <th>Balanced Accuracy</th>\n",
       "      <th>Precision</th>\n",
       "      <th>Recall</th>\n",
       "      <th>F1</th>\n",
       "    </tr>\n",
       "  </thead>\n",
       "  <tbody>\n",
       "    <tr>\n",
       "      <th>Random Forest_CV</th>\n",
       "      <td>0.93 +/- 0.01</td>\n",
       "      <td>0.96 +/- 0.02</td>\n",
       "      <td>0.86 +/- 0.02</td>\n",
       "      <td>0.91 +/- 0.02</td>\n",
       "    </tr>\n",
       "  </tbody>\n",
       "</table>\n",
       "</div>"
      ],
      "text/plain": [
       "                 Balanced Accuracy      Precision         Recall             F1\n",
       "Random Forest_CV     0.93 +/- 0.01  0.96 +/- 0.02  0.86 +/- 0.02  0.91 +/- 0.02"
      ]
     },
     "execution_count": 98,
     "metadata": {},
     "output_type": "execute_result"
    }
   ],
   "source": [
    "# cross validation best threshold\n",
    "rf_result_threshold_cv = cross_validation_threshold('Random Forest_CV', RandomForestClassifier(class_weight='balanced', n_estimators=500, n_jobs=-1), X_train, y_train, 0.354000)\n",
    "rf_result_threshold_cv"
   ]
  },
  {
   "cell_type": "markdown",
   "id": "10abdcca",
   "metadata": {
    "heading_collapsed": true
   },
   "source": [
    "## 7.7 XGBoost"
   ]
  },
  {
   "cell_type": "code",
   "execution_count": 70,
   "id": "d84fb3e0",
   "metadata": {
    "ExecuteTime": {
     "end_time": "2021-08-25T16:36:28.495422Z",
     "start_time": "2021-08-25T16:36:28.357741Z"
    },
    "hidden": true
   },
   "outputs": [],
   "source": [
    "from xgboost import XGBClassifier"
   ]
  },
  {
   "cell_type": "code",
   "execution_count": 100,
   "id": "1fa8c4e4",
   "metadata": {
    "ExecuteTime": {
     "end_time": "2021-08-25T14:49:36.645896Z",
     "start_time": "2021-08-25T14:49:15.278676Z"
    },
    "hidden": true
   },
   "outputs": [],
   "source": [
    "xgb = XGBClassifier(objective='binary:logistic', verbosity=0, n_jobs=-1)\n",
    "xgb.fit(X_train, y_train)\n",
    "pred_xgb = xgb.predict(X_valid)\n",
    "pred_proba_xgb = xgb.predict_proba(X_valid)"
   ]
  },
  {
   "cell_type": "markdown",
   "id": "ad9a118a",
   "metadata": {
    "hidden": true
   },
   "source": [
    "### Performance"
   ]
  },
  {
   "cell_type": "code",
   "execution_count": 101,
   "id": "ec44c7d5",
   "metadata": {
    "ExecuteTime": {
     "end_time": "2021-08-25T14:49:36.756754Z",
     "start_time": "2021-08-25T14:49:36.645896Z"
    },
    "hidden": true,
    "scrolled": true
   },
   "outputs": [
    {
     "data": {
      "text/html": [
       "<div>\n",
       "<style scoped>\n",
       "    .dataframe tbody tr th:only-of-type {\n",
       "        vertical-align: middle;\n",
       "    }\n",
       "\n",
       "    .dataframe tbody tr th {\n",
       "        vertical-align: top;\n",
       "    }\n",
       "\n",
       "    .dataframe thead th {\n",
       "        text-align: right;\n",
       "    }\n",
       "</style>\n",
       "<table border=\"1\" class=\"dataframe\">\n",
       "  <thead>\n",
       "    <tr style=\"text-align: right;\">\n",
       "      <th></th>\n",
       "      <th>Balanced Accuracy</th>\n",
       "      <th>Precision</th>\n",
       "      <th>Recall</th>\n",
       "      <th>F1</th>\n",
       "    </tr>\n",
       "  </thead>\n",
       "  <tbody>\n",
       "    <tr>\n",
       "      <th>XGBoost</th>\n",
       "      <td>0.920</td>\n",
       "      <td>0.970</td>\n",
       "      <td>0.840</td>\n",
       "      <td>0.900</td>\n",
       "    </tr>\n",
       "  </tbody>\n",
       "</table>\n",
       "</div>"
      ],
      "text/plain": [
       "         Balanced Accuracy  Precision  Recall    F1\n",
       "XGBoost              0.920      0.970   0.840 0.900"
      ]
     },
     "execution_count": 101,
     "metadata": {},
     "output_type": "execute_result"
    }
   ],
   "source": [
    "xgb_result = ml_metrics('XGBoost', y_valid, pred_xgb)\n",
    "xgb_result"
   ]
  },
  {
   "cell_type": "markdown",
   "id": "173acaae",
   "metadata": {
    "hidden": true
   },
   "source": [
    "### Cross Validation"
   ]
  },
  {
   "cell_type": "code",
   "execution_count": 102,
   "id": "11c65b60",
   "metadata": {
    "ExecuteTime": {
     "end_time": "2021-08-25T14:51:04.576983Z",
     "start_time": "2021-08-25T14:49:36.757750Z"
    },
    "hidden": true
   },
   "outputs": [
    {
     "data": {
      "text/html": [
       "<div>\n",
       "<style scoped>\n",
       "    .dataframe tbody tr th:only-of-type {\n",
       "        vertical-align: middle;\n",
       "    }\n",
       "\n",
       "    .dataframe tbody tr th {\n",
       "        vertical-align: top;\n",
       "    }\n",
       "\n",
       "    .dataframe thead th {\n",
       "        text-align: right;\n",
       "    }\n",
       "</style>\n",
       "<table border=\"1\" class=\"dataframe\">\n",
       "  <thead>\n",
       "    <tr style=\"text-align: right;\">\n",
       "      <th></th>\n",
       "      <th>Balanced Accuracy</th>\n",
       "      <th>Precision</th>\n",
       "      <th>Recall</th>\n",
       "      <th>F1</th>\n",
       "    </tr>\n",
       "  </thead>\n",
       "  <tbody>\n",
       "    <tr>\n",
       "      <th>XGBoost_CV</th>\n",
       "      <td>0.93 +/- 0.01</td>\n",
       "      <td>0.98 +/- 0.02</td>\n",
       "      <td>0.87 +/- 0.02</td>\n",
       "      <td>0.92 +/- 0.01</td>\n",
       "    </tr>\n",
       "  </tbody>\n",
       "</table>\n",
       "</div>"
      ],
      "text/plain": [
       "           Balanced Accuracy      Precision         Recall             F1\n",
       "XGBoost_CV     0.93 +/- 0.01  0.98 +/- 0.02  0.87 +/- 0.02  0.92 +/- 0.01"
      ]
     },
     "execution_count": 102,
     "metadata": {},
     "output_type": "execute_result"
    }
   ],
   "source": [
    "xgb_result_cv = cross_validation('XGBoost_CV', XGBClassifier(objective='binary:logistic', verbosity=0, n_jobs=-1), X_train, y_train)\n",
    "xgb_result_cv"
   ]
  },
  {
   "cell_type": "markdown",
   "id": "0a478467",
   "metadata": {
    "hidden": true
   },
   "source": [
    "### Confusion Matrix / Precison-Recall Curve"
   ]
  },
  {
   "cell_type": "code",
   "execution_count": 103,
   "id": "79c200db",
   "metadata": {
    "ExecuteTime": {
     "end_time": "2021-08-25T14:51:24.607241Z",
     "start_time": "2021-08-25T14:51:24.427459Z"
    },
    "hidden": true,
    "scrolled": false
   },
   "outputs": [
    {
     "data": {
      "image/png": "[encoded data removed]",
      "text/plain": [
       "<Figure size 1296x648 with 2 Axes>"
      ]
     },
     "metadata": {},
     "output_type": "display_data"
    }
   ],
   "source": [
    "scikitplot.metrics.plot_confusion_matrix( y_valid, pred_xgb);"
   ]
  },
  {
   "cell_type": "code",
   "execution_count": 104,
   "id": "20385090",
   "metadata": {
    "ExecuteTime": {
     "end_time": "2021-08-25T14:51:27.654943Z",
     "start_time": "2021-08-25T14:51:27.638640Z"
    },
    "hidden": true
   },
   "outputs": [
    {
     "name": "stdout",
     "output_type": "stream",
     "text": [
      "Best Threshold=0.572925, F-Score=0.914\n"
     ]
    }
   ],
   "source": [
    "# finding best threshold\n",
    "probs_xgb = pred_proba_xgb[:, 1]\n",
    "precision, recall, thresholds = precision_recall_curve(y_valid, probs_xgb)\n",
    "fscore = (2 * precision * recall) / (precision + recall)\n",
    "ix = argmax(fscore)\n",
    "best_threshold(fscore, thresholds)"
   ]
  },
  {
   "cell_type": "code",
   "execution_count": 105,
   "id": "20fa7220",
   "metadata": {
    "ExecuteTime": {
     "end_time": "2021-08-25T14:51:34.352956Z",
     "start_time": "2021-08-25T14:51:34.105050Z"
    },
    "hidden": true
   },
   "outputs": [
    {
     "data": {
      "text/plain": [
       "<matplotlib.legend.Legend at 0x298860ff4f0>"
      ]
     },
     "execution_count": 105,
     "metadata": {},
     "output_type": "execute_result"
    },
    {
     "data": {
      "image/png": "[encoded data removed]",
      "text/plain": [
       "<Figure size 1296x648 with 1 Axes>"
      ]
     },
     "metadata": {},
     "output_type": "display_data"
    }
   ],
   "source": [
    "scikitplot.metrics.plot_precision_recall(y_valid, pred_proba_xgb);\n",
    "plt.scatter(recall[ix], precision[ix], marker='o', color='black', label='Best Threshold')\n",
    "plt.legend()"
   ]
  },
  {
   "cell_type": "code",
   "execution_count": 140,
   "id": "839ca06f",
   "metadata": {
    "ExecuteTime": {
     "end_time": "2021-08-25T15:42:22.555513Z",
     "start_time": "2021-08-25T15:42:22.490348Z"
    },
    "hidden": true
   },
   "outputs": [],
   "source": [
    "# predicting with best threshold\n",
    "pred_proba_xgb_threshold = (xgb.predict_proba(X_valid)[:,1] >= 0.572925).astype(bool)"
   ]
  },
  {
   "cell_type": "code",
   "execution_count": 141,
   "id": "e7235038",
   "metadata": {
    "ExecuteTime": {
     "end_time": "2021-08-25T15:42:23.676884Z",
     "start_time": "2021-08-25T15:42:23.511123Z"
    },
    "hidden": true
   },
   "outputs": [
    {
     "data": {
      "text/html": [
       "<div>\n",
       "<style scoped>\n",
       "    .dataframe tbody tr th:only-of-type {\n",
       "        vertical-align: middle;\n",
       "    }\n",
       "\n",
       "    .dataframe tbody tr th {\n",
       "        vertical-align: top;\n",
       "    }\n",
       "\n",
       "    .dataframe thead th {\n",
       "        text-align: right;\n",
       "    }\n",
       "</style>\n",
       "<table border=\"1\" class=\"dataframe\">\n",
       "  <thead>\n",
       "    <tr style=\"text-align: right;\">\n",
       "      <th></th>\n",
       "      <th>Balanced Accuracy</th>\n",
       "      <th>Precision</th>\n",
       "      <th>Recall</th>\n",
       "      <th>F1</th>\n",
       "    </tr>\n",
       "  </thead>\n",
       "  <tbody>\n",
       "    <tr>\n",
       "      <th>XGBoost</th>\n",
       "      <td>0.920</td>\n",
       "      <td>1.000</td>\n",
       "      <td>0.840</td>\n",
       "      <td>0.910</td>\n",
       "    </tr>\n",
       "  </tbody>\n",
       "</table>\n",
       "</div>"
      ],
      "text/plain": [
       "         Balanced Accuracy  Precision  Recall    F1\n",
       "XGBoost              0.920      1.000   0.840 0.910"
      ]
     },
     "execution_count": 141,
     "metadata": {},
     "output_type": "execute_result"
    }
   ],
   "source": [
    "# results with best threshold\n",
    "xgb_threshold_result = ml_metrics('XGBoost', y_valid, pred_proba_xgb_threshold)\n",
    "xgb_threshold_result"
   ]
  },
  {
   "cell_type": "code",
   "execution_count": 142,
   "id": "bd6d7095",
   "metadata": {
    "ExecuteTime": {
     "end_time": "2021-08-25T15:43:47.701162Z",
     "start_time": "2021-08-25T15:42:27.809923Z"
    },
    "hidden": true
   },
   "outputs": [
    {
     "data": {
      "text/html": [
       "<div>\n",
       "<style scoped>\n",
       "    .dataframe tbody tr th:only-of-type {\n",
       "        vertical-align: middle;\n",
       "    }\n",
       "\n",
       "    .dataframe tbody tr th {\n",
       "        vertical-align: top;\n",
       "    }\n",
       "\n",
       "    .dataframe thead th {\n",
       "        text-align: right;\n",
       "    }\n",
       "</style>\n",
       "<table border=\"1\" class=\"dataframe\">\n",
       "  <thead>\n",
       "    <tr style=\"text-align: right;\">\n",
       "      <th></th>\n",
       "      <th>Balanced Accuracy</th>\n",
       "      <th>Precision</th>\n",
       "      <th>Recall</th>\n",
       "      <th>F1</th>\n",
       "    </tr>\n",
       "  </thead>\n",
       "  <tbody>\n",
       "    <tr>\n",
       "      <th>XGBoost_CV</th>\n",
       "      <td>0.93 +/- 0.01</td>\n",
       "      <td>0.98 +/- 0.01</td>\n",
       "      <td>0.86 +/- 0.02</td>\n",
       "      <td>0.92 +/- 0.01</td>\n",
       "    </tr>\n",
       "  </tbody>\n",
       "</table>\n",
       "</div>"
      ],
      "text/plain": [
       "           Balanced Accuracy      Precision         Recall             F1\n",
       "XGBoost_CV     0.93 +/- 0.01  0.98 +/- 0.01  0.86 +/- 0.02  0.92 +/- 0.01"
      ]
     },
     "execution_count": 142,
     "metadata": {},
     "output_type": "execute_result"
    }
   ],
   "source": [
    "# cross validation best threshold\n",
    "xgb_result_threshold_cv = cross_validation_threshold('XGBoost_CV', XGBClassifier(objective='binary:logistic', verbosity=0, n_jobs=-1), X_train, y_train, 0.572925)\n",
    "xgb_result_threshold_cv"
   ]
  },
  {
   "cell_type": "markdown",
   "id": "992a78be",
   "metadata": {},
   "source": [
    "## 7.8 Results"
   ]
  },
  {
   "cell_type": "code",
   "execution_count": 119,
   "id": "0855a8d4",
   "metadata": {
    "ExecuteTime": {
     "end_time": "2021-08-25T15:20:54.693690Z",
     "start_time": "2021-08-25T15:20:54.660020Z"
    },
    "scrolled": true
   },
   "outputs": [
    {
     "data": {
      "text/html": [
       "<style  type=\"text/css\" >\n",
       "#T_344e2_row3_col0,#T_344e2_row3_col2,#T_344e2_row5_col1,#T_344e2_row6_col3{\n",
       "            background-color:  lightgreen;\n",
       "        }</style><table id=\"T_344e2_\" ><thead>    <tr>        <th class=\"blank level0\" ></th>        <th class=\"col_heading level0 col0\" >Balanced Accuracy</th>        <th class=\"col_heading level0 col1\" >Precision</th>        <th class=\"col_heading level0 col2\" >Recall</th>        <th class=\"col_heading level0 col3\" >F1</th>    </tr></thead><tbody>\n",
       "                <tr>\n",
       "                        <th id=\"T_344e2_level0_row0\" class=\"row_heading level0 row0\" >dummy</th>\n",
       "                        <td id=\"T_344e2_row0_col0\" class=\"data row0 col0\" >0.500000</td>\n",
       "                        <td id=\"T_344e2_row0_col1\" class=\"data row0 col1\" >0.000000</td>\n",
       "                        <td id=\"T_344e2_row0_col2\" class=\"data row0 col2\" >0.000000</td>\n",
       "                        <td id=\"T_344e2_row0_col3\" class=\"data row0 col3\" >0.000000</td>\n",
       "            </tr>\n",
       "            <tr>\n",
       "                        <th id=\"T_344e2_level0_row1\" class=\"row_heading level0 row1\" >LogisticRegression</th>\n",
       "                        <td id=\"T_344e2_row1_col0\" class=\"data row1 col0\" >0.940000</td>\n",
       "                        <td id=\"T_344e2_row1_col1\" class=\"data row1 col1\" >0.030000</td>\n",
       "                        <td id=\"T_344e2_row1_col2\" class=\"data row1 col2\" >0.910000</td>\n",
       "                        <td id=\"T_344e2_row1_col3\" class=\"data row1 col3\" >0.070000</td>\n",
       "            </tr>\n",
       "            <tr>\n",
       "                        <th id=\"T_344e2_level0_row2\" class=\"row_heading level0 row2\" >KNN</th>\n",
       "                        <td id=\"T_344e2_row2_col0\" class=\"data row2 col0\" >0.820000</td>\n",
       "                        <td id=\"T_344e2_row2_col1\" class=\"data row2 col1\" >0.840000</td>\n",
       "                        <td id=\"T_344e2_row2_col2\" class=\"data row2 col2\" >0.630000</td>\n",
       "                        <td id=\"T_344e2_row2_col3\" class=\"data row2 col3\" >0.720000</td>\n",
       "            </tr>\n",
       "            <tr>\n",
       "                        <th id=\"T_344e2_level0_row3\" class=\"row_heading level0 row3\" >LightGBM</th>\n",
       "                        <td id=\"T_344e2_row3_col0\" class=\"data row3 col0\" >0.960000</td>\n",
       "                        <td id=\"T_344e2_row3_col1\" class=\"data row3 col1\" >0.590000</td>\n",
       "                        <td id=\"T_344e2_row3_col2\" class=\"data row3 col2\" >0.930000</td>\n",
       "                        <td id=\"T_344e2_row3_col3\" class=\"data row3 col3\" >0.720000</td>\n",
       "            </tr>\n",
       "            <tr>\n",
       "                        <th id=\"T_344e2_level0_row4\" class=\"row_heading level0 row4\" >AdaBoost</th>\n",
       "                        <td id=\"T_344e2_row4_col0\" class=\"data row4 col0\" >0.810000</td>\n",
       "                        <td id=\"T_344e2_row4_col1\" class=\"data row4 col1\" >0.980000</td>\n",
       "                        <td id=\"T_344e2_row4_col2\" class=\"data row4 col2\" >0.620000</td>\n",
       "                        <td id=\"T_344e2_row4_col3\" class=\"data row4 col3\" >0.760000</td>\n",
       "            </tr>\n",
       "            <tr>\n",
       "                        <th id=\"T_344e2_level0_row5\" class=\"row_heading level0 row5\" >Random Forest</th>\n",
       "                        <td id=\"T_344e2_row5_col0\" class=\"data row5 col0\" >0.880000</td>\n",
       "                        <td id=\"T_344e2_row5_col1\" class=\"data row5 col1\" >1.000000</td>\n",
       "                        <td id=\"T_344e2_row5_col2\" class=\"data row5 col2\" >0.770000</td>\n",
       "                        <td id=\"T_344e2_row5_col3\" class=\"data row5 col3\" >0.870000</td>\n",
       "            </tr>\n",
       "            <tr>\n",
       "                        <th id=\"T_344e2_level0_row6\" class=\"row_heading level0 row6\" >XGBoost</th>\n",
       "                        <td id=\"T_344e2_row6_col0\" class=\"data row6 col0\" >0.920000</td>\n",
       "                        <td id=\"T_344e2_row6_col1\" class=\"data row6 col1\" >0.970000</td>\n",
       "                        <td id=\"T_344e2_row6_col2\" class=\"data row6 col2\" >0.840000</td>\n",
       "                        <td id=\"T_344e2_row6_col3\" class=\"data row6 col3\" >0.900000</td>\n",
       "            </tr>\n",
       "    </tbody></table>"
      ],
      "text/plain": [
       "<pandas.io.formats.style.Styler at 0x298861d3c70>"
      ]
     },
     "execution_count": 119,
     "metadata": {},
     "output_type": "execute_result"
    }
   ],
   "source": [
    "df_results = pd.concat([dummy_result, logistic_regression_result,knn_result, lgbm_result, ada_result, rf_result, xgb_result])\n",
    "df_results.style.highlight_max(color='lightgreen', axis=0)"
   ]
  },
  {
   "cell_type": "markdown",
   "id": "38f50f93",
   "metadata": {},
   "source": [
    "### Cross Validation Results"
   ]
  },
  {
   "cell_type": "code",
   "execution_count": 120,
   "id": "056a8da4",
   "metadata": {
    "ExecuteTime": {
     "end_time": "2021-08-25T15:21:32.994097Z",
     "start_time": "2021-08-25T15:21:32.981096Z"
    }
   },
   "outputs": [
    {
     "data": {
      "text/html": [
       "<div>\n",
       "<style scoped>\n",
       "    .dataframe tbody tr th:only-of-type {\n",
       "        vertical-align: middle;\n",
       "    }\n",
       "\n",
       "    .dataframe tbody tr th {\n",
       "        vertical-align: top;\n",
       "    }\n",
       "\n",
       "    .dataframe thead th {\n",
       "        text-align: right;\n",
       "    }\n",
       "</style>\n",
       "<table border=\"1\" class=\"dataframe\">\n",
       "  <thead>\n",
       "    <tr style=\"text-align: right;\">\n",
       "      <th></th>\n",
       "      <th>Balanced Accuracy</th>\n",
       "      <th>Precision</th>\n",
       "      <th>Recall</th>\n",
       "      <th>F1</th>\n",
       "    </tr>\n",
       "  </thead>\n",
       "  <tbody>\n",
       "    <tr>\n",
       "      <th>Dummy_CV</th>\n",
       "      <td>0.5 +/- 0.0</td>\n",
       "      <td>0.0 +/- 0.0</td>\n",
       "      <td>0.0 +/- 0.0</td>\n",
       "      <td>0.0 +/- 0.0</td>\n",
       "    </tr>\n",
       "    <tr>\n",
       "      <th>LogisticRegression_CV</th>\n",
       "      <td>0.94 +/- 0.01</td>\n",
       "      <td>0.03 +/- 0.0</td>\n",
       "      <td>0.92 +/- 0.02</td>\n",
       "      <td>0.06 +/- 0.0</td>\n",
       "    </tr>\n",
       "    <tr>\n",
       "      <th>KNN_CV</th>\n",
       "      <td>0.8 +/- 0.0</td>\n",
       "      <td>0.85 +/- 0.01</td>\n",
       "      <td>0.6 +/- 0.01</td>\n",
       "      <td>0.7 +/- 0.01</td>\n",
       "    </tr>\n",
       "    <tr>\n",
       "      <th>LightGBM_CV</th>\n",
       "      <td>0.96 +/- 0.02</td>\n",
       "      <td>0.69 +/- 0.03</td>\n",
       "      <td>0.93 +/- 0.03</td>\n",
       "      <td>0.79 +/- 0.01</td>\n",
       "    </tr>\n",
       "    <tr>\n",
       "      <th>AdaBoost_CV</th>\n",
       "      <td>0.88 +/- 0.02</td>\n",
       "      <td>0.97 +/- 0.01</td>\n",
       "      <td>0.77 +/- 0.04</td>\n",
       "      <td>0.85 +/- 0.02</td>\n",
       "    </tr>\n",
       "    <tr>\n",
       "      <th>Random Forest CV</th>\n",
       "      <td>0.91 +/- 0.01</td>\n",
       "      <td>0.99 +/- 0.01</td>\n",
       "      <td>0.82 +/- 0.01</td>\n",
       "      <td>0.9 +/- 0.01</td>\n",
       "    </tr>\n",
       "    <tr>\n",
       "      <th>XGBoost_CV</th>\n",
       "      <td>0.93 +/- 0.01</td>\n",
       "      <td>0.98 +/- 0.02</td>\n",
       "      <td>0.87 +/- 0.02</td>\n",
       "      <td>0.92 +/- 0.01</td>\n",
       "    </tr>\n",
       "  </tbody>\n",
       "</table>\n",
       "</div>"
      ],
      "text/plain": [
       "                      Balanced Accuracy      Precision         Recall             F1\n",
       "Dummy_CV                    0.5 +/- 0.0    0.0 +/- 0.0    0.0 +/- 0.0    0.0 +/- 0.0\n",
       "LogisticRegression_CV     0.94 +/- 0.01   0.03 +/- 0.0  0.92 +/- 0.02   0.06 +/- 0.0\n",
       "KNN_CV                      0.8 +/- 0.0  0.85 +/- 0.01   0.6 +/- 0.01   0.7 +/- 0.01\n",
       "LightGBM_CV               0.96 +/- 0.02  0.69 +/- 0.03  0.93 +/- 0.03  0.79 +/- 0.01\n",
       "AdaBoost_CV               0.88 +/- 0.02  0.97 +/- 0.01  0.77 +/- 0.04  0.85 +/- 0.02\n",
       "Random Forest CV          0.91 +/- 0.01  0.99 +/- 0.01  0.82 +/- 0.01   0.9 +/- 0.01\n",
       "XGBoost_CV                0.93 +/- 0.01  0.98 +/- 0.02  0.87 +/- 0.02  0.92 +/- 0.01"
      ]
     },
     "execution_count": 120,
     "metadata": {},
     "output_type": "execute_result"
    }
   ],
   "source": [
    "df_results_cv = pd.concat([dummy_result_cv, logistic_regression_result_cv,knn_result_cv, lgbm_result_cv, ada_result_cv, rf_result_cv, xgb_result_cv])\n",
    "df_results_cv"
   ]
  },
  {
   "cell_type": "markdown",
   "id": "dc387088",
   "metadata": {},
   "source": [
    "### Best Thresholds results"
   ]
  },
  {
   "cell_type": "code",
   "execution_count": 143,
   "id": "cf450099",
   "metadata": {
    "ExecuteTime": {
     "end_time": "2021-08-25T15:44:19.100565Z",
     "start_time": "2021-08-25T15:44:19.085744Z"
    }
   },
   "outputs": [
    {
     "data": {
      "text/html": [
       "<style  type=\"text/css\" >\n",
       "#T_b6dfc_row2_col0,#T_b6dfc_row2_col2,#T_b6dfc_row5_col1,#T_b6dfc_row5_col3{\n",
       "            background-color:  lightgreen;\n",
       "        }</style><table id=\"T_b6dfc_\" ><thead>    <tr>        <th class=\"blank level0\" ></th>        <th class=\"col_heading level0 col0\" >Balanced Accuracy</th>        <th class=\"col_heading level0 col1\" >Precision</th>        <th class=\"col_heading level0 col2\" >Recall</th>        <th class=\"col_heading level0 col3\" >F1</th>    </tr></thead><tbody>\n",
       "                <tr>\n",
       "                        <th id=\"T_b6dfc_level0_row0\" class=\"row_heading level0 row0\" >LogisticRegression</th>\n",
       "                        <td id=\"T_b6dfc_row0_col0\" class=\"data row0 col0\" >0.660000</td>\n",
       "                        <td id=\"T_b6dfc_row0_col1\" class=\"data row0 col1\" >0.930000</td>\n",
       "                        <td id=\"T_b6dfc_row0_col2\" class=\"data row0 col2\" >0.330000</td>\n",
       "                        <td id=\"T_b6dfc_row0_col3\" class=\"data row0 col3\" >0.490000</td>\n",
       "            </tr>\n",
       "            <tr>\n",
       "                        <th id=\"T_b6dfc_level0_row1\" class=\"row_heading level0 row1\" >KNN</th>\n",
       "                        <td id=\"T_b6dfc_row1_col0\" class=\"data row1 col0\" >0.820000</td>\n",
       "                        <td id=\"T_b6dfc_row1_col1\" class=\"data row1 col1\" >0.840000</td>\n",
       "                        <td id=\"T_b6dfc_row1_col2\" class=\"data row1 col2\" >0.630000</td>\n",
       "                        <td id=\"T_b6dfc_row1_col3\" class=\"data row1 col3\" >0.720000</td>\n",
       "            </tr>\n",
       "            <tr>\n",
       "                        <th id=\"T_b6dfc_level0_row2\" class=\"row_heading level0 row2\" >LightGBM</th>\n",
       "                        <td id=\"T_b6dfc_row2_col0\" class=\"data row2 col0\" >0.930000</td>\n",
       "                        <td id=\"T_b6dfc_row2_col1\" class=\"data row2 col1\" >0.930000</td>\n",
       "                        <td id=\"T_b6dfc_row2_col2\" class=\"data row2 col2\" >0.850000</td>\n",
       "                        <td id=\"T_b6dfc_row2_col3\" class=\"data row2 col3\" >0.890000</td>\n",
       "            </tr>\n",
       "            <tr>\n",
       "                        <th id=\"T_b6dfc_level0_row3\" class=\"row_heading level0 row3\" >AdaBoost</th>\n",
       "                        <td id=\"T_b6dfc_row3_col0\" class=\"data row3 col0\" >0.840000</td>\n",
       "                        <td id=\"T_b6dfc_row3_col1\" class=\"data row3 col1\" >0.950000</td>\n",
       "                        <td id=\"T_b6dfc_row3_col2\" class=\"data row3 col2\" >0.670000</td>\n",
       "                        <td id=\"T_b6dfc_row3_col3\" class=\"data row3 col3\" >0.790000</td>\n",
       "            </tr>\n",
       "            <tr>\n",
       "                        <th id=\"T_b6dfc_level0_row4\" class=\"row_heading level0 row4\" >Random Forest</th>\n",
       "                        <td id=\"T_b6dfc_row4_col0\" class=\"data row4 col0\" >0.910000</td>\n",
       "                        <td id=\"T_b6dfc_row4_col1\" class=\"data row4 col1\" >0.960000</td>\n",
       "                        <td id=\"T_b6dfc_row4_col2\" class=\"data row4 col2\" >0.830000</td>\n",
       "                        <td id=\"T_b6dfc_row4_col3\" class=\"data row4 col3\" >0.890000</td>\n",
       "            </tr>\n",
       "            <tr>\n",
       "                        <th id=\"T_b6dfc_level0_row5\" class=\"row_heading level0 row5\" >XGBoost</th>\n",
       "                        <td id=\"T_b6dfc_row5_col0\" class=\"data row5 col0\" >0.920000</td>\n",
       "                        <td id=\"T_b6dfc_row5_col1\" class=\"data row5 col1\" >1.000000</td>\n",
       "                        <td id=\"T_b6dfc_row5_col2\" class=\"data row5 col2\" >0.840000</td>\n",
       "                        <td id=\"T_b6dfc_row5_col3\" class=\"data row5 col3\" >0.910000</td>\n",
       "            </tr>\n",
       "    </tbody></table>"
      ],
      "text/plain": [
       "<pandas.io.formats.style.Styler at 0x298862172b0>"
      ]
     },
     "execution_count": 143,
     "metadata": {},
     "output_type": "execute_result"
    }
   ],
   "source": [
    "df_results_thresholds = pd.concat([logistic_regression_threshold_result,knn_threshold_result, lgbm_threshold_result, ada_threshold_result, rf_threshold_result, xgb_threshold_result])\n",
    "df_results_thresholds.style.highlight_max(color='lightgreen', axis=0)"
   ]
  },
  {
   "cell_type": "markdown",
   "id": "e699c905",
   "metadata": {},
   "source": [
    "### Cross Validation Thresholds Results"
   ]
  },
  {
   "cell_type": "code",
   "execution_count": 144,
   "id": "55826ce2",
   "metadata": {
    "ExecuteTime": {
     "end_time": "2021-08-25T15:44:21.429126Z",
     "start_time": "2021-08-25T15:44:21.420055Z"
    }
   },
   "outputs": [
    {
     "data": {
      "text/html": [
       "<div>\n",
       "<style scoped>\n",
       "    .dataframe tbody tr th:only-of-type {\n",
       "        vertical-align: middle;\n",
       "    }\n",
       "\n",
       "    .dataframe tbody tr th {\n",
       "        vertical-align: top;\n",
       "    }\n",
       "\n",
       "    .dataframe thead th {\n",
       "        text-align: right;\n",
       "    }\n",
       "</style>\n",
       "<table border=\"1\" class=\"dataframe\">\n",
       "  <thead>\n",
       "    <tr style=\"text-align: right;\">\n",
       "      <th></th>\n",
       "      <th>Balanced Accuracy</th>\n",
       "      <th>Precision</th>\n",
       "      <th>Recall</th>\n",
       "      <th>F1</th>\n",
       "    </tr>\n",
       "  </thead>\n",
       "  <tbody>\n",
       "    <tr>\n",
       "      <th>LogisticRegression_CV</th>\n",
       "      <td>0.65 +/- 0.02</td>\n",
       "      <td>0.97 +/- 0.02</td>\n",
       "      <td>0.3 +/- 0.03</td>\n",
       "      <td>0.46 +/- 0.04</td>\n",
       "    </tr>\n",
       "    <tr>\n",
       "      <th>KNN_CV</th>\n",
       "      <td>0.8 +/- 0.0</td>\n",
       "      <td>0.85 +/- 0.01</td>\n",
       "      <td>0.6 +/- 0.01</td>\n",
       "      <td>0.7 +/- 0.01</td>\n",
       "    </tr>\n",
       "    <tr>\n",
       "      <th>LightGBM_CV</th>\n",
       "      <td>0.94 +/- 0.01</td>\n",
       "      <td>0.96 +/- 0.02</td>\n",
       "      <td>0.87 +/- 0.02</td>\n",
       "      <td>0.91 +/- 0.02</td>\n",
       "    </tr>\n",
       "    <tr>\n",
       "      <th>AdaBoost</th>\n",
       "      <td>0.87 +/- 0.02</td>\n",
       "      <td>0.97 +/- 0.01</td>\n",
       "      <td>0.75 +/- 0.03</td>\n",
       "      <td>0.85 +/- 0.02</td>\n",
       "    </tr>\n",
       "    <tr>\n",
       "      <th>Random Forest_CV</th>\n",
       "      <td>0.93 +/- 0.01</td>\n",
       "      <td>0.96 +/- 0.02</td>\n",
       "      <td>0.86 +/- 0.02</td>\n",
       "      <td>0.91 +/- 0.02</td>\n",
       "    </tr>\n",
       "    <tr>\n",
       "      <th>XGBoost_CV</th>\n",
       "      <td>0.93 +/- 0.01</td>\n",
       "      <td>0.98 +/- 0.01</td>\n",
       "      <td>0.86 +/- 0.02</td>\n",
       "      <td>0.92 +/- 0.01</td>\n",
       "    </tr>\n",
       "  </tbody>\n",
       "</table>\n",
       "</div>"
      ],
      "text/plain": [
       "                      Balanced Accuracy      Precision         Recall             F1\n",
       "LogisticRegression_CV     0.65 +/- 0.02  0.97 +/- 0.02   0.3 +/- 0.03  0.46 +/- 0.04\n",
       "KNN_CV                      0.8 +/- 0.0  0.85 +/- 0.01   0.6 +/- 0.01   0.7 +/- 0.01\n",
       "LightGBM_CV               0.94 +/- 0.01  0.96 +/- 0.02  0.87 +/- 0.02  0.91 +/- 0.02\n",
       "AdaBoost                  0.87 +/- 0.02  0.97 +/- 0.01  0.75 +/- 0.03  0.85 +/- 0.02\n",
       "Random Forest_CV          0.93 +/- 0.01  0.96 +/- 0.02  0.86 +/- 0.02  0.91 +/- 0.02\n",
       "XGBoost_CV                0.93 +/- 0.01  0.98 +/- 0.01  0.86 +/- 0.02  0.92 +/- 0.01"
      ]
     },
     "execution_count": 144,
     "metadata": {},
     "output_type": "execute_result"
    }
   ],
   "source": [
    "df_results_thresholds_cv = pd.concat([logistic_regression_result_threshold_cv,knn_result_threshold_cv, lgbm_result_threshold_cv, ada_result_threshold_cv, rf_result_threshold_cv, xgb_result_threshold_cv])\n",
    "df_results_thresholds_cv"
   ]
  },
  {
   "cell_type": "markdown",
   "id": "31306a88",
   "metadata": {},
   "source": [
    "# 8.0 Hyperparameter Fine Tuning"
   ]
  },
  {
   "cell_type": "markdown",
   "id": "2cf40123",
   "metadata": {},
   "source": [
    "Os modelos LightGBM e XGBoost foram os escolhidos para serem testados nessa etapa"
   ]
  },
  {
   "cell_type": "markdown",
   "id": "69b7c3ae",
   "metadata": {},
   "source": [
    "## Optuna"
   ]
  },
  {
   "cell_type": "code",
   "execution_count": 59,
   "id": "ec7156a0",
   "metadata": {
    "ExecuteTime": {
     "end_time": "2021-08-25T15:59:49.380543Z",
     "start_time": "2021-08-25T15:59:48.903261Z"
    }
   },
   "outputs": [],
   "source": [
    "import optuna"
   ]
  },
  {
   "cell_type": "markdown",
   "id": "db70ef12",
   "metadata": {
    "ExecuteTime": {
     "end_time": "2021-08-25T15:58:54.346003Z",
     "start_time": "2021-08-25T15:58:41.965568Z"
    }
   },
   "source": [
    "### 8.1 LightGBM"
   ]
  },
  {
   "cell_type": "code",
   "execution_count": null,
   "id": "48b25666",
   "metadata": {
    "ExecuteTime": {
     "end_time": "2021-08-25T20:06:53.996421Z",
     "start_time": "2021-08-25T19:57:40.960785Z"
    }
   },
   "outputs": [],
   "source": [
    "def objective(trial):\n",
    "\n",
    "        random_state = 42\n",
    "        n_jobs = -1\n",
    "        class_weight ='balanced'\n",
    "        objective='binary'\n",
    "        num_leaves = trial.suggest_int(\"num_leaves\", 2, 120)\n",
    "        max_depth = trial.suggest_int(\"max_depth\", 80, 200)\n",
    "        n_estimators = trial.suggest_int(\"n_estimators\", 100, 1000)\n",
    "        min_child_samples = trial.suggest_int(\"min_child_samples\",20,500)\n",
    "        learning_rate = trial.suggest_float(\"learning_rate\", 1e-5, 1e-0)\n",
    "        lambda_l1 = trial.suggest_float(\"lambda_l1\", 1e-8, 10.0)\n",
    "        lambda_l2 = trial.suggest_float(\"lambda_l2\", 1e-8, 10.0)\n",
    "    \n",
    "\n",
    "        classifier_obj =LGBMClassifier(random_state = random_state,\n",
    "                                              n_jobs = n_jobs,\n",
    "                                              max_depth =  max_depth,\n",
    "                                              n_estimators = n_estimators,\n",
    "                                              class_weight = class_weight,\n",
    "                                              objective = objective,\n",
    "                                              num_leaves = num_leaves,\n",
    "                                              min_child_samples = min_child_samples,\n",
    "                                              learning_rate = learning_rate,\n",
    "                                              lambda_l1 = lambda_l1,\n",
    "                                              lambda_l2 = lambda_l2)\n",
    "\n",
    "          \n",
    "        classifier_obj.fit(X_train, y_train)\n",
    "        pred = (classifier_obj.predict_proba(X_valid)[:,1] >= 0.985354)\n",
    "        result = f1_score(y_valid, pred)\n",
    "    \n",
    "        return result\n",
    "\n",
    "\n",
    "study = optuna.create_study(direction='maximize')\n",
    "study.optimize(objective, n_trials = 100)\n",
    "\n",
    "trial = study.best_trial\n",
    "\n",
    "print('Recall: {}'.format(trial.value))\n",
    "print(\"Best hyperparameters: {}\".format(trial.params))"
   ]
  },
  {
   "cell_type": "code",
   "execution_count": null,
   "id": "0e69238f",
   "metadata": {},
   "outputs": [],
   "source": [
    "Best hyperparameters: {'num_leaves': 64, 'max_depth': 91, 'n_estimators': 353, 'min_child_samples': 212, 'learning_rate': 0.6077373562055943, 'lambda_l1': 0.15903983872302785, 'lambda_l2': 5.593193242473908}"
   ]
  },
  {
   "cell_type": "code",
   "execution_count": 117,
   "id": "56451cc0",
   "metadata": {
    "ExecuteTime": {
     "end_time": "2021-08-25T23:27:54.855910Z",
     "start_time": "2021-08-25T23:27:54.851837Z"
    }
   },
   "outputs": [],
   "source": [
    "best_params_lgbm = {'random_state':42, 'n_jobs':-1, 'class_weight':'balanced','objective':'binary',\n",
    "                    'num_leaves': 64, 'max_depth': 91, 'n_estimators': 353, 'min_child_samples': 212, 'learning_rate': 0.6077373562055943, \n",
    "                    'lambda_l1': 0.15903983872302785, 'lambda_l2': 5.593193242473908}"
   ]
  },
  {
   "cell_type": "markdown",
   "id": "e4cb1b92",
   "metadata": {},
   "source": [
    "#### Results"
   ]
  },
  {
   "cell_type": "code",
   "execution_count": 118,
   "id": "2c29c1cd",
   "metadata": {
    "ExecuteTime": {
     "end_time": "2021-08-25T23:28:02.219082Z",
     "start_time": "2021-08-25T23:27:57.383573Z"
    }
   },
   "outputs": [
    {
     "name": "stdout",
     "output_type": "stream",
     "text": [
      "[LightGBM] [Warning] Unknown parameter: verbose_eval\n",
      "[LightGBM] [Warning] lambda_l1 is set=0.15903983872302785, reg_alpha=0.0 will be ignored. Current value: lambda_l1=0.15903983872302785\n",
      "[LightGBM] [Warning] lambda_l2 is set=5.593193242473908, reg_lambda=0.0 will be ignored. Current value: lambda_l2=5.593193242473908\n"
     ]
    }
   ],
   "source": [
    "lgbm_tuned = LGBMClassifier(**best_params_lgbm)\n",
    "lgbm_tuned.fit(X_train, y_train)\n",
    "pred_proba_lgbm_tuned = (lgbm_tuned.predict_proba(X_valid)[:,1] >= 0.985354)"
   ]
  },
  {
   "cell_type": "code",
   "execution_count": 116,
   "id": "d9ed7e88",
   "metadata": {
    "ExecuteTime": {
     "end_time": "2021-08-25T23:26:26.280754Z",
     "start_time": "2021-08-25T23:26:26.131825Z"
    }
   },
   "outputs": [
    {
     "data": {
      "text/html": [
       "<div>\n",
       "<style scoped>\n",
       "    .dataframe tbody tr th:only-of-type {\n",
       "        vertical-align: middle;\n",
       "    }\n",
       "\n",
       "    .dataframe tbody tr th {\n",
       "        vertical-align: top;\n",
       "    }\n",
       "\n",
       "    .dataframe thead th {\n",
       "        text-align: right;\n",
       "    }\n",
       "</style>\n",
       "<table border=\"1\" class=\"dataframe\">\n",
       "  <thead>\n",
       "    <tr style=\"text-align: right;\">\n",
       "      <th></th>\n",
       "      <th>Balanced Accuracy</th>\n",
       "      <th>Precision</th>\n",
       "      <th>Recall</th>\n",
       "      <th>F1</th>\n",
       "    </tr>\n",
       "  </thead>\n",
       "  <tbody>\n",
       "    <tr>\n",
       "      <th>LightGBM Tuned</th>\n",
       "      <td>0.910</td>\n",
       "      <td>0.960</td>\n",
       "      <td>0.830</td>\n",
       "      <td>0.890</td>\n",
       "    </tr>\n",
       "  </tbody>\n",
       "</table>\n",
       "</div>"
      ],
      "text/plain": [
       "                Balanced Accuracy  Precision  Recall    F1\n",
       "LightGBM Tuned              0.910      0.960   0.830 0.890"
      ]
     },
     "execution_count": 116,
     "metadata": {},
     "output_type": "execute_result"
    }
   ],
   "source": [
    "df_metrics_lgbm_tuned = ml_metrics('LightGBM Tuned', y_valid, pred_proba_lgbm_tuned)\n",
    "df_metrics_lgbm_tuned"
   ]
  },
  {
   "cell_type": "code",
   "execution_count": 103,
   "id": "90cb4c99",
   "metadata": {
    "ExecuteTime": {
     "end_time": "2021-08-25T20:36:50.582120Z",
     "start_time": "2021-08-25T20:36:28.500355Z"
    }
   },
   "outputs": [
    {
     "name": "stdout",
     "output_type": "stream",
     "text": [
      "[LightGBM] [Warning] lambda_l1 is set=0.15903983872302785, reg_alpha=0.0 will be ignored. Current value: lambda_l1=0.15903983872302785\n",
      "[LightGBM] [Warning] lambda_l2 is set=5.593193242473908, reg_lambda=0.0 will be ignored. Current value: lambda_l2=5.593193242473908\n",
      "[LightGBM] [Warning] lambda_l1 is set=0.15903983872302785, reg_alpha=0.0 will be ignored. Current value: lambda_l1=0.15903983872302785\n",
      "[LightGBM] [Warning] lambda_l2 is set=5.593193242473908, reg_lambda=0.0 will be ignored. Current value: lambda_l2=5.593193242473908\n",
      "[LightGBM] [Warning] lambda_l1 is set=0.15903983872302785, reg_alpha=0.0 will be ignored. Current value: lambda_l1=0.15903983872302785\n",
      "[LightGBM] [Warning] lambda_l2 is set=5.593193242473908, reg_lambda=0.0 will be ignored. Current value: lambda_l2=5.593193242473908\n",
      "[LightGBM] [Warning] lambda_l1 is set=0.15903983872302785, reg_alpha=0.0 will be ignored. Current value: lambda_l1=0.15903983872302785\n",
      "[LightGBM] [Warning] lambda_l2 is set=5.593193242473908, reg_lambda=0.0 will be ignored. Current value: lambda_l2=5.593193242473908\n",
      "[LightGBM] [Warning] lambda_l1 is set=0.15903983872302785, reg_alpha=0.0 will be ignored. Current value: lambda_l1=0.15903983872302785\n",
      "[LightGBM] [Warning] lambda_l2 is set=5.593193242473908, reg_lambda=0.0 will be ignored. Current value: lambda_l2=5.593193242473908\n"
     ]
    },
    {
     "data": {
      "text/html": [
       "<div>\n",
       "<style scoped>\n",
       "    .dataframe tbody tr th:only-of-type {\n",
       "        vertical-align: middle;\n",
       "    }\n",
       "\n",
       "    .dataframe tbody tr th {\n",
       "        vertical-align: top;\n",
       "    }\n",
       "\n",
       "    .dataframe thead th {\n",
       "        text-align: right;\n",
       "    }\n",
       "</style>\n",
       "<table border=\"1\" class=\"dataframe\">\n",
       "  <thead>\n",
       "    <tr style=\"text-align: right;\">\n",
       "      <th></th>\n",
       "      <th>Balanced Accuracy</th>\n",
       "      <th>Precision</th>\n",
       "      <th>Recall</th>\n",
       "      <th>F1</th>\n",
       "    </tr>\n",
       "  </thead>\n",
       "  <tbody>\n",
       "    <tr>\n",
       "      <th>LightGBM Tuned CV</th>\n",
       "      <td>0.93 +/- 0.01</td>\n",
       "      <td>0.98 +/- 0.01</td>\n",
       "      <td>0.86 +/- 0.01</td>\n",
       "      <td>0.91 +/- 0.01</td>\n",
       "    </tr>\n",
       "  </tbody>\n",
       "</table>\n",
       "</div>"
      ],
      "text/plain": [
       "                  Balanced Accuracy      Precision         Recall             F1\n",
       "LightGBM Tuned CV     0.93 +/- 0.01  0.98 +/- 0.01  0.86 +/- 0.01  0.91 +/- 0.01"
      ]
     },
     "execution_count": 103,
     "metadata": {},
     "output_type": "execute_result"
    }
   ],
   "source": [
    "# Cross Validation\n",
    "lgbm_result_tuned_cv = cross_validation_threshold('LightGBM Tuned CV', LGBMClassifier(**best_params_lgbm), X_train, y_train, 0.985354)\n",
    "lgbm_result_tuned_cv"
   ]
  },
  {
   "cell_type": "markdown",
   "id": "ec9b260f",
   "metadata": {},
   "source": [
    "### 8.2 XGBoost"
   ]
  },
  {
   "cell_type": "code",
   "execution_count": null,
   "id": "dca45d1f",
   "metadata": {
    "ExecuteTime": {
     "end_time": "2021-08-25T19:57:12.949792Z",
     "start_time": "2021-08-25T16:36:46.047499Z"
    }
   },
   "outputs": [],
   "source": [
    "def objective(trial):\n",
    "\n",
    "        random_state = 42\n",
    "        n_jobs = -1\n",
    "        class_weight ='balanced'\n",
    "        objective='binary:logistic'\n",
    "        verbosity = 0\n",
    "        num_leaves = trial.suggest_int(\"num_leaves\", 2, 120)\n",
    "        max_depth = trial.suggest_int(\"max_depth\", 50, 200)\n",
    "        n_estimators = trial.suggest_int(\"n_estimators\", 100, 1000)\n",
    "        min_child_weight = trial.suggest_int(\"min_child_samples\",1,15)\n",
    "        colssample_bytree  = trial.suggest_float(\"colssample_bytree\", 0.1, 0.9)\n",
    "        subsample  = trial.suggest_float(\"subsample\", 0.1,0.9)\n",
    "        eta  = trial.suggest_float(\"eta\", 0.1, 0.9)\n",
    "        gamma = trial.suggest_int(\"gamma\", 0, 10)\n",
    "    \n",
    "\n",
    "        classifier_obj = XGBClassifier(random_state = random_state,\n",
    "                                              n_jobs = n_jobs,\n",
    "                                              max_depth =  max_depth,\n",
    "                                              n_estimators = n_estimators,\n",
    "                                              class_weight = class_weight,\n",
    "                                              objective = objective,\n",
    "                                              num_leaves = num_leaves,\n",
    "                                              verbosity = verbosity,\n",
    "                                              min_child_weight = min_child_weight,\n",
    "                                              colssample_bytree = colssample_bytree,\n",
    "                                              subsample = subsample,\n",
    "                                              eta = eta,\n",
    "                                              gamma = gamma)\n",
    "\n",
    "          \n",
    "        classifier_obj.fit(X_train, y_train)\n",
    "        pred = (classifier_obj.predict_proba(X_valid)[:,1] >= 0.572925)\n",
    "        result = f1_score(y_valid, pred)\n",
    "    \n",
    "        return result\n",
    "\n",
    "\n",
    "study = optuna.create_study(direction='maximize')\n",
    "study.optimize(objective, n_trials = 100)\n",
    "\n",
    "trial = study.best_trial\n",
    "\n",
    "print('Recall: {}'.format(trial.value))\n",
    "print(\"Best hyperparameters: {}\".format(trial.params))"
   ]
  },
  {
   "cell_type": "code",
   "execution_count": null,
   "id": "2347a3ee",
   "metadata": {},
   "outputs": [],
   "source": [
    "Best hyperparameters: {'num_leaves': 94, 'max_depth': 108, 'n_estimators': 349, 'min_child_samples': 7, 'colssample_bytree': 0.4523105870755247, 'subsample': 0.6262103235276557, 'eta': 0.1382979077227655, 'gamma': 4}"
   ]
  },
  {
   "cell_type": "code",
   "execution_count": 119,
   "id": "8b057d59",
   "metadata": {
    "ExecuteTime": {
     "end_time": "2021-08-26T02:09:28.820595Z",
     "start_time": "2021-08-26T02:09:28.815527Z"
    }
   },
   "outputs": [],
   "source": [
    "best_params_xgb = {'random_state':42, 'n_jobs':-1, 'class_weight':'balanced','objective':'binary:logistic', 'verbosity':0}\n",
    "                   'num_leaves': 94, 'max_depth': 108, 'n_estimators': 349, 'min_child_samples': 7, \n",
    "                   'colssample_bytree': 0.4523105870755247, 'subsample': 0.6262103235276557, 'eta': 0.1382979077227655, 'gamma': 4}"
   ]
  },
  {
   "cell_type": "markdown",
   "id": "13b8a51f",
   "metadata": {},
   "source": [
    "#### Results"
   ]
  },
  {
   "cell_type": "code",
   "execution_count": 120,
   "id": "bac9d8ca",
   "metadata": {
    "ExecuteTime": {
     "end_time": "2021-08-26T02:09:52.481952Z",
     "start_time": "2021-08-26T02:09:32.467859Z"
    }
   },
   "outputs": [],
   "source": [
    "xgb_tuned = XGBClassifier(**best_params_xgb)\n",
    "xgb_tuned.fit(X_train, y_train)\n",
    "pred_proba_xgb_tuned = (xgb_tuned.predict_proba(X_valid)[:,1] >= 0.572925)"
   ]
  },
  {
   "cell_type": "code",
   "execution_count": 121,
   "id": "50b648b4",
   "metadata": {
    "ExecuteTime": {
     "end_time": "2021-08-26T02:09:52.684520Z",
     "start_time": "2021-08-26T02:09:52.482727Z"
    }
   },
   "outputs": [
    {
     "data": {
      "text/html": [
       "<div>\n",
       "<style scoped>\n",
       "    .dataframe tbody tr th:only-of-type {\n",
       "        vertical-align: middle;\n",
       "    }\n",
       "\n",
       "    .dataframe tbody tr th {\n",
       "        vertical-align: top;\n",
       "    }\n",
       "\n",
       "    .dataframe thead th {\n",
       "        text-align: right;\n",
       "    }\n",
       "</style>\n",
       "<table border=\"1\" class=\"dataframe\">\n",
       "  <thead>\n",
       "    <tr style=\"text-align: right;\">\n",
       "      <th></th>\n",
       "      <th>Balanced Accuracy</th>\n",
       "      <th>Precision</th>\n",
       "      <th>Recall</th>\n",
       "      <th>F1</th>\n",
       "    </tr>\n",
       "  </thead>\n",
       "  <tbody>\n",
       "    <tr>\n",
       "      <th>XGBoost Tuned</th>\n",
       "      <td>0.920</td>\n",
       "      <td>1.000</td>\n",
       "      <td>0.840</td>\n",
       "      <td>0.910</td>\n",
       "    </tr>\n",
       "  </tbody>\n",
       "</table>\n",
       "</div>"
      ],
      "text/plain": [
       "               Balanced Accuracy  Precision  Recall    F1\n",
       "XGBoost Tuned              0.920      1.000   0.840 0.910"
      ]
     },
     "execution_count": 121,
     "metadata": {},
     "output_type": "execute_result"
    }
   ],
   "source": [
    "df_metrics_xgb_tuned = ml_metrics('XGBoost Tuned', y_valid, pred_proba_xgb_tuned)\n",
    "df_metrics_xgb_tuned"
   ]
  },
  {
   "cell_type": "code",
   "execution_count": 122,
   "id": "a21d9754",
   "metadata": {
    "ExecuteTime": {
     "end_time": "2021-08-26T02:11:36.583048Z",
     "start_time": "2021-08-26T02:10:18.159414Z"
    }
   },
   "outputs": [
    {
     "data": {
      "text/html": [
       "<div>\n",
       "<style scoped>\n",
       "    .dataframe tbody tr th:only-of-type {\n",
       "        vertical-align: middle;\n",
       "    }\n",
       "\n",
       "    .dataframe tbody tr th {\n",
       "        vertical-align: top;\n",
       "    }\n",
       "\n",
       "    .dataframe thead th {\n",
       "        text-align: right;\n",
       "    }\n",
       "</style>\n",
       "<table border=\"1\" class=\"dataframe\">\n",
       "  <thead>\n",
       "    <tr style=\"text-align: right;\">\n",
       "      <th></th>\n",
       "      <th>Balanced Accuracy</th>\n",
       "      <th>Precision</th>\n",
       "      <th>Recall</th>\n",
       "      <th>F1</th>\n",
       "    </tr>\n",
       "  </thead>\n",
       "  <tbody>\n",
       "    <tr>\n",
       "      <th>XGBoost Tuned CV</th>\n",
       "      <td>0.93 +/- 0.01</td>\n",
       "      <td>0.98 +/- 0.01</td>\n",
       "      <td>0.86 +/- 0.02</td>\n",
       "      <td>0.92 +/- 0.01</td>\n",
       "    </tr>\n",
       "  </tbody>\n",
       "</table>\n",
       "</div>"
      ],
      "text/plain": [
       "                 Balanced Accuracy      Precision         Recall             F1\n",
       "XGBoost Tuned CV     0.93 +/- 0.01  0.98 +/- 0.01  0.86 +/- 0.02  0.92 +/- 0.01"
      ]
     },
     "execution_count": 122,
     "metadata": {},
     "output_type": "execute_result"
    }
   ],
   "source": [
    "# Cross Validation\n",
    "xgb_result_tuned_cv = cross_validation_threshold('XGBoost Tuned CV', XGBClassifier(**best_params_xgb), X_train, y_train, 0.572925)\n",
    "xgb_result_tuned_cv"
   ]
  },
  {
   "cell_type": "markdown",
   "id": "ceb2833b",
   "metadata": {},
   "source": [
    "Após realizar a otimização dos hyperparametros, verificou-se um melhor desempenho do modelo LightGBM, e portanto este será usado como modelo final que será colocado em produção posteriormente. "
   ]
  },
  {
   "cell_type": "markdown",
   "id": "d39f72d5",
   "metadata": {},
   "source": [
    "# 9.0 Conlclusions"
   ]
  },
  {
   "cell_type": "code",
   "execution_count": null,
   "id": "d2bbb49f",
   "metadata": {},
   "outputs": [],
   "source": []
  },
  {
   "cell_type": "markdown",
   "id": "85dcf4b7",
   "metadata": {},
   "source": [
    "# 10.0 Deploy"
   ]
  },
  {
   "cell_type": "code",
   "execution_count": null,
   "id": "3b02da70",
   "metadata": {},
   "outputs": [],
   "source": []
  }
 ],
 "metadata": {
  "kernelspec": {
   "display_name": "Python 3",
   "language": "python",
   "name": "python3"
  },
  "language_info": {
   "codemirror_mode": {
    "name": "ipython",
    "version": 3
   },
   "file_extension": ".py",
   "mimetype": "text/x-python",
   "name": "python",
   "nbconvert_exporter": "python",
   "pygments_lexer": "ipython3",
   "version": "3.8.11"
  },
  "toc": {
   "base_numbering": 1,
   "nav_menu": {},
   "number_sections": false,
   "sideBar": true,
   "skip_h1_title": false,
   "title_cell": "Table of Contents",
   "title_sidebar": "Contents",
   "toc_cell": false,
   "toc_position": {},
   "toc_section_display": true,
   "toc_window_display": false
  }
 },
 "nbformat": 4,
 "nbformat_minor": 5
}
