{
 "cells": [
  {
   "cell_type": "markdown",
   "id": "8edb1bdc",
   "metadata": {},
   "source": [
    "# Planejamento da solução"
   ]
  },
  {
   "cell_type": "markdown",
   "id": "1d14a35c",
   "metadata": {},
   "source": [
    "1. Explorar os Dados usando ferramentas e testes Estatísticos com o objetivo de encontrar inconsistências dos dados e tratar possíveis dados faltantes.\n",
    "2. Levantar Hipóteses sobre as características de transações legítimas e fraudulentas, validando ou refutando essas hipóteses através dos dados.\n",
    "3. Preparar os Dados para que os Algoritmos de Machine Learning sejam capazes de aprender a tarefa.\n",
    "4. Treinar e avaliar vários algoritmos Classificadores.\n",
    "5. Contabilizar a Performance do Modelo de Machine Learning e transformar em Performance de Negócio.\n",
    "6. Desenvolver uma API que retorne “Fraude” ou “Legítima” quando receber como entrada uma transação."
   ]
  },
  {
   "cell_type": "markdown",
   "id": "99cef98c",
   "metadata": {},
   "source": [
    "# 0.0 Imports"
   ]
  },
  {
   "cell_type": "code",
   "execution_count": 1,
   "id": "8ac23f9e",
   "metadata": {
    "ExecuteTime": {
     "end_time": "2021-08-18T20:28:21.457339Z",
     "start_time": "2021-08-18T20:28:20.476965Z"
    }
   },
   "outputs": [],
   "source": [
    "import pandas as pd\n",
    "import numpy as np\n",
    "import warnings\n",
    "import seaborn as sns\n",
    "import matplotlib.pyplot as plt\n",
    "from IPython.core.display    import display, HTML\n",
    "from sklearn import metrics as m\n",
    "from sklearn.model_selection import StratifiedKFold"
   ]
  },
  {
   "cell_type": "markdown",
   "id": "060f7262",
   "metadata": {},
   "source": [
    "## 0.1 Helper Functions"
   ]
  },
  {
   "cell_type": "code",
   "execution_count": 2,
   "id": "8fbeb248",
   "metadata": {
    "ExecuteTime": {
     "end_time": "2021-08-18T20:28:21.488513Z",
     "start_time": "2021-08-18T20:28:21.458973Z"
    }
   },
   "outputs": [
    {
     "name": "stdout",
     "output_type": "stream",
     "text": [
      "Populating the interactive namespace from numpy and matplotlib\n"
     ]
    },
    {
     "data": {
      "text/html": [
       "<style>.container { width:100% !important; }</style>"
      ],
      "text/plain": [
       "<IPython.core.display.HTML object>"
      ]
     },
     "metadata": {},
     "output_type": "display_data"
    }
   ],
   "source": [
    "def jupyter_settings():\n",
    "    %matplotlib inline\n",
    "    %pylab inline\n",
    "    \n",
    "    plt.style.use( 'bmh' )\n",
    "    plt.rcParams['figure.figsize'] = [18, 9]\n",
    "    plt.rcParams['font.size'] = 24\n",
    "\n",
    "    display( HTML( '<style>.container { width:100% !important; }</style>') )\n",
    "    pd.options.display.max_columns = None\n",
    "    pd.options.display.max_rows = None\n",
    "    pd.set_option( 'display.expand_frame_repr', False )\n",
    "    pd.set_option('display.float_format', lambda x: '%.3f' % x)\n",
    "    warnings.filterwarnings('ignore')\n",
    "    sns.set()\n",
    "    \n",
    "jupyter_settings()\n",
    "\n",
    "def cross_validation(model_name, model, x, y):\n",
    "    \n",
    "    x = x.to_numpy()\n",
    "    y = y.to_numpy()\n",
    "    \n",
    "    \n",
    "    balanced_accuracy = []\n",
    "    precision = []\n",
    "    recall = []\n",
    "    f1 = []\n",
    "    \n",
    "    skf = StratifiedKFold(n_splits=5, shuffle=True, random_state=42)\n",
    "    \n",
    "    for train_index, test_index in skf.split(x, y):\n",
    "        x_train_cv, x_test_cv = x[train_index], x[test_index]\n",
    "        y_train_cv, y_test_cv = y[train_index], y[test_index]\n",
    "        \n",
    "        \n",
    "        model.fit(x_train_cv, y_train_cv)\n",
    "        pred = model.predict(x_test_cv)\n",
    "\n",
    "        balanced_accuracy.append(m.balanced_accuracy_score(y_test_cv, pred))\n",
    "        precision.append(m.precision_score(y_test_cv, pred))\n",
    "        recall.append(m.recall_score(y_test_cv, pred))\n",
    "        f1.append(m.f1_score(y_test_cv, pred))\n",
    "\n",
    "    \n",
    "    acurracy_mean, acurracy_std = np.round(np.mean(balanced_accuracy), 2), np.round(np.std(balanced_accuracy),2)\n",
    "    precision_mean, precision_std = np.round(np.mean(precision),2), np.round(np.std(precision),2)\n",
    "    recall_mean, recall_std = np.round(np.mean(recall),2), np.round(np.std(recall),2)\n",
    "    f1_mean, f1_std = np.round(np.mean(f1),2), np.round(np.std(f1),2)\n",
    "    \n",
    "    \n",
    "    return pd.DataFrame({\"Balanced Accuracy\": \"{} +/- {}\".format(acurracy_mean, acurracy_std),\n",
    "                        \"Precision\": \"{} +/- {}\".format(precision_mean, precision_std),\n",
    "                        \"Recall\": \"{} +/- {}\".format(recall_mean, recall_std),\n",
    "                        \"F1\": \"{} +/- {}\".format(f1_mean, f1_std)}, index=[model_name])\n",
    "\n",
    "def ml_metrics(model_name, y_true, pred):\n",
    "    \n",
    "    accuracy = m.balanced_accuracy_score(y_true, pred)\n",
    "    precision = m.precision_score(y_true, pred)\n",
    "    recall = m.recall_score(y_true, pred)\n",
    "    f1 = m.f1_score(y_true, pred)\n",
    "    \n",
    "    return pd.DataFrame({'Balanced Accuracy': np.round(accuracy, 2), \n",
    "                         'Precision': np.round(precision, 2), \n",
    "                         'Recall': np.round(recall, 2),\n",
    "                         'F1': np.round(f1, 2)}, index=[model_name])\n",
    "\n",
    "\n",
    "def frequency_encoding(df, column):\n",
    "    encoder = df.groupby(column).size()/len(df)\n",
    "    return encoder"
   ]
  },
  {
   "cell_type": "markdown",
   "id": "44468811",
   "metadata": {},
   "source": [
    "## 0.2 Loading Data"
   ]
  },
  {
   "cell_type": "code",
   "execution_count": 3,
   "id": "ff3f1507",
   "metadata": {
    "ExecuteTime": {
     "end_time": "2021-08-18T20:28:22.500558Z",
     "start_time": "2021-08-18T20:28:21.489503Z"
    }
   },
   "outputs": [],
   "source": [
    "df_raw = pd.read_csv('../data/fraud_detection-dataset.csv', low_memory=False)"
   ]
  },
  {
   "cell_type": "code",
   "execution_count": 4,
   "id": "4c5f793e",
   "metadata": {
    "ExecuteTime": {
     "end_time": "2021-08-18T20:28:22.562085Z",
     "start_time": "2021-08-18T20:28:22.501739Z"
    }
   },
   "outputs": [],
   "source": [
    "df_raw.drop(columns='Unnamed: 0', inplace=True)"
   ]
  },
  {
   "cell_type": "code",
   "execution_count": 5,
   "id": "e99bb022",
   "metadata": {
    "ExecuteTime": {
     "end_time": "2021-08-18T20:28:22.593121Z",
     "start_time": "2021-08-18T20:28:22.564642Z"
    }
   },
   "outputs": [
    {
     "data": {
      "text/html": [
       "<div>\n",
       "<style scoped>\n",
       "    .dataframe tbody tr th:only-of-type {\n",
       "        vertical-align: middle;\n",
       "    }\n",
       "\n",
       "    .dataframe tbody tr th {\n",
       "        vertical-align: top;\n",
       "    }\n",
       "\n",
       "    .dataframe thead th {\n",
       "        text-align: right;\n",
       "    }\n",
       "</style>\n",
       "<table border=\"1\" class=\"dataframe\">\n",
       "  <thead>\n",
       "    <tr style=\"text-align: right;\">\n",
       "      <th></th>\n",
       "      <th>step</th>\n",
       "      <th>type</th>\n",
       "      <th>amount</th>\n",
       "      <th>nameOrig</th>\n",
       "      <th>oldbalanceOrg</th>\n",
       "      <th>newbalanceOrig</th>\n",
       "      <th>nameDest</th>\n",
       "      <th>oldbalanceDest</th>\n",
       "      <th>newbalanceDest</th>\n",
       "      <th>isFlaggedFraud</th>\n",
       "      <th>isFraud</th>\n",
       "    </tr>\n",
       "  </thead>\n",
       "  <tbody>\n",
       "    <tr>\n",
       "      <th>0</th>\n",
       "      <td>353</td>\n",
       "      <td>CASH_OUT</td>\n",
       "      <td>150540.160</td>\n",
       "      <td>C1389413404</td>\n",
       "      <td>9912.000</td>\n",
       "      <td>0.000</td>\n",
       "      <td>C819390946</td>\n",
       "      <td>29817.590</td>\n",
       "      <td>180357.750</td>\n",
       "      <td>0</td>\n",
       "      <td>0</td>\n",
       "    </tr>\n",
       "    <tr>\n",
       "      <th>1</th>\n",
       "      <td>282</td>\n",
       "      <td>CASH_OUT</td>\n",
       "      <td>66723.640</td>\n",
       "      <td>C958468196</td>\n",
       "      <td>0.000</td>\n",
       "      <td>0.000</td>\n",
       "      <td>C257205272</td>\n",
       "      <td>1136277.810</td>\n",
       "      <td>1203001.450</td>\n",
       "      <td>0</td>\n",
       "      <td>0</td>\n",
       "    </tr>\n",
       "    <tr>\n",
       "      <th>2</th>\n",
       "      <td>228</td>\n",
       "      <td>TRANSFER</td>\n",
       "      <td>1039375.010</td>\n",
       "      <td>C857481806</td>\n",
       "      <td>2328.000</td>\n",
       "      <td>0.000</td>\n",
       "      <td>C134214261</td>\n",
       "      <td>437583.330</td>\n",
       "      <td>1476958.340</td>\n",
       "      <td>0</td>\n",
       "      <td>0</td>\n",
       "    </tr>\n",
       "    <tr>\n",
       "      <th>3</th>\n",
       "      <td>36</td>\n",
       "      <td>PAYMENT</td>\n",
       "      <td>9178.610</td>\n",
       "      <td>C558963849</td>\n",
       "      <td>96237.620</td>\n",
       "      <td>87059.010</td>\n",
       "      <td>M635090135</td>\n",
       "      <td>0.000</td>\n",
       "      <td>0.000</td>\n",
       "      <td>0</td>\n",
       "      <td>0</td>\n",
       "    </tr>\n",
       "    <tr>\n",
       "      <th>4</th>\n",
       "      <td>48</td>\n",
       "      <td>PAYMENT</td>\n",
       "      <td>4527.240</td>\n",
       "      <td>C1644082954</td>\n",
       "      <td>51925.000</td>\n",
       "      <td>47397.760</td>\n",
       "      <td>M332145827</td>\n",
       "      <td>0.000</td>\n",
       "      <td>0.000</td>\n",
       "      <td>0</td>\n",
       "      <td>0</td>\n",
       "    </tr>\n",
       "  </tbody>\n",
       "</table>\n",
       "</div>"
      ],
      "text/plain": [
       "   step      type      amount     nameOrig  oldbalanceOrg  newbalanceOrig    nameDest  oldbalanceDest  newbalanceDest  isFlaggedFraud  isFraud\n",
       "0   353  CASH_OUT  150540.160  C1389413404       9912.000           0.000  C819390946       29817.590      180357.750               0        0\n",
       "1   282  CASH_OUT   66723.640   C958468196          0.000           0.000  C257205272     1136277.810     1203001.450               0        0\n",
       "2   228  TRANSFER 1039375.010   C857481806       2328.000           0.000  C134214261      437583.330     1476958.340               0        0\n",
       "3    36   PAYMENT    9178.610   C558963849      96237.620       87059.010  M635090135           0.000           0.000               0        0\n",
       "4    48   PAYMENT    4527.240  C1644082954      51925.000       47397.760  M332145827           0.000           0.000               0        0"
      ]
     },
     "execution_count": 5,
     "metadata": {},
     "output_type": "execute_result"
    }
   ],
   "source": [
    "df_raw.head()"
   ]
  },
  {
   "cell_type": "markdown",
   "id": "dddb3df9",
   "metadata": {},
   "source": [
    "# 1.0 Data Description"
   ]
  },
  {
   "cell_type": "code",
   "execution_count": 6,
   "id": "d8c39437",
   "metadata": {
    "ExecuteTime": {
     "end_time": "2021-08-18T20:28:22.624335Z",
     "start_time": "2021-08-18T20:28:22.595616Z"
    }
   },
   "outputs": [],
   "source": [
    "df1 = df_raw.copy()"
   ]
  },
  {
   "cell_type": "markdown",
   "id": "fad2a150",
   "metadata": {},
   "source": [
    "- **step** - mapeia uma unidade de tempo no mundo real. Neste caso, 1 etapa corresponde a 1 hora de tempo. Total de etapas 744 (simulação de 30 dias).\n",
    "\n",
    "- **type** - CASH-IN, CASH-OUT, DEBIT, PAYMENT and TRANSFER.\n",
    "\n",
    "- **amount** - valor da transação em moeda local.\n",
    "\n",
    "- **nameOrig** - cliente que iniciou a transação\n",
    "\n",
    "- **oldbalanceOrg** - saldo inicial antes da transação\n",
    "\n",
    "- **newbalanceOrig** - saldo após a transação\n",
    "\n",
    "- **nameDest** - cliente que é o destinatário da transação\n",
    "\n",
    "- **oldbalanceDest** - destinatário do saldo inicial antes da transação. Observe que não há informações para clientes que começam com M (Merchants).\n",
    "\n",
    "- **newbalanceDest** - novo destinatário do saldo após a transação. Observe que não há informações para clientes que começam com  M (Merchants).\n",
    "\n",
    "- **isFraud** - São as transações feitas pelos agentes fraudulentos dentro da simulação. Neste conjunto de dados específico, o comportamento fraudulento dos agentes visa lucrar ao assumir o controle das contas dos clientes e tentar esvaziar os fundos transferindo para outra conta e retirando do sistema.\n",
    "\n",
    "- **isFlaggedFraud** - O modelo de negócios visa controlar as transferências em massa de uma conta para outra e sinaliza tentativas ilegais. Uma tentativa ilegal neste conjunto de dados é uma tentativa de transferir mais de 200.000 em uma única transação."
   ]
  },
  {
   "cell_type": "markdown",
   "id": "9558cbf5",
   "metadata": {},
   "source": [
    "## 1.1 Data Dimensions"
   ]
  },
  {
   "cell_type": "code",
   "execution_count": 7,
   "id": "c6a5b355",
   "metadata": {
    "ExecuteTime": {
     "end_time": "2021-08-18T20:28:22.639861Z",
     "start_time": "2021-08-18T20:28:22.625335Z"
    }
   },
   "outputs": [
    {
     "data": {
      "text/plain": [
       "(636262, 11)"
      ]
     },
     "execution_count": 7,
     "metadata": {},
     "output_type": "execute_result"
    }
   ],
   "source": [
    "df1.shape"
   ]
  },
  {
   "cell_type": "markdown",
   "id": "1949e029",
   "metadata": {},
   "source": [
    "## 1.2 Rename Columns"
   ]
  },
  {
   "cell_type": "code",
   "execution_count": 8,
   "id": "6857174a",
   "metadata": {
    "ExecuteTime": {
     "end_time": "2021-08-18T20:28:22.655861Z",
     "start_time": "2021-08-18T20:28:22.642862Z"
    }
   },
   "outputs": [],
   "source": [
    "cols_new = ['step', 'type', 'amount', 'name_orig', 'old_balance_org', 'new_balance_orig',\n",
    "       'name_dest', 'old_balance_dest', 'new_balance_dest', 'is_flagged_fraud',\n",
    "       'is_fraud']\n",
    "\n",
    "df1.columns = cols_new"
   ]
  },
  {
   "cell_type": "markdown",
   "id": "75471644",
   "metadata": {},
   "source": [
    "## 1.3 Data Types"
   ]
  },
  {
   "cell_type": "code",
   "execution_count": 9,
   "id": "a1c535e8",
   "metadata": {
    "ExecuteTime": {
     "end_time": "2021-08-18T20:28:22.671075Z",
     "start_time": "2021-08-18T20:28:22.657861Z"
    }
   },
   "outputs": [
    {
     "data": {
      "text/plain": [
       "step                  int64\n",
       "type                 object\n",
       "amount              float64\n",
       "name_orig            object\n",
       "old_balance_org     float64\n",
       "new_balance_orig    float64\n",
       "name_dest            object\n",
       "old_balance_dest    float64\n",
       "new_balance_dest    float64\n",
       "is_flagged_fraud      int64\n",
       "is_fraud              int64\n",
       "dtype: object"
      ]
     },
     "execution_count": 9,
     "metadata": {},
     "output_type": "execute_result"
    }
   ],
   "source": [
    "df1.dtypes"
   ]
  },
  {
   "cell_type": "markdown",
   "id": "0bfc9738",
   "metadata": {},
   "source": [
    "## 1.4 Check Na"
   ]
  },
  {
   "cell_type": "code",
   "execution_count": 10,
   "id": "396827a4",
   "metadata": {
    "ExecuteTime": {
     "end_time": "2021-08-18T20:28:22.780509Z",
     "start_time": "2021-08-18T20:28:22.672075Z"
    }
   },
   "outputs": [
    {
     "data": {
      "text/plain": [
       "step                0\n",
       "type                0\n",
       "amount              0\n",
       "name_orig           0\n",
       "old_balance_org     0\n",
       "new_balance_orig    0\n",
       "name_dest           0\n",
       "old_balance_dest    0\n",
       "new_balance_dest    0\n",
       "is_flagged_fraud    0\n",
       "is_fraud            0\n",
       "dtype: int64"
      ]
     },
     "execution_count": 10,
     "metadata": {},
     "output_type": "execute_result"
    }
   ],
   "source": [
    "df1.isna().sum()"
   ]
  },
  {
   "cell_type": "markdown",
   "id": "01df2d14",
   "metadata": {},
   "source": [
    "## 1.5 Fillout Na"
   ]
  },
  {
   "cell_type": "markdown",
   "id": "abed22ab",
   "metadata": {},
   "source": [
    "There are not Nan values in the dataset"
   ]
  },
  {
   "cell_type": "markdown",
   "id": "5c6e0f8a",
   "metadata": {},
   "source": [
    "## 1.6 Change Types"
   ]
  },
  {
   "cell_type": "code",
   "execution_count": null,
   "id": "459fb47c",
   "metadata": {
    "ExecuteTime": {
     "end_time": "2021-08-17T19:01:24.556344Z",
     "start_time": "2021-08-17T19:01:24.482478Z"
    }
   },
   "outputs": [],
   "source": []
  },
  {
   "cell_type": "markdown",
   "id": "341b9579",
   "metadata": {},
   "source": [
    "## 1.7 Descriptive Statistical"
   ]
  },
  {
   "cell_type": "markdown",
   "id": "2722f0cb",
   "metadata": {},
   "source": [
    "### 1.7.1 Numerical Atributes"
   ]
  },
  {
   "cell_type": "code",
   "execution_count": null,
   "id": "58644fab",
   "metadata": {},
   "outputs": [],
   "source": []
  },
  {
   "cell_type": "markdown",
   "id": "ddfd7340",
   "metadata": {},
   "source": [
    "### 1.7.2 Categorical Atributes"
   ]
  },
  {
   "cell_type": "code",
   "execution_count": null,
   "id": "8041a368",
   "metadata": {},
   "outputs": [],
   "source": []
  },
  {
   "cell_type": "markdown",
   "id": "b2666071",
   "metadata": {},
   "source": [
    "# 2.0 feature Engineering"
   ]
  },
  {
   "cell_type": "code",
   "execution_count": null,
   "id": "fffc4aea",
   "metadata": {},
   "outputs": [],
   "source": []
  },
  {
   "cell_type": "markdown",
   "id": "eb147a39",
   "metadata": {},
   "source": [
    "# 3.0 Variable Filtering"
   ]
  },
  {
   "cell_type": "code",
   "execution_count": 11,
   "id": "ec96dd03",
   "metadata": {
    "ExecuteTime": {
     "end_time": "2021-08-18T20:28:22.811431Z",
     "start_time": "2021-08-18T20:28:22.781431Z"
    }
   },
   "outputs": [],
   "source": [
    "df3 = df1.copy()"
   ]
  },
  {
   "cell_type": "code",
   "execution_count": 12,
   "id": "c71d5985",
   "metadata": {
    "ExecuteTime": {
     "end_time": "2021-08-18T20:28:22.858691Z",
     "start_time": "2021-08-18T20:28:22.812431Z"
    }
   },
   "outputs": [],
   "source": [
    "df3.drop(columns=['name_orig', 'name_dest'], axis=1, inplace=True)"
   ]
  },
  {
   "cell_type": "markdown",
   "id": "0a81f1f0",
   "metadata": {},
   "source": [
    "# 4.0 EDA"
   ]
  },
  {
   "cell_type": "code",
   "execution_count": null,
   "id": "5c8f70b6",
   "metadata": {},
   "outputs": [],
   "source": []
  },
  {
   "cell_type": "markdown",
   "id": "6f4f2479",
   "metadata": {},
   "source": [
    "# 5.0 Data Preparation"
   ]
  },
  {
   "cell_type": "code",
   "execution_count": 13,
   "id": "4b1985c7",
   "metadata": {
    "ExecuteTime": {
     "end_time": "2021-08-18T20:28:22.873685Z",
     "start_time": "2021-08-18T20:28:22.859605Z"
    }
   },
   "outputs": [],
   "source": [
    "df5 = df3.copy()"
   ]
  },
  {
   "cell_type": "markdown",
   "id": "0505336f",
   "metadata": {},
   "source": [
    "## 5.1 Split dataframe into train, test and validation"
   ]
  },
  {
   "cell_type": "code",
   "execution_count": 14,
   "id": "5d2a340d",
   "metadata": {
    "ExecuteTime": {
     "end_time": "2021-08-18T20:28:22.889080Z",
     "start_time": "2021-08-18T20:28:22.874689Z"
    }
   },
   "outputs": [],
   "source": [
    "from sklearn.model_selection import train_test_split"
   ]
  },
  {
   "cell_type": "code",
   "execution_count": 15,
   "id": "79456f62",
   "metadata": {
    "ExecuteTime": {
     "end_time": "2021-08-18T20:28:22.920972Z",
     "start_time": "2021-08-18T20:28:22.890093Z"
    }
   },
   "outputs": [],
   "source": [
    "X = df3.drop('is_fraud', axis=1)\n",
    "y = df3['is_fraud'].copy()"
   ]
  },
  {
   "cell_type": "code",
   "execution_count": 16,
   "id": "4591069e",
   "metadata": {
    "ExecuteTime": {
     "end_time": "2021-08-18T20:28:23.110056Z",
     "start_time": "2021-08-18T20:28:22.922462Z"
    }
   },
   "outputs": [],
   "source": [
    "X_train, X_temp, y_train, y_temp = train_test_split(X,y, train_size=0.8, random_state=42, stratify=y)"
   ]
  },
  {
   "cell_type": "code",
   "execution_count": 17,
   "id": "0ef0842e",
   "metadata": {
    "ExecuteTime": {
     "end_time": "2021-08-18T20:28:23.156468Z",
     "start_time": "2021-08-18T20:28:23.111074Z"
    }
   },
   "outputs": [],
   "source": [
    "X_valid, X_test, y_valid, y_test = train_test_split(X_temp, y_temp, test_size=0.5, random_state=42, stratify=y_temp)"
   ]
  },
  {
   "cell_type": "markdown",
   "id": "d9ae3226",
   "metadata": {},
   "source": [
    "## 5.2 Rescaling"
   ]
  },
  {
   "cell_type": "code",
   "execution_count": 18,
   "id": "8ff7451b",
   "metadata": {
    "ExecuteTime": {
     "end_time": "2021-08-18T20:28:23.172429Z",
     "start_time": "2021-08-18T20:28:23.157207Z"
    }
   },
   "outputs": [],
   "source": [
    "from sklearn.preprocessing import MinMaxScaler"
   ]
  },
  {
   "cell_type": "code",
   "execution_count": 19,
   "id": "5baa61a5",
   "metadata": {
    "ExecuteTime": {
     "end_time": "2021-08-18T20:28:23.235702Z",
     "start_time": "2021-08-18T20:28:23.172891Z"
    }
   },
   "outputs": [],
   "source": [
    "mm = MinMaxScaler()\n",
    "\n",
    "# amount\n",
    "X_train['amount'] = mm.fit_transform(X_train[['amount']].values)\n",
    "X_valid['amount'] = mm.fit_transform(X_valid[['amount']].values)\n",
    "\n",
    "# old balance org\n",
    "X_train['old_balance_org'] = mm.fit_transform(X_train[['old_balance_org']].values)\n",
    "X_valid['old_balance_org'] = mm.fit_transform(X_valid[['old_balance_org']].values)\n",
    "\n",
    "# new balance orig\n",
    "X_train['new_balance_orig'] = mm.fit_transform(X_train[['new_balance_orig']].values)\n",
    "X_valid['new_balance_orig'] = mm.fit_transform(X_valid[['new_balance_orig']].values)\n",
    "\n",
    "# old balance dest\n",
    "X_train['old_balance_dest'] = mm.fit_transform(X_train[['old_balance_dest']].values)\n",
    "X_valid['old_balance_dest'] = mm.fit_transform(X_valid[['old_balance_dest']].values)\n",
    "\n",
    "# new balance dest\n",
    "X_train['new_balance_dest'] = mm.fit_transform(X_train[['new_balance_dest']].values)\n",
    "X_valid['new_balance_dest'] = mm.fit_transform(X_valid[['new_balance_dest']].values)\n",
    "\n",
    "# step\n",
    "X_train['step'] = mm.fit_transform(X_train[['step']].values)\n",
    "X_valid['step'] = mm.fit_transform(X_valid[['step']].values)"
   ]
  },
  {
   "cell_type": "markdown",
   "id": "b8e3f9f0",
   "metadata": {},
   "source": [
    "## 5.3 Encoding"
   ]
  },
  {
   "cell_type": "code",
   "execution_count": 20,
   "id": "2d19231e",
   "metadata": {
    "ExecuteTime": {
     "end_time": "2021-08-18T20:28:23.298086Z",
     "start_time": "2021-08-18T20:28:23.236558Z"
    }
   },
   "outputs": [],
   "source": [
    "# type - frequency encoding\n",
    "fe_type_train = frequency_encoding(X_train, 'type')\n",
    "fe_type_valid = frequency_encoding(X_valid, 'type')\n",
    "X_train['type'] = X_train['type'].map(fe_type_train)\n",
    "X_valid['type'] = X_valid['type'].map(fe_type_valid)"
   ]
  },
  {
   "cell_type": "markdown",
   "id": "acdca386",
   "metadata": {},
   "source": [
    "# 6.0 Feature Selection"
   ]
  },
  {
   "cell_type": "code",
   "execution_count": null,
   "id": "195ef2ea",
   "metadata": {},
   "outputs": [],
   "source": []
  },
  {
   "cell_type": "markdown",
   "id": "6474551b",
   "metadata": {},
   "source": [
    "# 7.0 Machine Learning Modeling"
   ]
  },
  {
   "cell_type": "markdown",
   "id": "170dd589",
   "metadata": {
    "heading_collapsed": true
   },
   "source": [
    "## 7.1 Baseline Model"
   ]
  },
  {
   "cell_type": "code",
   "execution_count": 21,
   "id": "e826d26c",
   "metadata": {
    "ExecuteTime": {
     "end_time": "2021-08-18T20:28:23.314007Z",
     "start_time": "2021-08-18T20:28:23.299794Z"
    },
    "hidden": true
   },
   "outputs": [],
   "source": [
    "from sklearn.dummy import DummyClassifier"
   ]
  },
  {
   "cell_type": "code",
   "execution_count": 22,
   "id": "5819fd39",
   "metadata": {
    "ExecuteTime": {
     "end_time": "2021-08-18T20:28:23.359624Z",
     "start_time": "2021-08-18T20:28:23.316015Z"
    },
    "hidden": true
   },
   "outputs": [],
   "source": [
    "dummy = DummyClassifier()\n",
    "dummy.fit(X_train, y_train)\n",
    "pred = dummy.predict(X_valid)"
   ]
  },
  {
   "cell_type": "markdown",
   "id": "d8372f87",
   "metadata": {
    "hidden": true
   },
   "source": [
    "### Results"
   ]
  },
  {
   "cell_type": "code",
   "execution_count": 23,
   "id": "b41b754e",
   "metadata": {
    "ExecuteTime": {
     "end_time": "2021-08-18T20:28:23.439186Z",
     "start_time": "2021-08-18T20:28:23.362546Z"
    },
    "hidden": true
   },
   "outputs": [
    {
     "data": {
      "text/html": [
       "<div>\n",
       "<style scoped>\n",
       "    .dataframe tbody tr th:only-of-type {\n",
       "        vertical-align: middle;\n",
       "    }\n",
       "\n",
       "    .dataframe tbody tr th {\n",
       "        vertical-align: top;\n",
       "    }\n",
       "\n",
       "    .dataframe thead th {\n",
       "        text-align: right;\n",
       "    }\n",
       "</style>\n",
       "<table border=\"1\" class=\"dataframe\">\n",
       "  <thead>\n",
       "    <tr style=\"text-align: right;\">\n",
       "      <th></th>\n",
       "      <th>Balanced Accuracy</th>\n",
       "      <th>Precision</th>\n",
       "      <th>Recall</th>\n",
       "      <th>F1</th>\n",
       "    </tr>\n",
       "  </thead>\n",
       "  <tbody>\n",
       "    <tr>\n",
       "      <th>dummy</th>\n",
       "      <td>0.500</td>\n",
       "      <td>0.000</td>\n",
       "      <td>0.000</td>\n",
       "      <td>0.000</td>\n",
       "    </tr>\n",
       "  </tbody>\n",
       "</table>\n",
       "</div>"
      ],
      "text/plain": [
       "       Balanced Accuracy  Precision  Recall    F1\n",
       "dummy              0.500      0.000   0.000 0.000"
      ]
     },
     "execution_count": 23,
     "metadata": {},
     "output_type": "execute_result"
    }
   ],
   "source": [
    "dummy_result = ml_metrics('dummy', y_valid, pred)\n",
    "dummy_result"
   ]
  },
  {
   "cell_type": "markdown",
   "id": "54f9dd40",
   "metadata": {
    "hidden": true
   },
   "source": [
    "### Cross Validation"
   ]
  },
  {
   "cell_type": "code",
   "execution_count": 24,
   "id": "1e747ffc",
   "metadata": {
    "ExecuteTime": {
     "end_time": "2021-08-18T20:28:24.082006Z",
     "start_time": "2021-08-18T20:28:23.442118Z"
    },
    "hidden": true
   },
   "outputs": [
    {
     "data": {
      "text/html": [
       "<div>\n",
       "<style scoped>\n",
       "    .dataframe tbody tr th:only-of-type {\n",
       "        vertical-align: middle;\n",
       "    }\n",
       "\n",
       "    .dataframe tbody tr th {\n",
       "        vertical-align: top;\n",
       "    }\n",
       "\n",
       "    .dataframe thead th {\n",
       "        text-align: right;\n",
       "    }\n",
       "</style>\n",
       "<table border=\"1\" class=\"dataframe\">\n",
       "  <thead>\n",
       "    <tr style=\"text-align: right;\">\n",
       "      <th></th>\n",
       "      <th>Balanced Accuracy</th>\n",
       "      <th>Precision</th>\n",
       "      <th>Recall</th>\n",
       "      <th>F1</th>\n",
       "    </tr>\n",
       "  </thead>\n",
       "  <tbody>\n",
       "    <tr>\n",
       "      <th>Dummy_CV</th>\n",
       "      <td>0.5 +/- 0.0</td>\n",
       "      <td>0.0 +/- 0.0</td>\n",
       "      <td>0.0 +/- 0.0</td>\n",
       "      <td>0.0 +/- 0.0</td>\n",
       "    </tr>\n",
       "  </tbody>\n",
       "</table>\n",
       "</div>"
      ],
      "text/plain": [
       "         Balanced Accuracy    Precision       Recall           F1\n",
       "Dummy_CV       0.5 +/- 0.0  0.0 +/- 0.0  0.0 +/- 0.0  0.0 +/- 0.0"
      ]
     },
     "execution_count": 24,
     "metadata": {},
     "output_type": "execute_result"
    }
   ],
   "source": [
    "dummy_result_cv = cross_validation('Dummy_CV', DummyClassifier(), X_train, y_train)\n",
    "dummy_result_cv"
   ]
  },
  {
   "cell_type": "markdown",
   "id": "ba388fd5",
   "metadata": {
    "heading_collapsed": true
   },
   "source": [
    "## 7.2 Logistic Regression"
   ]
  },
  {
   "cell_type": "code",
   "execution_count": 25,
   "id": "7b91ed56",
   "metadata": {
    "ExecuteTime": {
     "end_time": "2021-08-18T20:28:24.113243Z",
     "start_time": "2021-08-18T20:28:24.084043Z"
    },
    "hidden": true
   },
   "outputs": [],
   "source": [
    "from sklearn.linear_model import LogisticRegression"
   ]
  },
  {
   "cell_type": "code",
   "execution_count": 26,
   "id": "d3a11e6e",
   "metadata": {
    "ExecuteTime": {
     "end_time": "2021-08-18T20:28:27.365068Z",
     "start_time": "2021-08-18T20:28:24.114087Z"
    },
    "hidden": true
   },
   "outputs": [],
   "source": [
    "lg = LogisticRegression(class_weight='balanced')\n",
    "lg.fit(X_train, y_train)\n",
    "pred = lg.predict(X_valid)"
   ]
  },
  {
   "cell_type": "markdown",
   "id": "11c8946d",
   "metadata": {
    "hidden": true
   },
   "source": [
    "### Results"
   ]
  },
  {
   "cell_type": "code",
   "execution_count": 27,
   "id": "8fb91425",
   "metadata": {
    "ExecuteTime": {
     "end_time": "2021-08-18T20:28:27.457638Z",
     "start_time": "2021-08-18T20:28:27.366023Z"
    },
    "hidden": true
   },
   "outputs": [
    {
     "data": {
      "text/html": [
       "<div>\n",
       "<style scoped>\n",
       "    .dataframe tbody tr th:only-of-type {\n",
       "        vertical-align: middle;\n",
       "    }\n",
       "\n",
       "    .dataframe tbody tr th {\n",
       "        vertical-align: top;\n",
       "    }\n",
       "\n",
       "    .dataframe thead th {\n",
       "        text-align: right;\n",
       "    }\n",
       "</style>\n",
       "<table border=\"1\" class=\"dataframe\">\n",
       "  <thead>\n",
       "    <tr style=\"text-align: right;\">\n",
       "      <th></th>\n",
       "      <th>Balanced Accuracy</th>\n",
       "      <th>Precision</th>\n",
       "      <th>Recall</th>\n",
       "      <th>F1</th>\n",
       "    </tr>\n",
       "  </thead>\n",
       "  <tbody>\n",
       "    <tr>\n",
       "      <th>LogisticRegression</th>\n",
       "      <td>0.890</td>\n",
       "      <td>0.010</td>\n",
       "      <td>0.870</td>\n",
       "      <td>0.030</td>\n",
       "    </tr>\n",
       "  </tbody>\n",
       "</table>\n",
       "</div>"
      ],
      "text/plain": [
       "                    Balanced Accuracy  Precision  Recall    F1\n",
       "LogisticRegression              0.890      0.010   0.870 0.030"
      ]
     },
     "execution_count": 27,
     "metadata": {},
     "output_type": "execute_result"
    }
   ],
   "source": [
    "logistic_regression_result = ml_metrics('LogisticRegression', y_valid, pred)\n",
    "logistic_regression_result"
   ]
  },
  {
   "cell_type": "markdown",
   "id": "0bcf2884",
   "metadata": {
    "hidden": true
   },
   "source": [
    "### Cross Validation"
   ]
  },
  {
   "cell_type": "code",
   "execution_count": 28,
   "id": "ce824175",
   "metadata": {
    "ExecuteTime": {
     "end_time": "2021-08-18T20:28:38.750030Z",
     "start_time": "2021-08-18T20:28:27.459543Z"
    },
    "hidden": true
   },
   "outputs": [
    {
     "data": {
      "text/html": [
       "<div>\n",
       "<style scoped>\n",
       "    .dataframe tbody tr th:only-of-type {\n",
       "        vertical-align: middle;\n",
       "    }\n",
       "\n",
       "    .dataframe tbody tr th {\n",
       "        vertical-align: top;\n",
       "    }\n",
       "\n",
       "    .dataframe thead th {\n",
       "        text-align: right;\n",
       "    }\n",
       "</style>\n",
       "<table border=\"1\" class=\"dataframe\">\n",
       "  <thead>\n",
       "    <tr style=\"text-align: right;\">\n",
       "      <th></th>\n",
       "      <th>Balanced Accuracy</th>\n",
       "      <th>Precision</th>\n",
       "      <th>Recall</th>\n",
       "      <th>F1</th>\n",
       "    </tr>\n",
       "  </thead>\n",
       "  <tbody>\n",
       "    <tr>\n",
       "      <th>LogisticRegression_CV</th>\n",
       "      <td>0.85 +/- 0.01</td>\n",
       "      <td>0.01 +/- 0.0</td>\n",
       "      <td>0.78 +/- 0.01</td>\n",
       "      <td>0.02 +/- 0.0</td>\n",
       "    </tr>\n",
       "  </tbody>\n",
       "</table>\n",
       "</div>"
      ],
      "text/plain": [
       "                      Balanced Accuracy     Precision         Recall            F1\n",
       "LogisticRegression_CV     0.85 +/- 0.01  0.01 +/- 0.0  0.78 +/- 0.01  0.02 +/- 0.0"
      ]
     },
     "execution_count": 28,
     "metadata": {},
     "output_type": "execute_result"
    }
   ],
   "source": [
    "logistic_regression_result_cv = cross_validation('LogisticRegression_CV', LogisticRegression(class_weight='balanced'), X_train, y_train)\n",
    "logistic_regression_result_cv"
   ]
  },
  {
   "cell_type": "markdown",
   "id": "a9e7995e",
   "metadata": {
    "heading_collapsed": true
   },
   "source": [
    "## 7.3 KNN"
   ]
  },
  {
   "cell_type": "code",
   "execution_count": 49,
   "id": "84a0ac8d",
   "metadata": {
    "ExecuteTime": {
     "end_time": "2021-08-18T20:46:54.312153Z",
     "start_time": "2021-08-18T20:46:54.294157Z"
    },
    "hidden": true
   },
   "outputs": [],
   "source": [
    "from sklearn.neighbors import KNeighborsClassifier"
   ]
  },
  {
   "cell_type": "code",
   "execution_count": 50,
   "id": "13afe33c",
   "metadata": {
    "ExecuteTime": {
     "end_time": "2021-08-18T20:49:46.315122Z",
     "start_time": "2021-08-18T20:46:55.043636Z"
    },
    "hidden": true
   },
   "outputs": [
    {
     "ename": "KeyboardInterrupt",
     "evalue": "",
     "output_type": "error",
     "traceback": [
      "\u001b[1;31m---------------------------------------------------------------------------\u001b[0m",
      "\u001b[1;31mKeyboardInterrupt\u001b[0m                         Traceback (most recent call last)",
      "\u001b[1;32m<ipython-input-50-c6703bb0b612>\u001b[0m in \u001b[0;36m<module>\u001b[1;34m\u001b[0m\n\u001b[0;32m      1\u001b[0m \u001b[0mknn\u001b[0m \u001b[1;33m=\u001b[0m \u001b[0mKNeighborsClassifier\u001b[0m\u001b[1;33m(\u001b[0m\u001b[1;33m)\u001b[0m\u001b[1;33m\u001b[0m\u001b[1;33m\u001b[0m\u001b[0m\n\u001b[1;32m----> 2\u001b[1;33m \u001b[0mknn\u001b[0m\u001b[1;33m.\u001b[0m\u001b[0mfit\u001b[0m\u001b[1;33m(\u001b[0m\u001b[0mX_train\u001b[0m\u001b[1;33m,\u001b[0m \u001b[0my_train\u001b[0m\u001b[1;33m)\u001b[0m\u001b[1;33m\u001b[0m\u001b[1;33m\u001b[0m\u001b[0m\n\u001b[0m\u001b[0;32m      3\u001b[0m \u001b[0mpred\u001b[0m \u001b[1;33m=\u001b[0m \u001b[0mknn\u001b[0m\u001b[1;33m.\u001b[0m\u001b[0mpredict\u001b[0m\u001b[1;33m(\u001b[0m\u001b[0mX_valid\u001b[0m\u001b[1;33m)\u001b[0m\u001b[1;33m\u001b[0m\u001b[1;33m\u001b[0m\u001b[0m\n",
      "\u001b[1;32m~\\anaconda3\\envs\\fraud_detection\\lib\\site-packages\\sklearn\\neighbors\\_classification.py\u001b[0m in \u001b[0;36mfit\u001b[1;34m(self, X, y)\u001b[0m\n\u001b[0;32m    177\u001b[0m             \u001b[0mThe\u001b[0m \u001b[0mfitted\u001b[0m \u001b[0mk\u001b[0m\u001b[1;33m-\u001b[0m\u001b[0mnearest\u001b[0m \u001b[0mneighbors\u001b[0m \u001b[0mclassifier\u001b[0m\u001b[1;33m.\u001b[0m\u001b[1;33m\u001b[0m\u001b[1;33m\u001b[0m\u001b[0m\n\u001b[0;32m    178\u001b[0m         \"\"\"\n\u001b[1;32m--> 179\u001b[1;33m         \u001b[1;32mreturn\u001b[0m \u001b[0mself\u001b[0m\u001b[1;33m.\u001b[0m\u001b[0m_fit\u001b[0m\u001b[1;33m(\u001b[0m\u001b[0mX\u001b[0m\u001b[1;33m,\u001b[0m \u001b[0my\u001b[0m\u001b[1;33m)\u001b[0m\u001b[1;33m\u001b[0m\u001b[1;33m\u001b[0m\u001b[0m\n\u001b[0m\u001b[0;32m    180\u001b[0m \u001b[1;33m\u001b[0m\u001b[0m\n\u001b[0;32m    181\u001b[0m     \u001b[1;32mdef\u001b[0m \u001b[0mpredict\u001b[0m\u001b[1;33m(\u001b[0m\u001b[0mself\u001b[0m\u001b[1;33m,\u001b[0m \u001b[0mX\u001b[0m\u001b[1;33m)\u001b[0m\u001b[1;33m:\u001b[0m\u001b[1;33m\u001b[0m\u001b[1;33m\u001b[0m\u001b[0m\n",
      "\u001b[1;32m~\\anaconda3\\envs\\fraud_detection\\lib\\site-packages\\sklearn\\neighbors\\_base.py\u001b[0m in \u001b[0;36m_fit\u001b[1;34m(self, X, y)\u001b[0m\n\u001b[0;32m    501\u001b[0m                                   **self.effective_metric_params_)\n\u001b[0;32m    502\u001b[0m         \u001b[1;32melif\u001b[0m \u001b[0mself\u001b[0m\u001b[1;33m.\u001b[0m\u001b[0m_fit_method\u001b[0m \u001b[1;33m==\u001b[0m \u001b[1;34m'kd_tree'\u001b[0m\u001b[1;33m:\u001b[0m\u001b[1;33m\u001b[0m\u001b[1;33m\u001b[0m\u001b[0m\n\u001b[1;32m--> 503\u001b[1;33m             self._tree = KDTree(X, self.leaf_size,\n\u001b[0m\u001b[0;32m    504\u001b[0m                                 \u001b[0mmetric\u001b[0m\u001b[1;33m=\u001b[0m\u001b[0mself\u001b[0m\u001b[1;33m.\u001b[0m\u001b[0meffective_metric_\u001b[0m\u001b[1;33m,\u001b[0m\u001b[1;33m\u001b[0m\u001b[1;33m\u001b[0m\u001b[0m\n\u001b[0;32m    505\u001b[0m                                 **self.effective_metric_params_)\n",
      "\u001b[1;31mKeyboardInterrupt\u001b[0m: "
     ]
    }
   ],
   "source": [
    "knn = KNeighborsClassifier()\n",
    "knn.fit(X_train, y_train)\n",
    "pred = knn.predict(X_valid)"
   ]
  },
  {
   "cell_type": "markdown",
   "id": "0ea2f509",
   "metadata": {
    "hidden": true
   },
   "source": [
    "### Results"
   ]
  },
  {
   "cell_type": "code",
   "execution_count": null,
   "id": "4fd3a3be",
   "metadata": {
    "ExecuteTime": {
     "end_time": "2021-08-18T20:49:46.317159Z",
     "start_time": "2021-08-18T20:46:57.431Z"
    },
    "hidden": true
   },
   "outputs": [],
   "source": [
    "knn_result = ml_metrics('KNN', y_valid, pred)\n",
    "knn_result"
   ]
  },
  {
   "cell_type": "markdown",
   "id": "0a4bef2f",
   "metadata": {
    "hidden": true
   },
   "source": [
    "### Cross Validation"
   ]
  },
  {
   "cell_type": "code",
   "execution_count": null,
   "id": "74bf5a23",
   "metadata": {
    "ExecuteTime": {
     "end_time": "2021-08-18T20:49:46.318178Z",
     "start_time": "2021-08-18T20:47:00.277Z"
    },
    "hidden": true
   },
   "outputs": [],
   "source": [
    "knn_result_cv = cross_validation('KNN_CV', KNeighborsClassifier(), X_train, y_train)\n",
    "knn_result_cv"
   ]
  },
  {
   "cell_type": "markdown",
   "id": "dafc2f30",
   "metadata": {
    "heading_collapsed": true
   },
   "source": [
    "## 7.4 ADA Boosting"
   ]
  },
  {
   "cell_type": "code",
   "execution_count": 45,
   "id": "0f4e2582",
   "metadata": {
    "ExecuteTime": {
     "end_time": "2021-08-18T20:45:05.889487Z",
     "start_time": "2021-08-18T20:45:05.873457Z"
    },
    "hidden": true
   },
   "outputs": [],
   "source": [
    "from sklearn.ensemble import AdaBoostClassifier"
   ]
  },
  {
   "cell_type": "code",
   "execution_count": 46,
   "id": "49c0b097",
   "metadata": {
    "ExecuteTime": {
     "end_time": "2021-08-18T20:45:23.299686Z",
     "start_time": "2021-08-18T20:45:07.197160Z"
    },
    "hidden": true
   },
   "outputs": [],
   "source": [
    "ada = AdaBoostClassifier()\n",
    "ada.fit(X_train, y_train)\n",
    "pred = ada.predict(X_valid)"
   ]
  },
  {
   "cell_type": "markdown",
   "id": "15a3048a",
   "metadata": {
    "hidden": true
   },
   "source": [
    "### Results"
   ]
  },
  {
   "cell_type": "code",
   "execution_count": 47,
   "id": "09a2ef58",
   "metadata": {
    "ExecuteTime": {
     "end_time": "2021-08-18T20:45:23.376811Z",
     "start_time": "2021-08-18T20:45:23.299686Z"
    },
    "hidden": true
   },
   "outputs": [
    {
     "data": {
      "text/html": [
       "<div>\n",
       "<style scoped>\n",
       "    .dataframe tbody tr th:only-of-type {\n",
       "        vertical-align: middle;\n",
       "    }\n",
       "\n",
       "    .dataframe tbody tr th {\n",
       "        vertical-align: top;\n",
       "    }\n",
       "\n",
       "    .dataframe thead th {\n",
       "        text-align: right;\n",
       "    }\n",
       "</style>\n",
       "<table border=\"1\" class=\"dataframe\">\n",
       "  <thead>\n",
       "    <tr style=\"text-align: right;\">\n",
       "      <th></th>\n",
       "      <th>Balanced Accuracy</th>\n",
       "      <th>Precision</th>\n",
       "      <th>Recall</th>\n",
       "      <th>F1</th>\n",
       "    </tr>\n",
       "  </thead>\n",
       "  <tbody>\n",
       "    <tr>\n",
       "      <th>AdaBoost</th>\n",
       "      <td>0.790</td>\n",
       "      <td>0.440</td>\n",
       "      <td>0.590</td>\n",
       "      <td>0.500</td>\n",
       "    </tr>\n",
       "  </tbody>\n",
       "</table>\n",
       "</div>"
      ],
      "text/plain": [
       "          Balanced Accuracy  Precision  Recall    F1\n",
       "AdaBoost              0.790      0.440   0.590 0.500"
      ]
     },
     "execution_count": 47,
     "metadata": {},
     "output_type": "execute_result"
    }
   ],
   "source": [
    "ada_result = ml_metrics('AdaBoost', y_valid, pred)\n",
    "ada_result"
   ]
  },
  {
   "cell_type": "markdown",
   "id": "4d24e848",
   "metadata": {
    "hidden": true
   },
   "source": [
    "### Cross Validation"
   ]
  },
  {
   "cell_type": "code",
   "execution_count": 48,
   "id": "9e2f7377",
   "metadata": {
    "ExecuteTime": {
     "end_time": "2021-08-18T20:46:32.841299Z",
     "start_time": "2021-08-18T20:45:23.377812Z"
    },
    "hidden": true
   },
   "outputs": [
    {
     "data": {
      "text/html": [
       "<div>\n",
       "<style scoped>\n",
       "    .dataframe tbody tr th:only-of-type {\n",
       "        vertical-align: middle;\n",
       "    }\n",
       "\n",
       "    .dataframe tbody tr th {\n",
       "        vertical-align: top;\n",
       "    }\n",
       "\n",
       "    .dataframe thead th {\n",
       "        text-align: right;\n",
       "    }\n",
       "</style>\n",
       "<table border=\"1\" class=\"dataframe\">\n",
       "  <thead>\n",
       "    <tr style=\"text-align: right;\">\n",
       "      <th></th>\n",
       "      <th>Balanced Accuracy</th>\n",
       "      <th>Precision</th>\n",
       "      <th>Recall</th>\n",
       "      <th>F1</th>\n",
       "    </tr>\n",
       "  </thead>\n",
       "  <tbody>\n",
       "    <tr>\n",
       "      <th>AdaBoost_CV</th>\n",
       "      <td>0.76 +/- 0.01</td>\n",
       "      <td>0.96 +/- 0.02</td>\n",
       "      <td>0.52 +/- 0.02</td>\n",
       "      <td>0.68 +/- 0.02</td>\n",
       "    </tr>\n",
       "  </tbody>\n",
       "</table>\n",
       "</div>"
      ],
      "text/plain": [
       "            Balanced Accuracy      Precision         Recall             F1\n",
       "AdaBoost_CV     0.76 +/- 0.01  0.96 +/- 0.02  0.52 +/- 0.02  0.68 +/- 0.02"
      ]
     },
     "execution_count": 48,
     "metadata": {},
     "output_type": "execute_result"
    }
   ],
   "source": [
    "ada_result_cv = cross_validation('AdaBoost_CV', AdaBoostClassifier(), X_train, y_train)\n",
    "ada_result_cv"
   ]
  },
  {
   "cell_type": "markdown",
   "id": "37d25c21",
   "metadata": {
    "heading_collapsed": true
   },
   "source": [
    "## 7.5 LightGBM"
   ]
  },
  {
   "cell_type": "code",
   "execution_count": 33,
   "id": "c94ee01d",
   "metadata": {
    "ExecuteTime": {
     "end_time": "2021-08-18T20:39:33.421618Z",
     "start_time": "2021-08-18T20:39:33.408629Z"
    },
    "hidden": true
   },
   "outputs": [],
   "source": [
    "from lightgbm import LGBMClassifier "
   ]
  },
  {
   "cell_type": "code",
   "execution_count": 34,
   "id": "2bd03ec0",
   "metadata": {
    "ExecuteTime": {
     "end_time": "2021-08-18T20:39:35.433217Z",
     "start_time": "2021-08-18T20:39:34.081726Z"
    },
    "hidden": true
   },
   "outputs": [],
   "source": [
    "lgb = LGBMClassifier(objective='binary', class_weight='balanced')\n",
    "lgb.fit(X_train, y_train)\n",
    "pred = lgb.predict(X_valid)"
   ]
  },
  {
   "cell_type": "markdown",
   "id": "381d2256",
   "metadata": {
    "hidden": true
   },
   "source": [
    "### Results"
   ]
  },
  {
   "cell_type": "code",
   "execution_count": 35,
   "id": "d6a087e1",
   "metadata": {
    "ExecuteTime": {
     "end_time": "2021-08-18T20:39:36.584728Z",
     "start_time": "2021-08-18T20:39:36.511978Z"
    },
    "hidden": true
   },
   "outputs": [
    {
     "data": {
      "text/html": [
       "<div>\n",
       "<style scoped>\n",
       "    .dataframe tbody tr th:only-of-type {\n",
       "        vertical-align: middle;\n",
       "    }\n",
       "\n",
       "    .dataframe tbody tr th {\n",
       "        vertical-align: top;\n",
       "    }\n",
       "\n",
       "    .dataframe thead th {\n",
       "        text-align: right;\n",
       "    }\n",
       "</style>\n",
       "<table border=\"1\" class=\"dataframe\">\n",
       "  <thead>\n",
       "    <tr style=\"text-align: right;\">\n",
       "      <th></th>\n",
       "      <th>Balanced Accuracy</th>\n",
       "      <th>Precision</th>\n",
       "      <th>Recall</th>\n",
       "      <th>F1</th>\n",
       "    </tr>\n",
       "  </thead>\n",
       "  <tbody>\n",
       "    <tr>\n",
       "      <th>LightGBM</th>\n",
       "      <td>0.980</td>\n",
       "      <td>0.150</td>\n",
       "      <td>0.980</td>\n",
       "      <td>0.260</td>\n",
       "    </tr>\n",
       "  </tbody>\n",
       "</table>\n",
       "</div>"
      ],
      "text/plain": [
       "          Balanced Accuracy  Precision  Recall    F1\n",
       "LightGBM              0.980      0.150   0.980 0.260"
      ]
     },
     "execution_count": 35,
     "metadata": {},
     "output_type": "execute_result"
    }
   ],
   "source": [
    "lgbm_result = ml_metrics('LightGBM', y_valid, pred)\n",
    "lgbm_result"
   ]
  },
  {
   "cell_type": "markdown",
   "id": "a83f9880",
   "metadata": {
    "hidden": true
   },
   "source": [
    "### Cross Validation"
   ]
  },
  {
   "cell_type": "code",
   "execution_count": 36,
   "id": "e9026031",
   "metadata": {
    "ExecuteTime": {
     "end_time": "2021-08-18T20:39:47.265460Z",
     "start_time": "2021-08-18T20:39:40.922732Z"
    },
    "hidden": true
   },
   "outputs": [
    {
     "data": {
      "text/html": [
       "<div>\n",
       "<style scoped>\n",
       "    .dataframe tbody tr th:only-of-type {\n",
       "        vertical-align: middle;\n",
       "    }\n",
       "\n",
       "    .dataframe tbody tr th {\n",
       "        vertical-align: top;\n",
       "    }\n",
       "\n",
       "    .dataframe thead th {\n",
       "        text-align: right;\n",
       "    }\n",
       "</style>\n",
       "<table border=\"1\" class=\"dataframe\">\n",
       "  <thead>\n",
       "    <tr style=\"text-align: right;\">\n",
       "      <th></th>\n",
       "      <th>Balanced Accuracy</th>\n",
       "      <th>Precision</th>\n",
       "      <th>Recall</th>\n",
       "      <th>F1</th>\n",
       "    </tr>\n",
       "  </thead>\n",
       "  <tbody>\n",
       "    <tr>\n",
       "      <th>LightGBM_CV</th>\n",
       "      <td>0.96 +/- 0.0</td>\n",
       "      <td>0.55 +/- 0.01</td>\n",
       "      <td>0.93 +/- 0.01</td>\n",
       "      <td>0.69 +/- 0.01</td>\n",
       "    </tr>\n",
       "  </tbody>\n",
       "</table>\n",
       "</div>"
      ],
      "text/plain": [
       "            Balanced Accuracy      Precision         Recall             F1\n",
       "LightGBM_CV      0.96 +/- 0.0  0.55 +/- 0.01  0.93 +/- 0.01  0.69 +/- 0.01"
      ]
     },
     "execution_count": 36,
     "metadata": {},
     "output_type": "execute_result"
    }
   ],
   "source": [
    "lgbm_result_cv = cross_validation('LightGBM_CV', LGBMClassifier(objective='binary', class_weight='balanced'), X_train, y_train)\n",
    "lgbm_result_cv"
   ]
  },
  {
   "cell_type": "markdown",
   "id": "02a77c7f",
   "metadata": {
    "heading_collapsed": true
   },
   "source": [
    "## 7.6 Random Forest"
   ]
  },
  {
   "cell_type": "code",
   "execution_count": 37,
   "id": "d343160f",
   "metadata": {
    "ExecuteTime": {
     "end_time": "2021-08-18T20:40:11.780646Z",
     "start_time": "2021-08-18T20:40:11.759665Z"
    },
    "hidden": true
   },
   "outputs": [],
   "source": [
    "from sklearn.ensemble import RandomForestClassifier"
   ]
  },
  {
   "cell_type": "code",
   "execution_count": 38,
   "id": "bc1d428e",
   "metadata": {
    "ExecuteTime": {
     "end_time": "2021-08-18T20:40:37.987851Z",
     "start_time": "2021-08-18T20:40:12.252389Z"
    },
    "hidden": true
   },
   "outputs": [],
   "source": [
    "rf = RandomForestClassifier(class_weight='balanced')\n",
    "rf.fit(X_train, y_train)\n",
    "pred = rf.predict(X_valid)"
   ]
  },
  {
   "cell_type": "markdown",
   "id": "8fa3272c",
   "metadata": {
    "hidden": true
   },
   "source": [
    "### Results"
   ]
  },
  {
   "cell_type": "code",
   "execution_count": 39,
   "id": "e7203101",
   "metadata": {
    "ExecuteTime": {
     "end_time": "2021-08-18T20:40:38.051314Z",
     "start_time": "2021-08-18T20:40:37.987851Z"
    },
    "hidden": true
   },
   "outputs": [
    {
     "data": {
      "text/html": [
       "<div>\n",
       "<style scoped>\n",
       "    .dataframe tbody tr th:only-of-type {\n",
       "        vertical-align: middle;\n",
       "    }\n",
       "\n",
       "    .dataframe tbody tr th {\n",
       "        vertical-align: top;\n",
       "    }\n",
       "\n",
       "    .dataframe thead th {\n",
       "        text-align: right;\n",
       "    }\n",
       "</style>\n",
       "<table border=\"1\" class=\"dataframe\">\n",
       "  <thead>\n",
       "    <tr style=\"text-align: right;\">\n",
       "      <th></th>\n",
       "      <th>Balanced Accuracy</th>\n",
       "      <th>Precision</th>\n",
       "      <th>Recall</th>\n",
       "      <th>F1</th>\n",
       "    </tr>\n",
       "  </thead>\n",
       "  <tbody>\n",
       "    <tr>\n",
       "      <th>Random Forest</th>\n",
       "      <td>0.870</td>\n",
       "      <td>0.790</td>\n",
       "      <td>0.740</td>\n",
       "      <td>0.770</td>\n",
       "    </tr>\n",
       "  </tbody>\n",
       "</table>\n",
       "</div>"
      ],
      "text/plain": [
       "               Balanced Accuracy  Precision  Recall    F1\n",
       "Random Forest              0.870      0.790   0.740 0.770"
      ]
     },
     "execution_count": 39,
     "metadata": {},
     "output_type": "execute_result"
    }
   ],
   "source": [
    "rf_result = ml_metrics('Random Forest', y_valid, pred)\n",
    "rf_result"
   ]
  },
  {
   "cell_type": "markdown",
   "id": "737054a9",
   "metadata": {
    "hidden": true
   },
   "source": [
    "### Cross Validation"
   ]
  },
  {
   "cell_type": "code",
   "execution_count": 40,
   "id": "5d31fffe",
   "metadata": {
    "ExecuteTime": {
     "end_time": "2021-08-18T20:42:26.364552Z",
     "start_time": "2021-08-18T20:40:38.053314Z"
    },
    "hidden": true
   },
   "outputs": [
    {
     "data": {
      "text/html": [
       "<div>\n",
       "<style scoped>\n",
       "    .dataframe tbody tr th:only-of-type {\n",
       "        vertical-align: middle;\n",
       "    }\n",
       "\n",
       "    .dataframe tbody tr th {\n",
       "        vertical-align: top;\n",
       "    }\n",
       "\n",
       "    .dataframe thead th {\n",
       "        text-align: right;\n",
       "    }\n",
       "</style>\n",
       "<table border=\"1\" class=\"dataframe\">\n",
       "  <thead>\n",
       "    <tr style=\"text-align: right;\">\n",
       "      <th></th>\n",
       "      <th>Balanced Accuracy</th>\n",
       "      <th>Precision</th>\n",
       "      <th>Recall</th>\n",
       "      <th>F1</th>\n",
       "    </tr>\n",
       "  </thead>\n",
       "  <tbody>\n",
       "    <tr>\n",
       "      <th>Random Forest CV</th>\n",
       "      <td>0.86 +/- 0.01</td>\n",
       "      <td>0.99 +/- 0.01</td>\n",
       "      <td>0.72 +/- 0.01</td>\n",
       "      <td>0.83 +/- 0.01</td>\n",
       "    </tr>\n",
       "  </tbody>\n",
       "</table>\n",
       "</div>"
      ],
      "text/plain": [
       "                 Balanced Accuracy      Precision         Recall             F1\n",
       "Random Forest CV     0.86 +/- 0.01  0.99 +/- 0.01  0.72 +/- 0.01  0.83 +/- 0.01"
      ]
     },
     "execution_count": 40,
     "metadata": {},
     "output_type": "execute_result"
    }
   ],
   "source": [
    "rf_result_cv = cross_validation('Random Forest CV', RandomForestClassifier(class_weight='balanced'), X_train, y_train)\n",
    "rf_result_cv"
   ]
  },
  {
   "cell_type": "markdown",
   "id": "10abdcca",
   "metadata": {
    "heading_collapsed": true
   },
   "source": [
    "## 7.7 XGBoost"
   ]
  },
  {
   "cell_type": "code",
   "execution_count": 41,
   "id": "d84fb3e0",
   "metadata": {
    "ExecuteTime": {
     "end_time": "2021-08-18T20:42:26.441992Z",
     "start_time": "2021-08-18T20:42:26.366551Z"
    },
    "hidden": true
   },
   "outputs": [],
   "source": [
    "from xgboost import XGBClassifier"
   ]
  },
  {
   "cell_type": "code",
   "execution_count": 42,
   "id": "1fa8c4e4",
   "metadata": {
    "ExecuteTime": {
     "end_time": "2021-08-18T20:42:51.722272Z",
     "start_time": "2021-08-18T20:42:26.442992Z"
    },
    "hidden": true
   },
   "outputs": [],
   "source": [
    "xgb = XGBClassifier(objective='binary:logistic', verbosity=0)\n",
    "xgb.fit(X_train, y_train)\n",
    "pred = xgb.predict(X_valid)"
   ]
  },
  {
   "cell_type": "markdown",
   "id": "ad9a118a",
   "metadata": {
    "hidden": true
   },
   "source": [
    "### Results"
   ]
  },
  {
   "cell_type": "code",
   "execution_count": 43,
   "id": "ec44c7d5",
   "metadata": {
    "ExecuteTime": {
     "end_time": "2021-08-18T20:42:51.862649Z",
     "start_time": "2021-08-18T20:42:51.722272Z"
    },
    "hidden": true
   },
   "outputs": [
    {
     "data": {
      "text/html": [
       "<div>\n",
       "<style scoped>\n",
       "    .dataframe tbody tr th:only-of-type {\n",
       "        vertical-align: middle;\n",
       "    }\n",
       "\n",
       "    .dataframe tbody tr th {\n",
       "        vertical-align: top;\n",
       "    }\n",
       "\n",
       "    .dataframe thead th {\n",
       "        text-align: right;\n",
       "    }\n",
       "</style>\n",
       "<table border=\"1\" class=\"dataframe\">\n",
       "  <thead>\n",
       "    <tr style=\"text-align: right;\">\n",
       "      <th></th>\n",
       "      <th>Balanced Accuracy</th>\n",
       "      <th>Precision</th>\n",
       "      <th>Recall</th>\n",
       "      <th>F1</th>\n",
       "    </tr>\n",
       "  </thead>\n",
       "  <tbody>\n",
       "    <tr>\n",
       "      <th>XGBoost</th>\n",
       "      <td>0.970</td>\n",
       "      <td>0.410</td>\n",
       "      <td>0.940</td>\n",
       "      <td>0.570</td>\n",
       "    </tr>\n",
       "  </tbody>\n",
       "</table>\n",
       "</div>"
      ],
      "text/plain": [
       "         Balanced Accuracy  Precision  Recall    F1\n",
       "XGBoost              0.970      0.410   0.940 0.570"
      ]
     },
     "execution_count": 43,
     "metadata": {},
     "output_type": "execute_result"
    }
   ],
   "source": [
    "xgb_result = ml_metrics('XGBoost', y_valid, pred)\n",
    "xgb_result"
   ]
  },
  {
   "cell_type": "markdown",
   "id": "173acaae",
   "metadata": {
    "hidden": true
   },
   "source": [
    "### Cross Validation"
   ]
  },
  {
   "cell_type": "code",
   "execution_count": 44,
   "id": "11c65b60",
   "metadata": {
    "ExecuteTime": {
     "end_time": "2021-08-18T20:44:25.987031Z",
     "start_time": "2021-08-18T20:42:51.864649Z"
    },
    "hidden": true
   },
   "outputs": [
    {
     "data": {
      "text/html": [
       "<div>\n",
       "<style scoped>\n",
       "    .dataframe tbody tr th:only-of-type {\n",
       "        vertical-align: middle;\n",
       "    }\n",
       "\n",
       "    .dataframe tbody tr th {\n",
       "        vertical-align: top;\n",
       "    }\n",
       "\n",
       "    .dataframe thead th {\n",
       "        text-align: right;\n",
       "    }\n",
       "</style>\n",
       "<table border=\"1\" class=\"dataframe\">\n",
       "  <thead>\n",
       "    <tr style=\"text-align: right;\">\n",
       "      <th></th>\n",
       "      <th>Balanced Accuracy</th>\n",
       "      <th>Precision</th>\n",
       "      <th>Recall</th>\n",
       "      <th>F1</th>\n",
       "    </tr>\n",
       "  </thead>\n",
       "  <tbody>\n",
       "    <tr>\n",
       "      <th>XGBoost_CV</th>\n",
       "      <td>0.9 +/- 0.01</td>\n",
       "      <td>0.97 +/- 0.01</td>\n",
       "      <td>0.81 +/- 0.01</td>\n",
       "      <td>0.88 +/- 0.01</td>\n",
       "    </tr>\n",
       "  </tbody>\n",
       "</table>\n",
       "</div>"
      ],
      "text/plain": [
       "           Balanced Accuracy      Precision         Recall             F1\n",
       "XGBoost_CV      0.9 +/- 0.01  0.97 +/- 0.01  0.81 +/- 0.01  0.88 +/- 0.01"
      ]
     },
     "execution_count": 44,
     "metadata": {},
     "output_type": "execute_result"
    }
   ],
   "source": [
    "xgb_result_cv = cross_validation('XGBoost_CV', XGBClassifier(objective='binary:logistic', verbosity=0), X_train, y_train)\n",
    "xgb_result_cv"
   ]
  },
  {
   "cell_type": "markdown",
   "id": "992a78be",
   "metadata": {},
   "source": [
    "## 7.8 Results"
   ]
  },
  {
   "cell_type": "code",
   "execution_count": 51,
   "id": "0855a8d4",
   "metadata": {
    "ExecuteTime": {
     "end_time": "2021-08-18T20:50:06.877757Z",
     "start_time": "2021-08-18T20:50:06.804761Z"
    },
    "scrolled": true
   },
   "outputs": [
    {
     "data": {
      "text/html": [
       "<style  type=\"text/css\" >\n",
       "#T_05f20_row2_col0,#T_05f20_row2_col2,#T_05f20_row4_col1,#T_05f20_row4_col3{\n",
       "            background-color:  lightgreen;\n",
       "        }</style><table id=\"T_05f20_\" ><thead>    <tr>        <th class=\"blank level0\" ></th>        <th class=\"col_heading level0 col0\" >Balanced Accuracy</th>        <th class=\"col_heading level0 col1\" >Precision</th>        <th class=\"col_heading level0 col2\" >Recall</th>        <th class=\"col_heading level0 col3\" >F1</th>    </tr></thead><tbody>\n",
       "                <tr>\n",
       "                        <th id=\"T_05f20_level0_row0\" class=\"row_heading level0 row0\" >dummy</th>\n",
       "                        <td id=\"T_05f20_row0_col0\" class=\"data row0 col0\" >0.500000</td>\n",
       "                        <td id=\"T_05f20_row0_col1\" class=\"data row0 col1\" >0.000000</td>\n",
       "                        <td id=\"T_05f20_row0_col2\" class=\"data row0 col2\" >0.000000</td>\n",
       "                        <td id=\"T_05f20_row0_col3\" class=\"data row0 col3\" >0.000000</td>\n",
       "            </tr>\n",
       "            <tr>\n",
       "                        <th id=\"T_05f20_level0_row1\" class=\"row_heading level0 row1\" >LogisticRegression</th>\n",
       "                        <td id=\"T_05f20_row1_col0\" class=\"data row1 col0\" >0.890000</td>\n",
       "                        <td id=\"T_05f20_row1_col1\" class=\"data row1 col1\" >0.010000</td>\n",
       "                        <td id=\"T_05f20_row1_col2\" class=\"data row1 col2\" >0.870000</td>\n",
       "                        <td id=\"T_05f20_row1_col3\" class=\"data row1 col3\" >0.030000</td>\n",
       "            </tr>\n",
       "            <tr>\n",
       "                        <th id=\"T_05f20_level0_row2\" class=\"row_heading level0 row2\" >LightGBM</th>\n",
       "                        <td id=\"T_05f20_row2_col0\" class=\"data row2 col0\" >0.980000</td>\n",
       "                        <td id=\"T_05f20_row2_col1\" class=\"data row2 col1\" >0.150000</td>\n",
       "                        <td id=\"T_05f20_row2_col2\" class=\"data row2 col2\" >0.980000</td>\n",
       "                        <td id=\"T_05f20_row2_col3\" class=\"data row2 col3\" >0.260000</td>\n",
       "            </tr>\n",
       "            <tr>\n",
       "                        <th id=\"T_05f20_level0_row3\" class=\"row_heading level0 row3\" >AdaBoost</th>\n",
       "                        <td id=\"T_05f20_row3_col0\" class=\"data row3 col0\" >0.790000</td>\n",
       "                        <td id=\"T_05f20_row3_col1\" class=\"data row3 col1\" >0.440000</td>\n",
       "                        <td id=\"T_05f20_row3_col2\" class=\"data row3 col2\" >0.590000</td>\n",
       "                        <td id=\"T_05f20_row3_col3\" class=\"data row3 col3\" >0.500000</td>\n",
       "            </tr>\n",
       "            <tr>\n",
       "                        <th id=\"T_05f20_level0_row4\" class=\"row_heading level0 row4\" >Random Forest</th>\n",
       "                        <td id=\"T_05f20_row4_col0\" class=\"data row4 col0\" >0.870000</td>\n",
       "                        <td id=\"T_05f20_row4_col1\" class=\"data row4 col1\" >0.790000</td>\n",
       "                        <td id=\"T_05f20_row4_col2\" class=\"data row4 col2\" >0.740000</td>\n",
       "                        <td id=\"T_05f20_row4_col3\" class=\"data row4 col3\" >0.770000</td>\n",
       "            </tr>\n",
       "            <tr>\n",
       "                        <th id=\"T_05f20_level0_row5\" class=\"row_heading level0 row5\" >XGBoost</th>\n",
       "                        <td id=\"T_05f20_row5_col0\" class=\"data row5 col0\" >0.970000</td>\n",
       "                        <td id=\"T_05f20_row5_col1\" class=\"data row5 col1\" >0.410000</td>\n",
       "                        <td id=\"T_05f20_row5_col2\" class=\"data row5 col2\" >0.940000</td>\n",
       "                        <td id=\"T_05f20_row5_col3\" class=\"data row5 col3\" >0.570000</td>\n",
       "            </tr>\n",
       "    </tbody></table>"
      ],
      "text/plain": [
       "<pandas.io.formats.style.Styler at 0x239080c0340>"
      ]
     },
     "execution_count": 51,
     "metadata": {},
     "output_type": "execute_result"
    }
   ],
   "source": [
    "df_results = pd.concat([dummy_result, logistic_regression_result, lgbm_result, ada_result, rf_result, xgb_result])\n",
    "df_results.style.highlight_max(color='lightgreen', axis=0)"
   ]
  },
  {
   "cell_type": "markdown",
   "id": "38f50f93",
   "metadata": {},
   "source": [
    "### Cross Validation Results"
   ]
  },
  {
   "cell_type": "code",
   "execution_count": 52,
   "id": "056a8da4",
   "metadata": {
    "ExecuteTime": {
     "end_time": "2021-08-18T20:50:09.636598Z",
     "start_time": "2021-08-18T20:50:09.626599Z"
    }
   },
   "outputs": [
    {
     "data": {
      "text/html": [
       "<div>\n",
       "<style scoped>\n",
       "    .dataframe tbody tr th:only-of-type {\n",
       "        vertical-align: middle;\n",
       "    }\n",
       "\n",
       "    .dataframe tbody tr th {\n",
       "        vertical-align: top;\n",
       "    }\n",
       "\n",
       "    .dataframe thead th {\n",
       "        text-align: right;\n",
       "    }\n",
       "</style>\n",
       "<table border=\"1\" class=\"dataframe\">\n",
       "  <thead>\n",
       "    <tr style=\"text-align: right;\">\n",
       "      <th></th>\n",
       "      <th>Balanced Accuracy</th>\n",
       "      <th>Precision</th>\n",
       "      <th>Recall</th>\n",
       "      <th>F1</th>\n",
       "    </tr>\n",
       "  </thead>\n",
       "  <tbody>\n",
       "    <tr>\n",
       "      <th>Dummy_CV</th>\n",
       "      <td>0.5 +/- 0.0</td>\n",
       "      <td>0.0 +/- 0.0</td>\n",
       "      <td>0.0 +/- 0.0</td>\n",
       "      <td>0.0 +/- 0.0</td>\n",
       "    </tr>\n",
       "    <tr>\n",
       "      <th>LogisticRegression_CV</th>\n",
       "      <td>0.85 +/- 0.01</td>\n",
       "      <td>0.01 +/- 0.0</td>\n",
       "      <td>0.78 +/- 0.01</td>\n",
       "      <td>0.02 +/- 0.0</td>\n",
       "    </tr>\n",
       "    <tr>\n",
       "      <th>LightGBM_CV</th>\n",
       "      <td>0.96 +/- 0.0</td>\n",
       "      <td>0.55 +/- 0.01</td>\n",
       "      <td>0.93 +/- 0.01</td>\n",
       "      <td>0.69 +/- 0.01</td>\n",
       "    </tr>\n",
       "    <tr>\n",
       "      <th>AdaBoost_CV</th>\n",
       "      <td>0.76 +/- 0.01</td>\n",
       "      <td>0.96 +/- 0.02</td>\n",
       "      <td>0.52 +/- 0.02</td>\n",
       "      <td>0.68 +/- 0.02</td>\n",
       "    </tr>\n",
       "    <tr>\n",
       "      <th>Random Forest CV</th>\n",
       "      <td>0.86 +/- 0.01</td>\n",
       "      <td>0.99 +/- 0.01</td>\n",
       "      <td>0.72 +/- 0.01</td>\n",
       "      <td>0.83 +/- 0.01</td>\n",
       "    </tr>\n",
       "    <tr>\n",
       "      <th>XGBoost_CV</th>\n",
       "      <td>0.9 +/- 0.01</td>\n",
       "      <td>0.97 +/- 0.01</td>\n",
       "      <td>0.81 +/- 0.01</td>\n",
       "      <td>0.88 +/- 0.01</td>\n",
       "    </tr>\n",
       "  </tbody>\n",
       "</table>\n",
       "</div>"
      ],
      "text/plain": [
       "                      Balanced Accuracy      Precision         Recall             F1\n",
       "Dummy_CV                    0.5 +/- 0.0    0.0 +/- 0.0    0.0 +/- 0.0    0.0 +/- 0.0\n",
       "LogisticRegression_CV     0.85 +/- 0.01   0.01 +/- 0.0  0.78 +/- 0.01   0.02 +/- 0.0\n",
       "LightGBM_CV                0.96 +/- 0.0  0.55 +/- 0.01  0.93 +/- 0.01  0.69 +/- 0.01\n",
       "AdaBoost_CV               0.76 +/- 0.01  0.96 +/- 0.02  0.52 +/- 0.02  0.68 +/- 0.02\n",
       "Random Forest CV          0.86 +/- 0.01  0.99 +/- 0.01  0.72 +/- 0.01  0.83 +/- 0.01\n",
       "XGBoost_CV                 0.9 +/- 0.01  0.97 +/- 0.01  0.81 +/- 0.01  0.88 +/- 0.01"
      ]
     },
     "execution_count": 52,
     "metadata": {},
     "output_type": "execute_result"
    }
   ],
   "source": [
    "df_results_cv = pd.concat([dummy_result_cv, logistic_regression_result_cv, lgbm_result_cv, ada_result_cv, rf_result_cv, xgb_result_cv])\n",
    "df_results_cv"
   ]
  },
  {
   "cell_type": "markdown",
   "id": "31306a88",
   "metadata": {},
   "source": [
    "# 8.0 Hyperparameter Fine Tuning"
   ]
  },
  {
   "cell_type": "code",
   "execution_count": null,
   "id": "38083463",
   "metadata": {},
   "outputs": [],
   "source": []
  },
  {
   "cell_type": "markdown",
   "id": "d39f72d5",
   "metadata": {},
   "source": [
    "# 9.0 Conlclusions"
   ]
  },
  {
   "cell_type": "code",
   "execution_count": null,
   "id": "d2bbb49f",
   "metadata": {},
   "outputs": [],
   "source": []
  },
  {
   "cell_type": "markdown",
   "id": "85dcf4b7",
   "metadata": {},
   "source": [
    "# 10.0 Deploy"
   ]
  },
  {
   "cell_type": "code",
   "execution_count": null,
   "id": "3b02da70",
   "metadata": {},
   "outputs": [],
   "source": []
  }
 ],
 "metadata": {
  "kernelspec": {
   "display_name": "Python 3",
   "language": "python",
   "name": "python3"
  },
  "language_info": {
   "codemirror_mode": {
    "name": "ipython",
    "version": 3
   },
   "file_extension": ".py",
   "mimetype": "text/x-python",
   "name": "python",
   "nbconvert_exporter": "python",
   "pygments_lexer": "ipython3",
   "version": "3.8.11"
  },
  "toc": {
   "base_numbering": 1,
   "nav_menu": {},
   "number_sections": false,
   "sideBar": true,
   "skip_h1_title": false,
   "title_cell": "Table of Contents",
   "title_sidebar": "Contents",
   "toc_cell": false,
   "toc_position": {},
   "toc_section_display": true,
   "toc_window_display": false
  }
 },
 "nbformat": 4,
 "nbformat_minor": 5
}
